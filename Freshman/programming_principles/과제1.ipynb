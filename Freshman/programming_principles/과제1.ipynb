{
 "cells": [
  {
   "attachments": {},
   "cell_type": "markdown",
   "id": "50f8b146",
   "metadata": {},
   "source": [
    "#### 교재 p139 연습문제 12\n",
    "    -연도를 입력하면 띠를 출력하는 프로그램을 작성\n",
    "    -띠를 12로 나누어서 나머지값으로 결정\n",
    "    -나머지가 0이면 원숭이띠, 1이면 닭띠, 2이면 개띠, ... 11이면 양띠\n",
    "    -조건) 딕셔너리로 띠를 저장한다"
   ]
  },
  {
   "cell_type": "code",
   "execution_count": 83,
   "id": "8bd84a7c",
   "metadata": {},
   "outputs": [
    {
     "name": "stdout",
     "output_type": "stream",
     "text": [
      "용띠\n"
     ]
    }
   ],
   "source": [
    "year = int(input())\n",
    "dee_value = {0 : '원숭이띠', 1 : '닭띠', 2 : '개띠', 3:\"돼지띠\", 4:'쥐띠', 5:'소띠', 6: '호랑이띠', 7: '토끼띠', 8: '용띠', 9:'뱀띠', 10:'말띠', 11:'양띠'}\n",
    "\n",
    "dee = int(year % 12)\n",
    "\n",
    "# 딕셔너리에서 dee키에 맞는 값를 가져온다\n",
    "print(dee_value.get(dee))"
   ]
  },
  {
   "attachments": {},
   "cell_type": "markdown",
   "id": "bf4fbd95",
   "metadata": {},
   "source": [
    "#### 교재 p140 연습문제 15\n",
    "    -사용자로부터 영어 단어를 받아서 단어가 단수인지, 복수인지 판별하여 출력하는 프로그램 작성\n",
    "    - 조건)복수 단어는 무조건 \"s\"로 끝난다고 가정"
   ]
  },
  {
   "cell_type": "code",
   "execution_count": 81,
   "id": "57005fd5",
   "metadata": {},
   "outputs": [
    {
     "name": "stdout",
     "output_type": "stream",
     "text": [
      "단수\n"
     ]
    }
   ],
   "source": [
    "word = str(input())\n",
    "if word[len(word)-1] == 's':\n",
    "    print('복수')\n",
    "else:\n",
    "    print('단수')"
   ]
  },
  {
   "attachments": {},
   "cell_type": "markdown",
   "id": "03e9d72b",
   "metadata": {},
   "source": [
    "#### 교재 p141 연습문제 18\n",
    "    - 사용자로부터 변수 이름을 입력받아 적합한 이름인지 반별하는 프로그램 작성\n",
    "    - 조건1)첫글자는 숫자이면 안된다. 척글자를 제오한 나머지는 숫자가 포함되어도 된다\n",
    "    - 조건2) 조건1을 만족하는 정규식 표현으로 코드를 완성"
   ]
  },
  {
   "cell_type": "code",
   "execution_count": 101,
   "id": "d5bb3cc7",
   "metadata": {},
   "outputs": [
    {
     "name": "stdout",
     "output_type": "stream",
     "text": [
      "부적합한 변수 이름입니다.\n"
     ]
    }
   ],
   "source": [
    "# re import!\n",
    "from re import *\n",
    "\n",
    "# 변수 이름 입력 받기\n",
    "name = input(\"변수 이름을 입력하세요: \")\n",
    "\n",
    "# 정규식 검사\n",
    "# 이 문제의 조건에서는 첫 글자에만 숫자만 안 들어가야함\n",
    "if match(r\"^[a-zA-Z_]\", name):\n",
    "    print(\"적합한 변수 이름입니다.\")\n",
    "else: #숫자가 있는 경우 \n",
    "    print(\"부적합한 변수 이름입니다.\")"
   ]
  },
  {
   "cell_type": "code",
   "execution_count": 102,
   "id": "7c34b77a",
   "metadata": {},
   "outputs": [
    {
     "name": "stdout",
     "output_type": "stream",
     "text": [
      "적합한 변수 이름입니다.\n"
     ]
    }
   ],
   "source": [
    "# 정규식을 없앤 방법:조건 2 제외(try and except 방법)\n",
    "# 단 위의 정규식은 한글은 인식하지 못하므로\n",
    "# 진짜로 파이썬의 변수 조건을 판단했을떄\n",
    "# 이것이 더 실용적인 방법\n",
    "name = input(\"변수 이름을 입력하세요: \")\n",
    "try:\n",
    "    int(name[0])\n",
    "    print(\"부적합한 변수 이름입니다.\")\n",
    "except ValueError:\n",
    "    print(\"적합한 변수 이름입니다.\")"
   ]
  },
  {
   "attachments": {},
   "cell_type": "markdown",
   "id": "b7372316",
   "metadata": {},
   "source": [
    "#### 교재 p185 연습문제 15\n",
    "    - 1~30까지의 정수에 대해 반복\n",
    "    - 특정 숫자가 3의 배수이면 \"fizz\"를 출력\n",
    "    - 특정 숫자가 5의 배수이면 \"buzz\"를 출력\n",
    "    - 특정 숫자가 3의 배수이면서 5의 배수이면 \"fizzbuzz\"를 출력"
   ]
  },
  {
   "cell_type": "code",
   "execution_count": 107,
   "id": "e94ae331",
   "metadata": {},
   "outputs": [
    {
     "name": "stdout",
     "output_type": "stream",
     "text": [
      "1\n",
      "2\n",
      "fizz\n",
      "4\n",
      "buzz\n",
      "fizz\n",
      "7\n",
      "8\n",
      "fizz\n",
      "buzz\n",
      "11\n",
      "fizz\n",
      "13\n",
      "14\n",
      "fizzbuzz\n",
      "16\n",
      "17\n",
      "fizz\n",
      "19\n",
      "buzz\n",
      "fizz\n",
      "22\n",
      "23\n",
      "fizz\n",
      "buzz\n",
      "26\n",
      "fizz\n",
      "28\n",
      "29\n",
      "fizzbuzz\n"
     ]
    }
   ],
   "source": [
    "for i in range(1, 31):\n",
    "    if i % 3 == 0 and i % 5 == 0:\n",
    "        print(\"fizzbuzz\")\n",
    "    elif i % 3 == 0:\n",
    "        print(\"fizz\")\n",
    "    elif i % 5 == 0:\n",
    "        print(\"buzz\")\n",
    "    # 나머지 숫자들도 출력 = 실행된 구분이 너무 힘들어서 추가한 기능\n",
    "    else:\n",
    "        print(i)"
   ]
  },
  {
   "attachments": {},
   "cell_type": "markdown",
   "id": "d171f2df",
   "metadata": {},
   "source": [
    "#### 교재 p211 lab 문제\n",
    "    - 로또번호 1~45까지의 숫자 6개 출력하는 프로그램 작성\n",
    "    - 조건) 숫자가 중복되면 안된다"
   ]
  },
  {
   "cell_type": "code",
   "execution_count": 1,
   "id": "d12ca5c1",
   "metadata": {},
   "outputs": [
    {
     "name": "stdout",
     "output_type": "stream",
     "text": [
      "2 12 45 14 29 30 "
     ]
    }
   ],
   "source": [
    "from random import *\n",
    "lotto = []\n",
    "\n",
    "# 일단 len == 6이기 위해 whlie을 여러 번 돌린다\n",
    "# 중복으로 빠지는 게 얼마나 되는지 모르기 때문\n",
    "while True:\n",
    "    # 만약 6이아니다! -> 계속 돌려야지\n",
    "    if len(lotto) != 6:\n",
    "        lotto.append(randint(1, 45))\n",
    "        # 중복제거\n",
    "        remove_lotto = set(lotto)\n",
    "        # 숫자를 하나하나 뽑으려면 리스트 변환!\n",
    "        lotto = list(remove_lotto)\n",
    "    else:\n",
    "        break\n",
    "\n",
    "# 결과\n",
    "for i in range(0,6):\n",
    "    print(lotto[i], end= \" \")"
   ]
  },
  {
   "attachments": {},
   "cell_type": "markdown",
   "id": "f7a30a1b",
   "metadata": {},
   "source": [
    "#### 교재 p216 미니프로젝트\n",
    "    - ATM 기본 기능 함수 구현\n",
    "    - 조건) 인증을 위한 사용자 핀 번호 입력 후 번호 일치하면 아래 메뉴 실행\n",
    "    - 1. 계정 잔액 확인\n",
    "    - 2. 예금 입력\n",
    "    - 3. 예금 인출\n",
    "    - 4. 종료"
   ]
  },
  {
   "cell_type": "code",
   "execution_count": 88,
   "id": "4085bcc7",
   "metadata": {},
   "outputs": [
    {
     "name": "stdout",
     "output_type": "stream",
     "text": [
      "1. 계정 잔액 확인\n",
      "2. 예금 입력\n",
      "3. 예금 인출\n",
      "4. 종료\n",
      "계정 잔액은 10000원 입니다.\n",
      "2000원이 예금되었습니다. 현재 잔액은 12000원 입니다.\n",
      "2000원이 인출되었습니다. 현재 잔액은 10000원 입니다.\n",
      "ATM을 종료합니다.\n"
     ]
    }
   ],
   "source": [
    "# 사용자 핀 번호\n",
    "PIN = \"1234\"\n",
    "\n",
    "# 계좌 잔액\n",
    "my_money = 10000\n",
    "\n",
    "# 인증 함수\n",
    "def authenticate():\n",
    "    # 핀 번호 입력 받기\n",
    "    my_pin = input(\"핀 번호를 입력하세요: \")\n",
    "    \n",
    "    # 핀 번호 검사\n",
    "    if my_pin == PIN:\n",
    "        return True\n",
    "    else:\n",
    "        return False\n",
    "\n",
    "def menu():\n",
    "    # 메뉴 출력\n",
    "    print(\"1. 계정 잔액 확인\")\n",
    "    print(\"2. 예금 입력\")\n",
    "    print(\"3. 예금 인출\")\n",
    "    print(\"4. 종료\")\n",
    "\n",
    "    global my_money\n",
    "\n",
    "    while True:\n",
    "        num = int(input(\"원하는 메뉴를 선택하세요: \"))\n",
    "        \n",
    "        # 계정 잔액 확인\n",
    "        if num == 1:\n",
    "            print(\"계정 잔액은 %s원 입니다.\"%(my_money))\n",
    "        \n",
    "        # 예금 입력\n",
    "        elif num == 2:\n",
    "            amount = int(input(\"예금할 금액을 입력하세요: \"))\n",
    "            my_money += amount\n",
    "            print(\"%s원이 예금되었습니다. 현재 잔액은 %s원 입니다.\"%(amount, my_money))\n",
    "        \n",
    "        # 예금 인출\n",
    "        elif num == 3:\n",
    "            amount = int(input(\"인출할 금액을 입력하세요: \"))\n",
    "            if amount <= my_money:\n",
    "                my_money -= amount\n",
    "                print(\"%s원이 인출되었습니다. 현재 잔액은 %s원 입니다.\"%(amount, my_money))\n",
    "            else:\n",
    "                print(\"잔액이 부족합니다.\")\n",
    "        \n",
    "        # 종료\n",
    "        elif num == 4:\n",
    "            print(\"종료합니다.\")\n",
    "            break\n",
    "        \n",
    "        # 잘못된 선택\n",
    "        else:\n",
    "            print(\"잘못된 선택입니다. 다시 선택해주세요.\")\n",
    "\n",
    "# 사용자 인증\n",
    "if authenticate():\n",
    "    menu()\n",
    "else:\n",
    "    print(\"핀 번호가 일치하지 않습니다. 다시 시도해 주십시오\")"
   ]
  },
  {
   "attachments": {},
   "cell_type": "markdown",
   "id": "587cac75",
   "metadata": {},
   "source": [
    "#### 교재 p222 연습문제 6\n",
    "    - 패스워드를 검증하는 함수 check_pass(p) 작성\n",
    "    - 조건1) 패스워드는 적어도 8글자 이상이어야 한다\n",
    "    - 조건2) 적어도 1글자의 대문자와 소문자가 들어가야 한다\n",
    "    - 조건3) 적어도 1개의 숫자가 들어가야 한다"
   ]
  },
  {
   "cell_type": "code",
   "execution_count": 77,
   "id": "6267dd1e",
   "metadata": {},
   "outputs": [
    {
     "name": "stdout",
     "output_type": "stream",
     "text": [
      "조건이 맞지 않습니다.\n"
     ]
    }
   ],
   "source": [
    "def check_pass(p):\n",
    "    # 길이 검사(8자리 이상)\n",
    "    if len(p) < 8:\n",
    "        return '조건이 맞지 않습니다.'\n",
    "    \n",
    "    # 대문자 검사(최소한 1개 이상)\n",
    "    if not any(c.isupper() for c in p):\n",
    "        return '조건이 맞지 않습니다.'\n",
    "    \n",
    "    # 소문자 검사(최소한 1개 이상)\n",
    "    if not any(c.islower() for c in p):\n",
    "        return '조건이 맞지 않습니다.'\n",
    "    \n",
    "    # 숫자 검사(최소한 1개 이상)\n",
    "    if not any(c.isdigit() for c in p):\n",
    "        return '조건이 맞지 않습니다.'\n",
    "    \n",
    "    # 위의 모든 문제가 해당하지 않는다면 TRUE\n",
    "    return '패스워드가 가능합니다'\n",
    "\n",
    "My_password = input()\n",
    "# input 받은 값을 함수인자에 대입 후 return값 출력\n",
    "print(check_pass(My_password))"
   ]
  }
 ],
 "metadata": {
  "kernelspec": {
   "display_name": "Python 3 (ipykernel)",
   "language": "python",
   "name": "python3"
  },
  "language_info": {
   "codemirror_mode": {
    "name": "ipython",
    "version": 3
   },
   "file_extension": ".py",
   "mimetype": "text/x-python",
   "name": "python",
   "nbconvert_exporter": "python",
   "pygments_lexer": "ipython3",
   "version": "3.10.11"
  }
 },
 "nbformat": 4,
 "nbformat_minor": 5
}
