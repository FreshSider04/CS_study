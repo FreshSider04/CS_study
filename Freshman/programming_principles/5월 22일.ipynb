{
 "cells": [
  {
   "cell_type": "code",
   "execution_count": 8,
   "metadata": {},
   "outputs": [
    {
     "name": "stdout",
     "output_type": "stream",
     "text": [
      "{1: 'python', 2: 'you need'}\n"
     ]
    }
   ],
   "source": [
    "import pickle\n",
    "\n",
    "# 피클링\n",
    "f = open(\"text.txt\", 'wb')\n",
    "data = {1:'python', 2:'you need'}\n",
    "pickle.dump(data,f)\n",
    "f.close()\n",
    "\n",
    "# 언피클링\n",
    "f = open(\"text.txt\", 'rb')\n",
    "data = pickle.load(f)\n",
    "\n",
    "print(data)"
   ]
  },
  {
   "cell_type": "code",
   "execution_count": 9,
   "metadata": {},
   "outputs": [
    {
     "name": "stdout",
     "output_type": "stream",
     "text": [
      "['a', 'b', 'c']\n"
     ]
    }
   ],
   "source": [
    "list1 = ['a', 'b', 'c']\n",
    "\n",
    "with open(\"data.pickle\", \"wb\") as fw:\n",
    "    pickle.dump(list1, fw)\n",
    "\n",
    "with open(\"data.pickle\", \"rb\") as fr:\n",
    "    data = pickle.load(fr)\n",
    "print(data)"
   ]
  },
  {
   "cell_type": "code",
   "execution_count": 13,
   "metadata": {},
   "outputs": [
    {
     "name": "stdout",
     "output_type": "stream",
     "text": [
      "kim 23 울산시\n",
      "{'kor': 90, 'eng': 99, 'math': 89}\n"
     ]
    }
   ],
   "source": [
    "name = 'kim'\n",
    "age = 23\n",
    "address = '울산시'\n",
    "scores = {'kor':90, 'eng':99, 'math':89}\n",
    "\n",
    "with open('kim.p', 'wb') as fw:\n",
    "    pickle.dump(name, fw)\n",
    "    pickle.dump(age, fw)\n",
    "    pickle.dump(address, fw)\n",
    "    pickle.dump(scores, fw)\n",
    "\n",
    "\n",
    "with open('kim.p', 'rb') as fr:\n",
    "    name = pickle.load(fr)\n",
    "    age = pickle.load(fr)\n",
    "    address = pickle.load(fr)\n",
    "    scores = pickle.load(fr)\n",
    "\n",
    "print(name, age, address)\n",
    "print(scores)    "
   ]
  },
  {
   "cell_type": "code",
   "execution_count": 17,
   "metadata": {},
   "outputs": [
    {
     "ename": "FileNotFoundError",
     "evalue": "[Errno 2] No such file or directory: 'text_zip.p'",
     "output_type": "error",
     "traceback": [
      "\u001b[1;31m---------------------------------------------------------------------------\u001b[0m",
      "\u001b[1;31mFileNotFoundError\u001b[0m                         Traceback (most recent call last)",
      "Cell \u001b[1;32mIn[17], line 12\u001b[0m\n\u001b[0;32m      9\u001b[0m \u001b[39mwith\u001b[39;00m gzip\u001b[39m.\u001b[39mopen(\u001b[39m'\u001b[39m\u001b[39mtest_zip.p\u001b[39m\u001b[39m'\u001b[39m, \u001b[39m'\u001b[39m\u001b[39mwb\u001b[39m\u001b[39m'\u001b[39m) \u001b[39mas\u001b[39;00m f:\n\u001b[0;32m     10\u001b[0m     pickle\u001b[39m.\u001b[39mdump(data,f)\n\u001b[1;32m---> 12\u001b[0m \u001b[39mwith\u001b[39;00m gzip\u001b[39m.\u001b[39;49mopen(\u001b[39m'\u001b[39;49m\u001b[39mtext_zip.p\u001b[39;49m\u001b[39m'\u001b[39;49m, \u001b[39m'\u001b[39;49m\u001b[39mrb\u001b[39;49m\u001b[39m'\u001b[39;49m) \u001b[39mas\u001b[39;00m f:\n\u001b[0;32m     13\u001b[0m     data \u001b[39m=\u001b[39m pickle\u001b[39m.\u001b[39mload(f)\n\u001b[0;32m     15\u001b[0m \u001b[39mprint\u001b[39m(f)\n",
      "File \u001b[1;32mC:\\Program Files\\WindowsApps\\PythonSoftwareFoundation.Python.3.10_3.10.3056.0_x64__qbz5n2kfra8p0\\lib\\gzip.py:58\u001b[0m, in \u001b[0;36mopen\u001b[1;34m(filename, mode, compresslevel, encoding, errors, newline)\u001b[0m\n\u001b[0;32m     56\u001b[0m gz_mode \u001b[39m=\u001b[39m mode\u001b[39m.\u001b[39mreplace(\u001b[39m\"\u001b[39m\u001b[39mt\u001b[39m\u001b[39m\"\u001b[39m, \u001b[39m\"\u001b[39m\u001b[39m\"\u001b[39m)\n\u001b[0;32m     57\u001b[0m \u001b[39mif\u001b[39;00m \u001b[39misinstance\u001b[39m(filename, (\u001b[39mstr\u001b[39m, \u001b[39mbytes\u001b[39m, os\u001b[39m.\u001b[39mPathLike)):\n\u001b[1;32m---> 58\u001b[0m     binary_file \u001b[39m=\u001b[39m GzipFile(filename, gz_mode, compresslevel)\n\u001b[0;32m     59\u001b[0m \u001b[39melif\u001b[39;00m \u001b[39mhasattr\u001b[39m(filename, \u001b[39m\"\u001b[39m\u001b[39mread\u001b[39m\u001b[39m\"\u001b[39m) \u001b[39mor\u001b[39;00m \u001b[39mhasattr\u001b[39m(filename, \u001b[39m\"\u001b[39m\u001b[39mwrite\u001b[39m\u001b[39m\"\u001b[39m):\n\u001b[0;32m     60\u001b[0m     binary_file \u001b[39m=\u001b[39m GzipFile(\u001b[39mNone\u001b[39;00m, gz_mode, compresslevel, filename)\n",
      "File \u001b[1;32mC:\\Program Files\\WindowsApps\\PythonSoftwareFoundation.Python.3.10_3.10.3056.0_x64__qbz5n2kfra8p0\\lib\\gzip.py:174\u001b[0m, in \u001b[0;36mGzipFile.__init__\u001b[1;34m(self, filename, mode, compresslevel, fileobj, mtime)\u001b[0m\n\u001b[0;32m    172\u001b[0m     mode \u001b[39m+\u001b[39m\u001b[39m=\u001b[39m \u001b[39m'\u001b[39m\u001b[39mb\u001b[39m\u001b[39m'\u001b[39m\n\u001b[0;32m    173\u001b[0m \u001b[39mif\u001b[39;00m fileobj \u001b[39mis\u001b[39;00m \u001b[39mNone\u001b[39;00m:\n\u001b[1;32m--> 174\u001b[0m     fileobj \u001b[39m=\u001b[39m \u001b[39mself\u001b[39m\u001b[39m.\u001b[39mmyfileobj \u001b[39m=\u001b[39m builtins\u001b[39m.\u001b[39;49mopen(filename, mode \u001b[39mor\u001b[39;49;00m \u001b[39m'\u001b[39;49m\u001b[39mrb\u001b[39;49m\u001b[39m'\u001b[39;49m)\n\u001b[0;32m    175\u001b[0m \u001b[39mif\u001b[39;00m filename \u001b[39mis\u001b[39;00m \u001b[39mNone\u001b[39;00m:\n\u001b[0;32m    176\u001b[0m     filename \u001b[39m=\u001b[39m \u001b[39mgetattr\u001b[39m(fileobj, \u001b[39m'\u001b[39m\u001b[39mname\u001b[39m\u001b[39m'\u001b[39m, \u001b[39m'\u001b[39m\u001b[39m'\u001b[39m)\n",
      "\u001b[1;31mFileNotFoundError\u001b[0m: [Errno 2] No such file or directory: 'text_zip.p'"
     ]
    }
   ],
   "source": [
    "import gzip\n",
    "\n",
    "data = {\n",
    "    'a' : [1, 2.0, 3, 4+6j],\n",
    "    'b' : (\"character string\", \"bytes string\"),\n",
    "    'c' : {None, True, False}\n",
    "}\n",
    "\n",
    "with gzip.open('test_zip.p', 'wb') as f:\n",
    "    pickle.dump(data,f)\n",
    "\n",
    "with gzip.open('text_zip.p', 'rb') as f:\n",
    "    data = pickle.load(f)\n",
    "\n",
    "print(f)"
   ]
  },
  {
   "cell_type": "code",
   "execution_count": 22,
   "metadata": {},
   "outputs": [
    {
     "name": "stdout",
     "output_type": "stream",
     "text": [
      "1.0\n"
     ]
    }
   ],
   "source": [
    "try:\n",
    "    x = int(input(\"나눌 숫자를 입력하시오 :\"))\n",
    "    y = 10 / x\n",
    "    print(y)\n",
    "except:\n",
    "    print(\"예외가 발생했습니다.\")"
   ]
  },
  {
   "cell_type": "code",
   "execution_count": 26,
   "metadata": {},
   "outputs": [
    {
     "name": "stdout",
     "output_type": "stream",
     "text": [
      "오류입니다.정보를 보내시겠습니니까?\n"
     ]
    }
   ],
   "source": [
    "y = [10, 20, 30]\n",
    "try:\n",
    "    index, x = map(int, input('인덱스와 나눌 숫자를 입력하시오 : ').split())\n",
    "    print(y[index]/ x)\n",
    "    \n",
    "except ZeroDivisionError:\n",
    "    print('숫자를 0으로 나눌 수 없습니다.')\n",
    "except IndentationError:\n",
    "    print('잘못된 인덱스 입니다.')\n",
    "\n",
    "except:\n",
    "    print(\"오류입니다.정보를 보내시겠습니니까?\")\n",
    "\n"
   ]
  },
  {
   "cell_type": "code",
   "execution_count": 25,
   "metadata": {},
   "outputs": [
    {
     "name": "stdout",
     "output_type": "stream",
     "text": [
      "정수가 아닙니다. 다시 입력하시오.\n",
      "정수가 아닙니다. 다시 입력하시오.\n",
      "정수가 아닙니다. 다시 입력하시오.\n",
      "정수가 아닙니다. 다시 입력하시오.\n",
      "정수가 아닙니다. 다시 입력하시오.\n",
      "정수가 아닙니다. 다시 입력하시오.\n",
      "정수 입력이 성공!!\n"
     ]
    }
   ],
   "source": [
    "while True:\n",
    "    try:\n",
    "        n = input(\"숫자를 입력하시요 :\")\n",
    "        n = int(n)\n",
    "        break\n",
    "    except ValueError:\n",
    "        print(\"정수가 아닙니다. 다시 입력하시오.\")\n",
    "print(\"정수 입력이 성공!!\")"
   ]
  },
  {
   "cell_type": "code",
   "execution_count": 29,
   "metadata": {},
   "outputs": [
    {
     "name": "stdout",
     "output_type": "stream",
     "text": [
      "오류입니다.정보를 보내시겠습니니까?\n"
     ]
    }
   ],
   "source": [
    "y = [10, 20, 30]\n",
    "try:\n",
    "    index, x = map(int, input('인덱스와 나눌 숫자를 입력하시오 : ').split())\n",
    "    print(y[index]/ x)\n",
    "    \n",
    "except ZeroDivisionError as e:\n",
    "    print('숫자를 0으로 나눌 수 없습니다.', e)\n",
    "except IndentationError as e:\n",
    "    print('잘못된 인덱스 입니다.', e)\n",
    "\n",
    "except:\n",
    "    print(\"오류입니다.정보를 보내시겠습니니까?\")"
   ]
  },
  {
   "cell_type": "code",
   "execution_count": 32,
   "metadata": {},
   "outputs": [
    {
     "name": "stdout",
     "output_type": "stream",
     "text": [
      "미성년자는 출입금지입니다.\n"
     ]
    }
   ],
   "source": [
    "try:\n",
    "    age = int(input('나이를 입력하시오'))\n",
    "except:\n",
    "    print(\"입력이 정확하지 않습니다.\")\n",
    "\n",
    "else:\n",
    "    if age <= 18:\n",
    "        print(\"미성년자는 출입금지입니다.\")\n",
    "    else:\n",
    "        print('환영합니다')"
   ]
  },
  {
   "cell_type": "code",
   "execution_count": 34,
   "metadata": {},
   "outputs": [],
   "source": [
    "try:\n",
    "    f = open(\"text.txt\", \"w\")\n",
    "    f.write(\"테스트 데이터를 파일에 씁니다!\")\n",
    "except IOError:\n",
    "    print(\"ERROR\")\n",
    "finally:\n",
    "    f.close()"
   ]
  },
  {
   "cell_type": "code",
   "execution_count": 36,
   "metadata": {},
   "outputs": [],
   "source": [
    "try:\n",
    "    f = open(\"aaa.txt\", \"r\")\n",
    "\n",
    "except FileNotFoundError:\n",
    "    pass"
   ]
  }
 ],
 "metadata": {
  "kernelspec": {
   "display_name": "Python 3",
   "language": "python",
   "name": "python3"
  },
  "language_info": {
   "codemirror_mode": {
    "name": "ipython",
    "version": 3
   },
   "file_extension": ".py",
   "mimetype": "text/x-python",
   "name": "python",
   "nbconvert_exporter": "python",
   "pygments_lexer": "ipython3",
   "version": "3.10.11"
  },
  "orig_nbformat": 4
 },
 "nbformat": 4,
 "nbformat_minor": 2
}
