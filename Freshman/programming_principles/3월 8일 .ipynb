{
 "cells": [
  {
   "cell_type": "code",
   "execution_count": 3,
   "metadata": {},
   "outputs": [
    {
     "name": "stdout",
     "output_type": "stream",
     "text": [
      "Hi python\n",
      "'hello world!'\n",
      "python-hi\n",
      "\"Hi python\"\n",
      "하나\n",
      "둘\n",
      "셋 \n",
      "\n",
      "\t탭 \t 연습\n",
      "hihihihihihihihihihihihihihihihihihihihihihihihihihihihihihihihihihihihihihihihihihihihihihihihihihihihihihihihihihihihihihihihihihihihihihihihihihihihihihihihihihihihihihihihihihihihihihihihihihihihi\n",
      "1, 2, 3\n",
      "우리는 / 대한민국 / 국민\n",
      "파이썬 >>> 프로그램\n",
      "우리는납니다\n",
      "우리는 파이썬을 싫어합니다\n",
      "\"강조\"효과\n"
     ]
    }
   ],
   "source": [
    "print(\"Hi python\")\n",
    "print(\"'hello world!'\")\n",
    "\n",
    "print(\"python\", 'hi', sep=\"-\")\n",
    "print(\"\\\"Hi python\\\"\") # \\\" == 따옴표 출력\n",
    "print('하나\\n둘\\n셋 \\n') # 한 줄 들여쓰기\n",
    "print(\"\\t탭 \\t 연습\") \n",
    "print(\"hi\" * 100)\n",
    "\n",
    "print(1, 2, 3, sep=\", \")\n",
    "print(\"우리는 \", \" 대한민국 \", \" 국민\", sep=\"/\")\n",
    "print(\"파이썬 \", end= \">>>\")\n",
    "print(\" 프로그램\")\n",
    "\n",
    "print(\"우리는\" + \"납니다\")\n",
    "print(\"우리는\", \"파이썬을\", \"싫어합니다\")\n",
    "print(\"\\\"강조\\\"효과\")"
   ]
  },
  {
   "cell_type": "code",
   "execution_count": 2,
   "metadata": {},
   "outputs": [
    {
     "name": "stdout",
     "output_type": "stream",
     "text": [
      "울산대학교에서 파이썬 프로그래밍을 모집합니다\n",
      "장소는 19호관 입니다\n",
      "날짜는 3월 8일 입니다 \n",
      "\n",
      "울산대학교에서 파이썬 프로그래밍을 모집합니다\n",
      "장소는 19호관입니다\n",
      "날짜는 3월 8일 입니다\n",
      "\n",
      "울산대학교에서 파이썬 프로그래밍을 모집합니다\n",
      "장소는 19호관입니다\n",
      "날짜는 3월 8일 입니다\n",
      "\n",
      "울산대학교에서 파이썬 프로그래밍을 모집합니다\n",
      "장소는 19호관입니다\n",
      "날짜는 3월 8일 입니다\n",
      "\n",
      "이름은 홍길동, 나이는 19세 입니다\n",
      "hello. ulsan\n",
      "hello. ulsan, hi young ho\n",
      "hello. ulsan, hi young ho, man\n",
      "123.290\n",
      "123.290\n",
      "ojkhfadjkfhajkdf\n"
     ]
    }
   ],
   "source": [
    "# 변수\n",
    "who = \"울산대학교\"\n",
    "what =  \"파이썬 프로그래밍\"\n",
    "where =  \"19호관\"\n",
    "when = \"3월 8일\"\n",
    "\n",
    "print(who + \"에서\", what + \"을 모집합니다\")\n",
    "print('장소는', where, \"입니다\")\n",
    "print(\"날짜는\", when, \"입니다 \\n\")\n",
    "\n",
    "print(\"%s에서 %s을 모집합니다\" %(who, what))\n",
    "print(\"장소는 %s입니다\" %(where))\n",
    "print(\"날짜는 %s 입니다\\n\" %(when))\n",
    "\n",
    "# 포멧팅\n",
    "print(\"%s에서 %s을 모집합니다\" %(who, what))\n",
    "print(\"장소는 %s입니다\" %(where))\n",
    "print(\"날짜는 %s 입니다\\n\" %(when))\n",
    "\n",
    "print(\"{}에서 {}을 모집합니다\".format(who, what))\n",
    "print(\"장소는 {}입니다\".format(where))\n",
    "print(\"날짜는 {} 입니다\\n\".format(when))\n",
    "\n",
    "print(\"이름은 %s, 나이는 %d세 입니다\"%(\"홍길동\", 19))\n",
    "print(\"hello. {0}\".format(\"ulsan\"))\n",
    "print(\"hello. {0}, hi {1}\".format(\"ulsan\", \"young ho\"))\n",
    "print(\"hello. {}, hi {}, {}\".format(\"ulsan\", \"young ho\", \"man\"))\n",
    "\n",
    "#     7칸.소수점(크기)\n",
    "print(\"%0.3f\" %(123.29012))\n",
    "print(\"%1.3f\" %(123.29012))\n",
    "print(\"%1s\" %(\"ojkhfadjkfhajkdf\"))"
   ]
  }
 ],
 "metadata": {
  "kernelspec": {
   "display_name": "Python 3",
   "language": "python",
   "name": "python3"
  },
  "language_info": {
   "codemirror_mode": {
    "name": "ipython",
    "version": 3
   },
   "file_extension": ".py",
   "mimetype": "text/x-python",
   "name": "python",
   "nbconvert_exporter": "python",
   "pygments_lexer": "ipython3",
   "version": "3.10.11"
  },
  "orig_nbformat": 4
 },
 "nbformat": 4,
 "nbformat_minor": 2
}
