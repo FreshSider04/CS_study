{
 "cells": [
  {
   "cell_type": "code",
   "execution_count": 3,
   "metadata": {},
   "outputs": [
    {
     "name": "stdout",
     "output_type": "stream",
     "text": [
      "\n",
      "공통적인 글자 :adfhjkw"
     ]
    }
   ],
   "source": [
    "s1 = input(\"첫 번쨰 문자열 : \")\n",
    "s2 = input(\"두 번쨰 문자열 : \")\n",
    "\n",
    "list1 = list(set(s1) & set(s2))\n",
    "list2 = sorted(list1)\n",
    "\n",
    "print('\\n공통적인 글자 :', end=\"\")\n",
    "for i in list2:\n",
    "    print(i, end=\"\")"
   ]
  },
  {
   "cell_type": "code",
   "execution_count": 1,
   "metadata": {},
   "outputs": [
    {
     "name": "stdout",
     "output_type": "stream",
     "text": [
      "사용된 단어의 갯수 3\n",
      "{'한양대', '싶었는디', '가고'}\n"
     ]
    }
   ],
   "source": [
    "t1 = input('입력 테스트 :')\n",
    "w1 = t1.split(\" \")\n",
    "u1 = set(w1)\n",
    "\n",
    "print(\"사용된 단어의 갯수\", len(u1))\n",
    "print(u1)"
   ]
  },
  {
   "cell_type": "code",
   "execution_count": 9,
   "metadata": {},
   "outputs": [
    {
     "name": "stdout",
     "output_type": "stream",
     "text": [
      "\n",
      "표절률 =  100.00\n"
     ]
    }
   ],
   "source": [
    "s1 = input()\n",
    "s2 = input()\n",
    "\n",
    "s1 = s1.lower()\n",
    "s2 = s2.lower()\n",
    "\n",
    "list1 = s1.split(\" \")\n",
    "list2 = s2.split(\" \")\n",
    "\n",
    "total = len(list1)\n",
    "n = len(list(set(list1)&set(list2)))\n",
    "\n",
    "print(f'\\n표절률 =  {100*n/total:.2f}')"
   ]
  }
 ],
 "metadata": {
  "kernelspec": {
   "display_name": "Python 3",
   "language": "python",
   "name": "python3"
  },
  "language_info": {
   "codemirror_mode": {
    "name": "ipython",
    "version": 3
   },
   "file_extension": ".py",
   "mimetype": "text/x-python",
   "name": "python",
   "nbconvert_exporter": "python",
   "pygments_lexer": "ipython3",
   "version": "3.10.11"
  },
  "orig_nbformat": 4
 },
 "nbformat": 4,
 "nbformat_minor": 2
}
