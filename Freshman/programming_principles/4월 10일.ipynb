{
 "cells": [
  {
   "attachments": {},
   "cell_type": "markdown",
   "metadata": {},
   "source": [
    "*범위\n",
    "---책으로 1 ~ 5장까지\n",
    "   + 리스트(튜플, 딕셔너리, 셋 등은 제외), 문자열 일부(정규식 제외), 슬라이싱, 인덱싱\n",
    "\n",
    "*문제 나오는 방식\n",
    "---문법 이해도(first)\n",
    "---코드 분석(오류수정, 결과 예측(output), 결과 -> 코드완성)(second)\n",
    "\n",
    "\n",
    "*문제는 20~ 30문제"
   ]
  },
  {
   "cell_type": "code",
   "execution_count": null,
   "metadata": {},
   "outputs": [],
   "source": [
    "# 딕셔너리\n",
    "dic1 = {'name' : 'kim', 'age' : 30, 'name' : 'lee'}\n",
    "# 딕셔너리 중복 시 현재(먼저 온 것) 기억\n",
    "print(dic1)"
   ]
  },
  {
   "cell_type": "code",
   "execution_count": 2,
   "metadata": {},
   "outputs": [
    {
     "name": "stdout",
     "output_type": "stream",
     "text": [
      "{'이름': '이순신', '나이': 30, '몸무게': 65}\n",
      "{'이름': '이순신', '나이': 30}\n",
      "{'이름': '이순신', '나이': 30, '몸무게': 65}\n",
      "{'이름': '이순신', '나이': 30, '몸무게': 65}\n",
      "{'이름': '이순신', '나이': 30}\n"
     ]
    }
   ],
   "source": [
    "person1 = {'이름' : '이순신', '나이' : 30, '몸무게' : 65}\n",
    "person2 = dict(이름 = '이순신', 나이 = 30)\n",
    "person3 = dict(zip(['이름', '나이', '몸무게'], ['이순신', 30, 65]))\n",
    "person4 = dict([('이름', '이순신'), ('나이', 30), ('몸무게', 65)])\n",
    "person5 = dict({'이름' : '이순신', '나이' : 30})\n",
    "\n",
    "print(person1)\n",
    "print(person2)\n",
    "print(person3)\n",
    "print(person4)\n",
    "print(person5)"
   ]
  },
  {
   "cell_type": "code",
   "execution_count": 8,
   "metadata": {},
   "outputs": [
    {
     "name": "stdout",
     "output_type": "stream",
     "text": [
      "{}\n",
      "kim\n",
      "{'name': 'kim', 'addr': 'ulsan'}\n"
     ]
    }
   ],
   "source": [
    "b_dic1 = dict()\n",
    "print(b_dic1)\n",
    "\n",
    "p_dic1 = {'name' : 'kim'}\n",
    "print(p_dic1['name'])\n",
    "\n",
    "p_dic1['addr'] = 'ulsan'\n",
    "print(p_dic1)"
   ]
  },
  {
   "cell_type": "code",
   "execution_count": 7,
   "metadata": {},
   "outputs": [
    {
     "name": "stdout",
     "output_type": "stream",
     "text": [
      "{'name': 'kim', 'num': (1, 2, 3)}\n"
     ]
    }
   ],
   "source": [
    "# 딕셔너리 키로는 리스트(튜플, 셋 ...)가 사용이 불가하지만 값으로는 가능하다.\n",
    "dic1 = {'name' : 'kim',  'num' :(1, 2, 3)}\n",
    "print(dic1)\n",
    "# 튜플은 키도 가능!"
   ]
  },
  {
   "cell_type": "code",
   "execution_count": 5,
   "metadata": {},
   "outputs": [
    {
     "name": "stdout",
     "output_type": "stream",
     "text": [
      "{1: 'one', 2: 'two'}\n",
      "{'kis': 10, 'lee': 120, 'kark': 30}\n",
      "[('kis', 10), ('lee', 120), ('kark', 30)]\n"
     ]
    }
   ],
   "source": [
    "list1 = [[1, 'one'], [2, 'two']]\n",
    "dic1 = dict(list1)\n",
    "print(dic1)\n",
    "\n",
    "list2 = ['kis', 'lee', 'kark']\n",
    "list3 = [10, 120, 30]\n",
    "dic2 = dict(zip(list2, list3))\n",
    "dic3 = list(zip(list2, list3))\n",
    "\n",
    "print(dic2)\n",
    "print(dic3)"
   ]
  },
  {
   "cell_type": "code",
   "execution_count": 9,
   "metadata": {},
   "outputs": [
    {
     "name": "stdout",
     "output_type": "stream",
     "text": [
      "{1: '1', 2: '2', 3: '3', 4: '4', 5: '5'}\n",
      "{'pasdp': 5, 'jak': 3, 'dk': 2}\n",
      "{1: 2, 3: 6, 5: 10}\n"
     ]
    }
   ],
   "source": [
    "dic = {i : str(i) for i in [1, 2, 3, 4, 5]}\n",
    "print(dic)\n",
    "\n",
    "fruits = ['pasdp','jak', 'dk']\n",
    "dic ={ f: len(f) for f in fruits }\n",
    "print(dic)\n",
    "\n",
    "num = [1, 2, 3, 4, 5]\n",
    "dic = {x : x*2 for x in num if x%2 != 0}\n",
    "print(dic)"
   ]
  },
  {
   "cell_type": "code",
   "execution_count": null,
   "metadata": {},
   "outputs": [],
   "source": [
    "dic2 = {'num1' : (1, 2, 3), 'grade' : (1, 2, 3, 4), 'hak' : ('A', 'B', 'D')}\n",
    "print(dic2)\n",
    "print(dic2.get('num1'))\n",
    "print(dic2.get('num2', 'not found'))\n",
    "print(dic2.pop('num1'))\n",
    "print(dic2.popitem())\n",
    "print(dic2)"
   ]
  },
  {
   "cell_type": "code",
   "execution_count": 12,
   "metadata": {},
   "outputs": [
    {
     "name": "stdout",
     "output_type": "stream",
     "text": [
      "['최재원']\n",
      "no found\n"
     ]
    }
   ],
   "source": [
    "addr = {}\n",
    "addr['최재원'] ='01048172'\n",
    "\n",
    "print(list(addr.keys()))\n",
    "name = input('search name : ')\n",
    "print(addr.get(name, 'no found'))"
   ]
  },
  {
   "cell_type": "code",
   "execution_count": 15,
   "metadata": {},
   "outputs": [
    {
     "name": "stdout",
     "output_type": "stream",
     "text": [
      "{'gread': (1, 2, 3)}\n",
      "None\n",
      "{}\n"
     ]
    }
   ],
   "source": [
    "dic2 = {'num' : (1, 2, 3), 'gread' :(1, 2, 3)}\n",
    "del dic2['num']\n",
    "print(dic2)\n",
    "print(dic2.clear())\n",
    "print(dic2)"
   ]
  }
 ],
 "metadata": {
  "kernelspec": {
   "display_name": "Python 3",
   "language": "python",
   "name": "python3"
  },
  "language_info": {
   "codemirror_mode": {
    "name": "ipython",
    "version": 3
   },
   "file_extension": ".py",
   "mimetype": "text/x-python",
   "name": "python",
   "nbconvert_exporter": "python",
   "pygments_lexer": "ipython3",
   "version": "3.10.11"
  },
  "orig_nbformat": 4
 },
 "nbformat": 4,
 "nbformat_minor": 2
}
