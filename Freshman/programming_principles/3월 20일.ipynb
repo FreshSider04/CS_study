{
 "cells": [
  {
   "cell_type": "code",
   "execution_count": null,
   "metadata": {},
   "outputs": [],
   "source": [
    "# index는 문자열이 없으면 에러가 뜬다.\n",
    "str1 = \"hello i love python\"\n",
    "print(str1.index(\"you\"))\n",
    "\n"
   ]
  },
  {
   "cell_type": "code",
   "execution_count": null,
   "metadata": {},
   "outputs": [],
   "source": [
    "# find는 없어도 오류가 발생하지 않는다.\n",
    "str1 = \"hello i love python\"\n",
    "# -1 :: 즉, 해당 문자열이 없다.\n",
    "print(str1.find('you'))"
   ]
  },
  {
   "cell_type": "code",
   "execution_count": null,
   "metadata": {},
   "outputs": [],
   "source": [
    "s1 = 'python language'\n",
    "s2 = 'one-two-three'\n",
    "\n",
    "print(\"-\".join(s1))\n",
    "print(s1.split())\n",
    "print(s1.split('-'))\n",
    "print(s1.split('-', 1))\n",
    "print(s2.rsplit(\"-\", 1))\n",
    "print(s1.strip())\n",
    "print(s2.partition(\"two\"))\n",
    "print(s2.replace(\"two\", \"둘\"))\n",
    "\n"
   ]
  },
  {
   "cell_type": "code",
   "execution_count": null,
   "metadata": {},
   "outputs": [],
   "source": [
    "x = 10\n",
    "y = 3\n",
    "\n",
    "# 몫과 나머지를 계산\n",
    "quotient,remainderd  = divmod(x, y)\n",
    "print(quotient, remainderd)\n",
    "\n",
    "today = 0\n",
    "print((today + 10) % 7)\n",
    "\n",
    "a = 10\n",
    "r = 0.05\n",
    "n = 10\n",
    "result = a*(1+r)**n\n",
    "print(f'원리금 합계, {result:.2f}')\n",
    "\n",
    "x = 1.5893274\n",
    "\n",
    "print(round(x))\n",
    "print(round(x, 2))\n",
    "\n",
    "a = 0b00001101\n",
    "b = 0b00001010\n",
    "\n",
    "print(a&b, a|b, a^b)\n",
    "print(bin(a&b), bin(a|b), bin(a^b))\n",
    "\n",
    "a = 0b00001101\n",
    "\n",
    "print(~a&255, bin(~a&255))\n",
    "\n",
    "\n",
    "init_money = 24\n",
    "interest = 0.06\n",
    "years = 382\n",
    "\n",
    "print(init_money*(1+interest)**years)\n",
    "\n",
    "interest = 0.01\n",
    "print(init_money*(1 + interest)**years)"
   ]
  }
 ],
 "metadata": {
  "language_info": {
   "name": "python"
  },
  "orig_nbformat": 4
 },
 "nbformat": 4,
 "nbformat_minor": 2
}
