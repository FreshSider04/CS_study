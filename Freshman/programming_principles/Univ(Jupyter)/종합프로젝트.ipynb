{
 "cells": [
  {
   "cell_type": "code",
   "execution_count": 45,
   "id": "b976dbd5-51bc-4440-9b1d-53727640d904",
   "metadata": {},
   "outputs": [
    {
     "name": "stdout",
     "output_type": "stream",
     "text": [
      "문자열(문장)을 입력하세요:  good god meeting apple add mean baby box\n"
     ]
    },
    {
     "name": "stdout",
     "output_type": "stream",
     "text": [
      "입력된 문자열: good god meeting apple add mean baby box\n"
     ]
    },
    {
     "name": "stdout",
     "output_type": "stream",
     "text": [
      "반복 개수를 알고자 하는 문자를 입력하세요:  a\n"
     ]
    },
    {
     "name": "stdout",
     "output_type": "stream",
     "text": [
      "good god meeting apple add mean baby box : a 글자는 4번 나타남. 처음 인덱스 위치는 17이다.\n"
     ]
    }
   ],
   "source": [
    "s1 = input(\"문자열(문장)을 입력하세요: \")\n",
    "print('입력된 문자열:',s1)\n",
    "s2 = input(\"반복 개수를 알고자 하는 문자를 입력하세요: \")\n",
    "print(f'{s1} : {s2} 글자는 {s1.count(s2)}번 나타남. 처음 인덱스 위치는 {s1.find(s2)}이다.')"
   ]
  },
  {
   "cell_type": "code",
   "execution_count": 68,
   "id": "b200038e-1a4a-4a69-9151-8857bb7d4492",
   "metadata": {},
   "outputs": [
    {
     "name": "stdout",
     "output_type": "stream",
     "text": [
      "SKY  HELLO  HI  GOOD MORNING\n",
      "S --> 1\n",
      "K --> 1\n",
      "Y --> 1\n",
      "H --> 2\n",
      "E --> 1\n",
      "L --> 2\n",
      "O --> 4\n",
      "I --> 2\n",
      "G --> 2\n",
      "D --> 1\n",
      "M --> 1\n",
      "R --> 1\n",
      "N --> 2\n"
     ]
    }
   ],
   "source": [
    "# 문자열에서 문자의 빈도수 구하기\n",
    "str1 = \"sky  hello  hi  good morning\"\n",
    "str1 = str1.upper()\n",
    "print(str1)\n",
    "dic1={}\n",
    "\n",
    "for ch in str1:\n",
    "    if 'A' <= ch and ch <='Z':\n",
    "        if ch in dic1:\n",
    "            dic1[ch] += 1\n",
    "        else:\n",
    "            dic1[ch] = 1\n",
    "\n",
    "for k in dic1.keys() :\n",
    "    print('%s --> %s' % (k, dic1[k])) "
   ]
  },
  {
   "cell_type": "code",
   "execution_count": 76,
   "id": "ac3b6574-114f-473a-b368-4a3df7b0084c",
   "metadata": {},
   "outputs": [
    {
     "name": "stdout",
     "output_type": "stream",
     "text": [
      "SKY  HELLO  HI  GOOD MORNING\n",
      "D --> 1\n",
      "E --> 1\n",
      "G --> 2\n",
      "H --> 2\n",
      "I --> 2\n",
      "K --> 1\n",
      "L --> 2\n",
      "M --> 1\n",
      "N --> 2\n",
      "O --> 4\n",
      "R --> 1\n",
      "S --> 1\n",
      "Y --> 1\n"
     ]
    }
   ],
   "source": [
    "# 문자열에서 문자의 빈도수 구하기\n",
    "str1 = \"sky  hello  hi  good morning\"\n",
    "str1 = str1.upper()\n",
    "print(str1)\n",
    "dic1, list1 = {}, []\n",
    "\n",
    "for ch in str1:\n",
    "    if 'A' <= ch and ch <='Z':\n",
    "        if ch in dic1:\n",
    "            dic1[ch] += 1\n",
    "        else:\n",
    "            dic1[ch] = 1\n",
    "\n",
    "list1 = sorted(dic1.items()) \n",
    "for char1, count1 in list1 :\n",
    "    print('%s --> %s' % (char1, count1))"
   ]
  },
  {
   "cell_type": "code",
   "execution_count": 88,
   "id": "3c4b3b5c-a397-4ab1-8fef-9d3991907e86",
   "metadata": {},
   "outputs": [
    {
     "name": "stdout",
     "output_type": "stream",
     "text": [
      "SKY  HELLO  HI  GOOD MORNING\n",
      "O --> 4\n",
      "H --> 2\n",
      "L --> 2\n",
      "I --> 2\n",
      "G --> 2\n",
      "N --> 2\n",
      "S --> 1\n",
      "K --> 1\n",
      "Y --> 1\n",
      "E --> 1\n",
      "D --> 1\n",
      "M --> 1\n",
      "R --> 1\n"
     ]
    }
   ],
   "source": [
    "# 문자열에서 문자의 빈도수 구하기\n",
    "str1 = \"sky  hello  hi  good morning\"\n",
    "str1 = str1.upper()\n",
    "print(str1)\n",
    "dic1, list1 = {}, []\n",
    "\n",
    "for ch in str1:\n",
    "    if 'A' <= ch and ch <='Z':\n",
    "        if ch in dic1:\n",
    "            dic1[ch] += 1\n",
    "        else:\n",
    "            dic1[ch] = 1\n",
    "\n",
    "list1 = list(dic1.items())\n",
    "list1.sort(key = lambda x : x[1], reverse = True)\n",
    "for char1, count1 in list1 :\n",
    "    print('%s --> %s' % (char1, count1))"
   ]
  },
  {
   "cell_type": "code",
   "execution_count": 25,
   "id": "038b1019-b6ef-4f73-803c-a76884766f8a",
   "metadata": {},
   "outputs": [
    {
     "name": "stdout",
     "output_type": "stream",
     "text": [
      "수정 전 문자열(단어):  ulsan\n",
      "수정 후 문자열(단어):  Ulsan\n"
     ]
    },
    {
     "name": "stdout",
     "output_type": "stream",
     "text": [
      "주어진 문자열 : Park(ulsan), Lee(ulsan), Cho(Ulsan), Kim(busan), Kang(busan), Hong(Busan)\n",
      "\n",
      "수정된 문자열 : Park(Ulsan), Lee(Ulsan), Cho(Ulsan), Kim(busan), Kang(busan), Hong(Busan)\n",
      "ulsan 문자열은 모두 2번 수정했습니다.\n"
     ]
    }
   ],
   "source": [
    "str1 = 'Park(ulsan), Lee(ulsan), Cho(Ulsan), Kim(busan), Kang(busan), Hong(Busan)'\n",
    "src = input(\"수정 전 문자열(단어): \")\n",
    "target = input(\"수정 후 문자열(단어): \")\n",
    "new_str = str1.replace(src, target)\n",
    "count1 = str1.count(src)\n",
    "\n",
    "print('주어진 문자열 : {}\\n'.format(str1))\n",
    "print('수정된 문자열 : {}'.format(new_str))\n",
    "print('{} 문자열은 모두 {}번 수정했습니다.'.format(src, count1))"
   ]
  },
  {
   "cell_type": "markdown",
   "id": "d8244228-78d4-449d-b6b0-fc06815c442f",
   "metadata": {
    "tags": []
   },
   "source": [
    "### 단어 추출하기 \n",
    "* 1)문자열 입력 받기\n",
    "* 2)문자열에서 쉼표와 마침표 등과 같은 구두점들은 모두 제거-> 함수구현\n",
    "* 3)문자열을 스페이스로 분리=> 단어 리스트 만들기\n",
    "* 4)단어들을 사전 배열 순서로 정렬한 후 출력"
   ]
  },
  {
   "cell_type": "code",
   "execution_count": 18,
   "id": "aaa43d1d-565b-4cfb-83d4-6ec253eb1cf9",
   "metadata": {},
   "outputs": [
    {
     "name": "stdout",
     "output_type": "stream",
     "text": [
      "여러 단어로 이루어진 글을 입력하세요:  아기, 사과, SKY, HELLO, Hi, Good Morning\n"
     ]
    },
    {
     "name": "stdout",
     "output_type": "stream",
     "text": [
      "구두점 분리 후: 아기  사과  sky  hello  hi  good morning\n",
      "분리된 단어 리스트:  ['아기', '사과', 'sky', 'hello', 'hi', 'good', 'morning']\n",
      "정렬 후 결과 : ['good', 'hello', 'hi', 'morning', 'sky', '사과', '아기']\n"
     ]
    }
   ],
   "source": [
    "def removeMarks(str1) :\n",
    "    sep1 = ['.', ',', '.', '!', '?', ':', ';']\n",
    "    for mark in sep1:\n",
    "        str1 = str1.replace(mark, \" \") # mark(구두점)을 ' '로 대체\n",
    "    return str1\n",
    "  \n",
    "str1 = input(\"여러 단어로 이루어진 글을 입력하세요: \")\n",
    "\n",
    "str1 = removeMarks(str1).lower()\n",
    "print('구두점 분리 후:',str1)\n",
    "words = str1.split() #문자열을 스페이스로 분리하여 리스트로 변환\n",
    "print('분리된 단어 리스트: ',words)\n",
    "words.sort()\n",
    "print('정렬 후 결과 :',words)"
   ]
  },
  {
   "cell_type": "code",
   "execution_count": 28,
   "id": "5926b9d8-3ade-47e6-b3fb-cea3b4d26337",
   "metadata": {},
   "outputs": [
    {
     "name": "stdout",
     "output_type": "stream",
     "text": [
      "일일 매출 기록:  [100, 121, 120, 130, 140, 120, 122, 123, 190, 125]\n",
      "지난 10일 동안 전일대비 매출이 감소한 날은 3일입니다.\n"
     ]
    }
   ],
   "source": [
    "sales = [100, 121, 120, 130, 140, 120, 122, 123, 190, 125]\n",
    "drop = 0\n",
    "\n",
    "for i in range( len(sales)-1 ):\n",
    "    if sales[i] > sales[i+1]:\n",
    "        drop += 1\n",
    "    \n",
    "print('일일 매출 기록: ', sales)\n",
    "print('지난 {}일 동안 전일대비 매출이 감소한 날은 {}일입니다.'.format(len(sales), drop))"
   ]
  },
  {
   "cell_type": "code",
   "execution_count": 29,
   "id": "fcae2944-2b09-44e2-b7f5-1f75cb9895ec",
   "metadata": {},
   "outputs": [
    {
     "name": "stdout",
     "output_type": "stream",
     "text": [
      "도시명을 입력하세요:  울산\n",
      "도시명을 입력하세요:  부산\n",
      "도시명을 입력하세요:  울산\n",
      "도시명을 입력하세요:  서울\n",
      "도시명을 입력하세요:  부산\n",
      "도시명을 입력하세요:  서울\n"
     ]
    },
    {
     "name": "stdout",
     "output_type": "stream",
     "text": [
      "원본 데이터: ['울산', '부산', '울산', '서울', '부산', '서울']\n",
      "중복 제거된 리스트:  ['서울', '부산', '울산']\n"
     ]
    }
   ],
   "source": [
    "list1 = []\n",
    "for i in range(5):\n",
    "    city = input(\"도시명을 입력하세요: \")\n",
    "    list1.append(city)\n",
    "print('원본 데이터:',list1)\n",
    "list1 = list(set(list1))\n",
    "print('중복 제거된 리스트: ', list1)"
   ]
  },
  {
   "cell_type": "code",
   "execution_count": 49,
   "id": "be5d0f92-a131-4e75-9cd9-f98fa2584258",
   "metadata": {},
   "outputs": [
    {
     "name": "stdout",
     "output_type": "stream",
     "text": [
      "마을 A와 B에 보낼 투표용지의 개수는 각각 971 장과 1698 장입니다.\n"
     ]
    }
   ],
   "source": [
    "A_city = (100, 150, 230, 120, 180, 100, 140, 95, 81, 21, 4)\n",
    "B_city = (300, 420, 530, 420, 400, 300, 40, 5, 1, 1, 1)\n",
    "p_A = sum(A_city[2:])\n",
    "p_B = sum(B_city[2:])\n",
    "\n",
    "print('마을 A와 B에 보낼 투표용지의 개수는 각각 {} 장과 {} 장입니다.'.format(p_A, p_B))"
   ]
  },
  {
   "cell_type": "code",
   "execution_count": 51,
   "id": "93461711-083b-4436-b6e1-71d5f69a5132",
   "metadata": {},
   "outputs": [
    {
     "name": "stdout",
     "output_type": "stream",
     "text": [
      "마을 A와 B의 고령화 정도는 각각 0.165와 0.003입니다.\n"
     ]
    }
   ],
   "source": [
    "A_city = (100, 150, 230, 120, 180, 100, 140, 95, 81, 21, 4)\n",
    "B_city = (300, 420, 530, 420, 400, 300, 40, 5, 1, 1, 1)\n",
    "\n",
    "oldA = sum(A_city[7:])\n",
    "oldB = sum(B_city[7:])\n",
    "sumA, sumB = sum(A_city), sum(B_city)\n",
    "\n",
    "oldRateA, oldRateB = oldA/sumA, oldB/sumB\n",
    "\n",
    "print('마을 A와 B의 고령화 정도는 각각 {:5.3f}와 {:5.3f}입니다.'.format(oldRateA, oldRateB))"
   ]
  },
  {
   "cell_type": "code",
   "execution_count": 58,
   "id": "1c09e57b-21fc-4f59-8264-c186205edda8",
   "metadata": {},
   "outputs": [
    {
     "name": "stdout",
     "output_type": "stream",
     "text": [
      "이름         평균성적\n",
      "---------------------\n",
      "이순신        91.00\n",
      "김유신        90.00\n",
      "홍길동        80.00\n",
      "허생원        91.67\n"
     ]
    }
   ],
   "source": [
    "scores = ( ('이순신', 88, 95, 90), ('김유신', 85, 90, 95), ('홍길동', 70, 90, 80), ('허생원', 90, 90, 95))\n",
    "student_dic = {}\n",
    "\n",
    "for val in scores:\n",
    "    avg = (val[1] + val[2] + val[3]) / 3\n",
    "    student_dic[val[0]] = avg\n",
    "\n",
    "print(\"이름         평균성적\")\n",
    "print(\"---------------------\")\n",
    "for k in student_dic.keys():\n",
    "    print('{}   {:10.2f}'.format(k, student_dic[k]))"
   ]
  },
  {
   "cell_type": "code",
   "execution_count": 1,
   "id": "ddd147ba-f585-4b5a-ae69-1558bb145d17",
   "metadata": {},
   "outputs": [
    {
     "name": "stdout",
     "output_type": "stream",
     "text": [
      "이름         평균성적\n",
      "---------------------\n",
      "이순신        91.00\n",
      "김유신        90.00\n",
      "홍길동        80.00\n",
      "허생원        91.67\n"
     ]
    }
   ],
   "source": [
    "# 다른 구현\n",
    "scores = ( ('이순신', 88, 95, 90), ('김유신', 85, 90, 95), ('홍길동', 70, 90, 80), ('허생원', 90, 90, 95))\n",
    "student_dic = {}\n",
    "name, korean, math, science = zip(*scores)\n",
    "\n",
    "student_dic = {}\n",
    "\n",
    "# student_dic이라는 딕셔너리의 키:값으로 {이름:평균 점수}를 넣음\n",
    "for i in range(len(scores)):\n",
    "    student_dic[name[i]] = (korean[i] + math[i] + science[i])/3\n",
    "\n",
    "print(\"이름         평균성적\")\n",
    "print(\"---------------------\")\n",
    "for name in student_dic:\n",
    "    print(\"{:3}{:13.2f}\".format(name, student_dic[name]))   "
   ]
  },
  {
   "cell_type": "code",
   "execution_count": 36,
   "id": "d4550693-9e6b-4a3a-8023-c2517e24ad06",
   "metadata": {},
   "outputs": [
    {
     "name": "stdout",
     "output_type": "stream",
     "text": [
      "이름         평균성적\n",
      "---------------------\n",
      "허생원 --> 91.67\n",
      "이순신 --> 91.00\n",
      "김유신 --> 90.00\n",
      "홍길동 --> 80.00\n"
     ]
    }
   ],
   "source": [
    "# 평균이 높은 학생순으로 출력\n",
    "scores = ( ('이순신', 88, 95, 90), ('김유신', 85, 90, 95), ('홍길동', 70, 90, 80), ('허생원', 90, 90, 95))\n",
    "student_dic = {}\n",
    "name, korean, math, science = zip(*scores)\n",
    "\n",
    "student_dic, student_list = {}, []\n",
    "\n",
    "# student_dic이라는 딕셔너리의 키:값으로 {이름:평균 점수}를 넣음\n",
    "for i in range(len(scores)):\n",
    "    student_dic[name[i]] = (korean[i] + math[i] + science[i])/3   \n",
    "\n",
    "student_list = list(student_dic.items())\n",
    "student_list.sort(key = lambda x : x[1], reverse = True)\n",
    "\n",
    "print(\"이름         평균성적\")\n",
    "print(\"---------------------\")\n",
    "for name, average in student_list :\n",
    "    print('%s --> %.2f' % (name, float(average)))    "
   ]
  },
  {
   "cell_type": "code",
   "execution_count": 67,
   "id": "e7e8a3c0-fafe-4273-9cde-70cf939cb950",
   "metadata": {},
   "outputs": [
    {
     "name": "stdout",
     "output_type": "stream",
     "text": [
      "몇 자리의 비밀번호를 원하십니까?  6\n"
     ]
    },
    {
     "name": "stdout",
     "output_type": "stream",
     "text": [
      "생성된 암호 = G(gV!A\n"
     ]
    }
   ],
   "source": [
    "import random \n",
    "          \n",
    "s =\"abcdefghijklmnopqrstuvwxyz01234567890ABCDEFGHIJKLMNOPQRSTUVWXYZ!@#$%^&*()?\" \n",
    "n_digits = int(input('몇 자리의 비밀번호를 원하십니까? ')) \n",
    "otp =  \"\".join(random.sample(s, n_digits))\n",
    "print(\"생성된 암호 =\", otp)"
   ]
  },
  {
   "cell_type": "code",
   "execution_count": 92,
   "id": "1e456dd5-4253-4331-97b8-d35bbf63ff1c",
   "metadata": {},
   "outputs": [
    {
     "name": "stdout",
     "output_type": "stream",
     "text": [
      "문자열을 입력하시오:  북한과 중국, 러시아의 밀착이 본격화하고 있다. 최근 북중러에 대한 압박 강도\n",
      "금칙어를 입력하시오:  북 중\n"
     ]
    },
    {
     "name": "stdout",
     "output_type": "stream",
     "text": [
      "*한과 *국, 러시아의 밀착이 본격화하고 있다. 최근 **러에 대한 압박 강도\n"
     ]
    }
   ],
   "source": [
    "#금칙어 가리기\n",
    "def censor_string(txt, lst, char1):\n",
    "    for word in lst:\n",
    "        txt = txt.replace(word, char1*len(word))\n",
    "    return txt\n",
    "\n",
    "t1= input(\"문자열을 입력하시오: \")\n",
    "d1 = input(\"금칙어를 입력하시오: \").split()\n",
    "\n",
    "print(censor_string(t1, d1, \"*\"))"
   ]
  },
  {
   "cell_type": "code",
   "execution_count": 93,
   "id": "69076ce5-0a09-4b89-a0d8-6cd6ea96b715",
   "metadata": {},
   "outputs": [
    {
     "name": "stdout",
     "output_type": "stream",
     "text": [
      "메시지를 입력하시오:  fkkgjhjjh RTkbkkbkkb #bjjbj@jbjjb SSSSS\n"
     ]
    },
    {
     "name": "stdout",
     "output_type": "stream",
     "text": [
      "fkkgjhjjh kbkkbkkb  SSSSS\n"
     ]
    }
   ],
   "source": [
    "# 정규식에서 특정 문자를 대체하는 함수 : sub() \n",
    "import re\n",
    "tweet = input('메시지를 입력하시오: ')\n",
    "tweet = re.sub('RT', '', tweet)  \n",
    "tweet = re.sub('#\\S+', '', tweet)  \n",
    "tweet = re.sub('@\\S+', '', tweet)  \n",
    "print(tweet)"
   ]
  },
  {
   "cell_type": "code",
   "execution_count": 94,
   "id": "f45ded19-0477-4fa0-bf0c-30ca2ebef8a0",
   "metadata": {},
   "outputs": [
    {
     "name": "stdout",
     "output_type": "stream",
     "text": [
      "입력 파일 이름:  t.txt\n"
     ]
    },
    {
     "name": "stdout",
     "output_type": "stream",
     "text": [
      "파일 t.txt 이 없습니다. 다시 입력하시오.\n"
     ]
    },
    {
     "name": "stdout",
     "output_type": "stream",
     "text": [
      "입력 파일 이름:  tt.txt\n"
     ]
    },
    {
     "name": "stdout",
     "output_type": "stream",
     "text": [
      "파일이 성공적으로 열렸습니다.\n"
     ]
    }
   ],
   "source": [
    "#파일을 읽을 때 파일이 없으면 예외처리하는 코드\n",
    "while True:\n",
    "    try:\n",
    "        fname = input(\"입력 파일 이름: \").strip()\n",
    "        infile = open(fname, \"r\") \n",
    "        break\n",
    "    except IOError:\n",
    "        print(\"파일 \" + fname + \" 이 없습니다. 다시 입력하시오.\")\n",
    "\n",
    "print(\"파일이 성공적으로 열렸습니다.\")\n",
    "infile.close()"
   ]
  },
  {
   "cell_type": "code",
   "execution_count": 5,
   "id": "911220a5-2939-43ba-980b-685de607210d",
   "metadata": {},
   "outputs": [
    {
     "name": "stdout",
     "output_type": "stream",
     "text": [
      "입력 파일 이름:  hello1.txt\n"
     ]
    },
    {
     "name": "stdout",
     "output_type": "stream",
     "text": [
      "사용된 단어의 개수= 6\n",
      "{'good', 'after', 'python', 'before', 'blog', 'blockdmask'}\n"
     ]
    }
   ],
   "source": [
    "# 단어에서 구두점을 제거하고 소문자로 만든다. \n",
    "def process(w):\n",
    "    output =\"\"\n",
    "    for ch in w:\n",
    "        if( ch.isalpha() ):\n",
    "            output += ch\n",
    "    return output.lower()\n",
    "\n",
    "words = set()\n",
    "\n",
    "# 파일을 연다.\n",
    "fname = input(\"입력 파일 이름: \")\n",
    "file = open(fname, \"r\")\n",
    "\n",
    "# 파일의 모든 줄에 대하여 반복한다.\n",
    "for line in file:\n",
    "        lineWords = line.split()\n",
    "        for word in lineWords:            \n",
    "            words.add(process(word))    # 단어를 세트에 추가한다.\n",
    "\n",
    "print(\"사용된 단어의 개수=\", len(words))\n",
    "print(words)"
   ]
  },
  {
   "cell_type": "code",
   "execution_count": 102,
   "id": "3c4aa0af-34d2-44be-bed7-bcd193625db0",
   "metadata": {},
   "outputs": [
    {
     "name": "stdout",
     "output_type": "stream",
     "text": [
      "문자열을 입력하시오:  반크는 4일 “판소리는 한 명의 소리꾼이 북 치는 사람의 장단에 맞추어 창, 말, 몸짓을 섞어가며 긴 이야기를 엮어가는 한국의 전통 소리”라며 “그 역사는 신라 때까지 올라갈 만큼 오래됐으며, 1964년 한국 국가무형문화재, 2008년 유네스코 인류무형문화유산 목록에 등재됐다”고 밝혔다.\n"
     ]
    },
    {
     "data": {
      "text/plain": [
       "161"
      ]
     },
     "execution_count": 102,
     "metadata": {},
     "output_type": "execute_result"
    }
   ],
   "source": [
    "# 문자열을 입력 후 파일로 저장\n",
    "infile = open(\"tt4.txt\", \"w\", encoding=\"utf-8\")\n",
    "tweet = input('문자열을 입력하시오: ')\n",
    "infile.write(tweet)\n",
    "#print(tweet,file = infile) #print()함수 이용해서 파일에 텍스트를 출력할 수 있다."
   ]
  },
  {
   "cell_type": "code",
   "execution_count": 103,
   "id": "26b77e9b-615e-4286-9456-5275bed63a96",
   "metadata": {},
   "outputs": [
    {
     "name": "stdout",
     "output_type": "stream",
     "text": [
      "['국가무형문화재,', '인류무형문화유산']\n"
     ]
    }
   ],
   "source": [
    "#파일에 저장된 단어 중에서 가장 긴 단어를 찾기\n",
    "f = open(\"tt4.txt\",\"r\", encoding=\"utf-8\")\n",
    "words = f.read().split()\n",
    "max_len = len(max(words, key=len))\n",
    "print([word for word in words if len(word) == max_len])\n",
    "f.close()"
   ]
  },
  {
   "cell_type": "code",
   "execution_count": 3,
   "id": "839ba657-cbcc-4607-900a-faa29b6d7ae0",
   "metadata": {},
   "outputs": [
    {
     "name": "stdout",
     "output_type": "stream",
     "text": [
      "['반크는', '4일', '“판소리는', '한', '명의', '소리꾼이', '북', '치는', '사람의', '장단에', '맞추어', '창,', '말,', '몸짓을', '섞어가며', '긴', '이야기를', '엮어가는', '한국의', '전통', '소리”라며', '“그', '역사는', '신라', '때까지', '올라갈', '만큼', '오래됐으며,', '1964년', '한국', '국가무형문화재,', '2008년', '유네스코', '인류무형문화유산', '목록에', '등재됐다”고', '밝혔다.']\n",
      "한국의\n",
      "국가무형문화재,\n",
      "8\n",
      "['국가무형문화재,', '인류무형문화유산']\n"
     ]
    }
   ],
   "source": [
    "#파일에 저장된 단어 중에서 가장 긴 단어를 찾기\n",
    "f = open(\"tt4.txt\",\"r\", encoding=\"utf-8\")\n",
    "words = f.read().split()\n",
    "print(words)\n",
    "print(max(words))\n",
    "print(max(words, key=len))\n",
    "print(len(max(words, key=len)))\n",
    "max_len = len(max(words, key=len))\n",
    "print([word for word in words if len(word) == max_len])\n",
    "f.close()"
   ]
  },
  {
   "cell_type": "code",
   "execution_count": 1,
   "id": "f0c8ec4b-1f91-4e9f-94c5-903216979ff4",
   "metadata": {},
   "outputs": [
    {
     "name": "stdout",
     "output_type": "stream",
     "text": [
      "스페이스 수 = 36, 탭의 수 = 0\n"
     ]
    }
   ],
   "source": [
    "#파일 안의 스페이스 문자와 탭의 수를 센다.: UTF-8\n",
    "def parse_file(path):\n",
    "    infile = open(path, encoding=\"utf-8\")\n",
    "    spaces = 0\n",
    "    tabs = 0\n",
    "    spaces += infile.read().count(' ')\n",
    "    tabs += infile.read().count('\\t')\n",
    "    infile.close()\n",
    "\n",
    "    return spaces, tabs\n",
    "\n",
    "filename = input(\"파일 이름을 입력하시오: \");\n",
    "spaces, tabs = parse_file(filename)\n",
    "print(\"스페이스 수 = %d, 탭의 수 = %d\" % (spaces, tabs))"
   ]
  },
  {
   "cell_type": "code",
   "execution_count": 105,
   "id": "c41d1a8b-68fa-47aa-a42a-812425645c85",
   "metadata": {},
   "outputs": [
    {
     "name": "stdout",
     "output_type": "stream",
     "text": [
      "여자는 9명이고, 남자는 6명이다\n"
     ]
    }
   ],
   "source": [
    "# 주민번호 뒷자리 값으로 성별을 구별하는 코드\n",
    "with open('ymd.txt', 'r') as fd:\n",
    "    w_count, m_count = 0, 0\n",
    "    g1, g2 = \"\", \"\"\n",
    "    while True:\n",
    "        line = fd.readline().rstrip('\\n') \n",
    "        if not line: break \n",
    "        \n",
    "        jumin = list(line.strip()) \n",
    "        gender = int(jumin[7])        \n",
    "\n",
    "        if gender % 2 == 0:\n",
    "            g1 = '여자'\n",
    "            w_count+=1\n",
    "        else:\n",
    "            g2 ='남자'\n",
    "            m_count+=1\n",
    "    print(f'{g1}는 {w_count}명이고, {g2}는 {m_count}명이다')"
   ]
  },
  {
   "cell_type": "code",
   "execution_count": 2,
   "id": "a20170dc-9e93-49c4-a226-282d2f6b63ce",
   "metadata": {},
   "outputs": [
    {
     "name": "stdout",
     "output_type": "stream",
     "text": [
      "{'apple': '사과', 'baby': '아기', 'sky': '하늘', 'tree': '나무'}\n"
     ]
    }
   ],
   "source": [
    "import pickle\n",
    "eng_kor_in={'apple': '사과', 'baby':'아기', 'sky':'하늘', 'tree':'나무'}\n",
    "\n",
    "with open('eng_kor.p', 'wb') as fw:\n",
    "    pickle.dump(eng_kor_in,fw)\n",
    "with open('eng_kor.p', 'rb') as fr:\n",
    "    eng_kor_out = pickle.load(fr)\n",
    "print(eng_kor_out)"
   ]
  },
  {
   "cell_type": "code",
   "execution_count": 3,
   "id": "51849021-6bb7-49b3-9950-884ebaa40f35",
   "metadata": {},
   "outputs": [
    {
     "name": "stdout",
     "output_type": "stream",
     "text": [
      "{'apple': '사과', 'baby': '아기', 'sky': '하늘', 'tree': '나무'}\n",
      "1. 단어 등록\n",
      "2. 단어 검색\n",
      "3. 단어 삭제\n",
      "4. 종료\n"
     ]
    },
    {
     "name": "stdout",
     "output_type": "stream",
     "text": [
      "원하는 메뉴 선택: 1\n",
      "등록할 영어 단어 입력: you\n",
      "영어 단어의 한글 의미 입력: 너\n"
     ]
    },
    {
     "name": "stdout",
     "output_type": "stream",
     "text": [
      "등록 완료!!\n",
      "1. 단어 등록\n",
      "2. 단어 검색\n",
      "3. 단어 삭제\n",
      "4. 종료\n"
     ]
    },
    {
     "name": "stdout",
     "output_type": "stream",
     "text": [
      "원하는 메뉴 선택: 2\n",
      "검색할 영어 단어 입력: you\n"
     ]
    },
    {
     "name": "stdout",
     "output_type": "stream",
     "text": [
      "검색된 you 단어의 의미는 너입니다\n",
      "1. 단어 등록\n",
      "2. 단어 검색\n",
      "3. 단어 삭제\n",
      "4. 종료\n"
     ]
    },
    {
     "name": "stdout",
     "output_type": "stream",
     "text": [
      "원하는 메뉴 선택: 3\n",
      "삭제할 영어 단어 입력: you\n"
     ]
    },
    {
     "name": "stdout",
     "output_type": "stream",
     "text": [
      "you 단어가 삭제되었습니다\n",
      "1. 단어 등록\n",
      "2. 단어 검색\n",
      "3. 단어 삭제\n",
      "4. 종료\n"
     ]
    },
    {
     "name": "stdout",
     "output_type": "stream",
     "text": [
      "원하는 메뉴 선택: 4\n"
     ]
    },
    {
     "name": "stdout",
     "output_type": "stream",
     "text": [
      "{'apple': '사과', 'baby': '아기', 'sky': '하늘', 'tree': '나무'}\n"
     ]
    }
   ],
   "source": [
    "eng_kor={'apple': '사과', 'baby':'아기', 'sky':'하늘', 'tree':'나무'}\n",
    "print(eng_kor)\n",
    "while True:\n",
    "    print('1. 단어 등록')\n",
    "    print('2. 단어 검색')\n",
    "    print('3. 단어 삭제')\n",
    "    print('4. 종료')\n",
    "    sel = input('원하는 메뉴 선택:')\n",
    "    if sel == '1':\n",
    "        eng = input('등록할 영어 단어 입력:')\n",
    "        kor = input('영어 단어의 한글 의미 입력:')\n",
    "        eng_kor[eng]=kor\n",
    "        print('등록 완료!!')\n",
    "    elif sel == '2':\n",
    "        key_search = input('검색할 영어 단어 입력:')\n",
    "        if key_search in eng_kor:\n",
    "            resul1 = eng_kor[key_search]\n",
    "            print(f'검색된 {key_search} 단어의 의미는 {resul1}입니다')\n",
    "        else:\n",
    "            print('해당 단어가 없습니다')\n",
    "        \n",
    "    elif sel == '3':\n",
    "        key_del = input('삭제할 영어 단어 입력:')\n",
    "        if key_del in eng_kor:            \n",
    "            eng_kor.pop(key_del) # del eng_kor[key_del] 방법도 삭제 가능\n",
    "            print(f'{key_del} 단어가 삭제되었습니다')\n",
    "        else:\n",
    "            print('해당 단어가 없습니다')\n",
    "    else:\n",
    "        break\n",
    "print(eng_kor)"
   ]
  },
  {
   "cell_type": "code",
   "execution_count": 6,
   "id": "2648144b-43c3-455d-a241-7cab4a47e846",
   "metadata": {},
   "outputs": [],
   "source": [
    "#1. 파일에 영한 사전 데이터 저장\n",
    "eng_kor_in={'apple': '사과', 'baby':'아기', 'sky':'하늘', 'tree':'나무'}\n",
    "\n",
    "with open('eng_kor1.p', 'wb') as fw:\n",
    "    pickle.dump(eng_kor_in,fw)"
   ]
  },
  {
   "cell_type": "code",
   "execution_count": 7,
   "id": "4bfd2507-7834-4703-92b4-cc88be305e17",
   "metadata": {},
   "outputs": [
    {
     "name": "stdout",
     "output_type": "stream",
     "text": [
      "{'apple': '사과', 'baby': '아기', 'sky': '하늘', 'tree': '나무'}\n",
      "1. 단어 등록\n",
      "2. 단어 검색\n",
      "3. 단어 삭제\n",
      "4. 종료\n"
     ]
    },
    {
     "name": "stdout",
     "output_type": "stream",
     "text": [
      "원하는 메뉴 선택: 4\n"
     ]
    },
    {
     "name": "stdout",
     "output_type": "stream",
     "text": [
      "{'apple': '사과', 'baby': '아기', 'sky': '하늘', 'tree': '나무'}\n"
     ]
    },
    {
     "name": "stdout",
     "output_type": "stream",
     "text": [
      "결과를 저장할까요?(y/n) n\n"
     ]
    },
    {
     "name": "stdout",
     "output_type": "stream",
     "text": [
      "영한 사전:\n",
      " {'apple': '사과', 'baby': '아기', 'sky': '하늘', 'tree': '나무'}\n"
     ]
    }
   ],
   "source": [
    "#2. 원하는 메뉴에 따라 처리 후 파일 저장 여부 판단\n",
    "import pickle\n",
    "with open('eng_kor1.p', 'rb') as fr:\n",
    "    eng_kor = pickle.load(fr)\n",
    "print(eng_kor)\n",
    "while True:\n",
    "    print('1. 단어 등록')\n",
    "    print('2. 단어 검색')\n",
    "    print('3. 단어 삭제')\n",
    "    print('4. 종료')\n",
    "    sel = input('원하는 메뉴 선택:')\n",
    "    if sel == '1':\n",
    "        eng = input('등록할 영어 단어 입력:')\n",
    "        kor = input('영어 단어의 한글 의미 입력:')\n",
    "        eng_kor[eng]=kor\n",
    "        print('등록 완료!!')\n",
    "    elif sel == '2':\n",
    "        key_search = input('검색할 영어 단어 입력:')\n",
    "        if key_search in eng_kor:\n",
    "            resul1 = eng_kor[key_search]\n",
    "            print(f'검색된 {key_search} 단어의 의미는 {resul1}입니다')\n",
    "        else:\n",
    "            print('해당 단어가 없습니다')\n",
    "        \n",
    "    elif sel == '3':\n",
    "        key_del = input('삭제할 영어 단어 입력:')\n",
    "        if key_del in eng_kor:\n",
    "            eng_kor.pop(key_del) # del eng_kor[key_del] 방법도 삭제 가능\n",
    "            print(f'{key_del} 단어가 삭제되었습니다')\n",
    "        else:\n",
    "            print('해당 단어가 없습니다')\n",
    "    else:\n",
    "        break\n",
    "print(eng_kor)\n",
    "sel2 = input('결과를 저장할까요?(y/n)')\n",
    "if sel2 == 'y' or sel2 == 'Y':\n",
    "    with open('eng_kor1.p', 'wb') as fw:\n",
    "        pickle.dump(eng_kor,fw)\n",
    "else:\n",
    "    print('영한 사전:\\n',eng_kor)"
   ]
  },
  {
   "cell_type": "code",
   "execution_count": 8,
   "id": "f64c131c-4864-42c3-ac2b-7d5cc4d1d332",
   "metadata": {},
   "outputs": [
    {
     "name": "stdout",
     "output_type": "stream",
     "text": [
      "{'apple': '사과', 'baby': '아기', 'sky': '하늘', 'tree': '나무'}\n",
      "1. 단어 등록\n",
      "2. 단어 검색\n",
      "3. 단어 삭제\n",
      "4. 종료\n"
     ]
    },
    {
     "name": "stdout",
     "output_type": "stream",
     "text": [
      "원하는 메뉴 선택: 4\n"
     ]
    },
    {
     "name": "stdout",
     "output_type": "stream",
     "text": [
      "{'apple': '사과', 'baby': '아기', 'sky': '하늘', 'tree': '나무'}\n"
     ]
    },
    {
     "name": "stdout",
     "output_type": "stream",
     "text": [
      "결과를 저장할까요?(y/n) n\n"
     ]
    },
    {
     "name": "stdout",
     "output_type": "stream",
     "text": [
      "영한 사전:\n",
      " {'apple': '사과', 'baby': '아기', 'sky': '하늘', 'tree': '나무'}\n"
     ]
    }
   ],
   "source": [
    "#2. 원하는 메뉴에 따라 처리 후 파일 저장 여부 판단\n",
    "import pickle\n",
    "def main():\n",
    "    f_read()\n",
    "    menu()\n",
    "    f_write()\n",
    "    \n",
    "def f_read():\n",
    "    with open('eng_kor1.p', 'rb') as fr:\n",
    "        eng_kor = pickle.load(fr)\n",
    "    print(eng_kor)\n",
    "    \n",
    "def f_write():\n",
    "    print(eng_kor)    \n",
    "    sel2 = input('결과를 저장할까요?(y/n)')\n",
    "    if sel2 == 'y' or sel2 == 'Y':\n",
    "        with open('eng_kor1.p', 'wb') as fw:\n",
    "            pickle.dump(eng_kor,fw)\n",
    "    else:\n",
    "        print('영한 사전:\\n',eng_kor)\n",
    "        \n",
    "def menu():\n",
    "    while True:\n",
    "        print('1. 단어 등록')\n",
    "        print('2. 단어 검색')\n",
    "        print('3. 단어 삭제')        \n",
    "        print('4. 종료')\n",
    "        sel = input('원하는 메뉴 선택:')\n",
    "        if sel == '1':\n",
    "            eng = input('등록할 영어 단어 입력:')\n",
    "            kor = input('영어 단어의 한글 의미 입력:')\n",
    "            eng_kor[eng] = kor\n",
    "            print('등록 완료!!')\n",
    "        elif sel == '2':\n",
    "            key_search = input('검색할 영어 단어 입력:')\n",
    "            if key_search in eng_kor:\n",
    "                resul1 = eng_kor[key_search]\n",
    "                print(f'검색된 {key_search} 단어의 의미는 {resul1}입니다')\n",
    "            else:\n",
    "                print('해당 단어가 없습니다')\n",
    "        elif sel == '3':\n",
    "            key_del = input('삭제할 영어 단어 입력:')\n",
    "            if key_del in eng_kor:\n",
    "                eng_kor.pop(key_del) # del eng_kor[key_del] 방법도 삭제 가능\n",
    "                print(f'{key_del} 단어가 삭제되었습니다')\n",
    "            else:\n",
    "                print('해당 단어가 없습니다')        \n",
    "        else:\n",
    "            break \n",
    "main()"
   ]
  },
  {
   "cell_type": "code",
   "execution_count": 9,
   "id": "1030205f-799e-49e3-8351-1e26c20b13ae",
   "metadata": {},
   "outputs": [
    {
     "name": "stdout",
     "output_type": "stream",
     "text": [
      "{'apple': '사과', 'baby': '아기', 'sky': '하늘', 'tree': '나무'}\n",
      "1. 단어 등록\n",
      "2. 단어 검색\n",
      "3. 단어 삭제\n",
      "4. 단어 수정\n",
      "5. 종료\n"
     ]
    },
    {
     "name": "stdout",
     "output_type": "stream",
     "text": [
      "원하는 메뉴 선택: 1\n",
      "등록할 영어 단어 입력: you\n",
      "영어 단어의 한글 의미 입력: 너\n"
     ]
    },
    {
     "name": "stdout",
     "output_type": "stream",
     "text": [
      "등록 완료!!\n",
      "1. 단어 등록\n",
      "2. 단어 검색\n",
      "3. 단어 삭제\n",
      "4. 단어 수정\n",
      "5. 종료\n"
     ]
    },
    {
     "name": "stdout",
     "output_type": "stream",
     "text": [
      "원하는 메뉴 선택: 1\n",
      "등록할 영어 단어 입력: mine\n",
      "영어 단어의 한글 의미 입력: 마음\n"
     ]
    },
    {
     "name": "stdout",
     "output_type": "stream",
     "text": [
      "등록 완료!!\n",
      "1. 단어 등록\n",
      "2. 단어 검색\n",
      "3. 단어 삭제\n",
      "4. 단어 수정\n",
      "5. 종료\n"
     ]
    },
    {
     "name": "stdout",
     "output_type": "stream",
     "text": [
      "원하는 메뉴 선택: 2\n",
      "검색할 영어 단어 입력: you\n"
     ]
    },
    {
     "name": "stdout",
     "output_type": "stream",
     "text": [
      "검색된 you 단어의 의미는 너입니다\n",
      "1. 단어 등록\n",
      "2. 단어 검색\n",
      "3. 단어 삭제\n",
      "4. 단어 수정\n",
      "5. 종료\n"
     ]
    },
    {
     "name": "stdout",
     "output_type": "stream",
     "text": [
      "원하는 메뉴 선택: 4\n",
      "수정할 영어 단어 입력: you\n",
      "수정할 영어 단어의 한글 의미 입력: 당신\n"
     ]
    },
    {
     "name": "stdout",
     "output_type": "stream",
     "text": [
      "you 단어가 수정되었습니다\n",
      "1. 단어 등록\n",
      "2. 단어 검색\n",
      "3. 단어 삭제\n",
      "4. 단어 수정\n",
      "5. 종료\n"
     ]
    },
    {
     "name": "stdout",
     "output_type": "stream",
     "text": [
      "원하는 메뉴 선택: 5\n"
     ]
    },
    {
     "name": "stdout",
     "output_type": "stream",
     "text": [
      "{'apple': '사과', 'baby': '아기', 'sky': '하늘', 'tree': '나무', 'you': '당신', 'mine': '마음'}\n"
     ]
    },
    {
     "name": "stdout",
     "output_type": "stream",
     "text": [
      "결과를 저장할까요?(y/n) y\n"
     ]
    }
   ],
   "source": [
    "#2. 원하는 메뉴에 따라 처리 후 파일 저장 여부 판단\n",
    "import pickle\n",
    "def main():\n",
    "    f_read()\n",
    "    menu()\n",
    "    f_write()\n",
    "    \n",
    "def f_read():\n",
    "    with open('eng_kor1.p', 'rb') as fr:\n",
    "        eng_kor = pickle.load(fr)\n",
    "    print(eng_kor)\n",
    "    \n",
    "def f_write():\n",
    "    print(eng_kor)    \n",
    "    sel2 = input('결과를 저장할까요?(y/n)')\n",
    "    if sel2 == 'y' or sel2 == 'Y':\n",
    "        with open('eng_kor1.p', 'wb') as fw:\n",
    "            pickle.dump(eng_kor,fw)\n",
    "    else:\n",
    "        print('영한 사전:\\n',eng_kor)\n",
    "        \n",
    "def menu():\n",
    "    while True:\n",
    "        print('1. 단어 등록')\n",
    "        print('2. 단어 검색')\n",
    "        print('3. 단어 삭제')\n",
    "        print('4. 단어 수정')\n",
    "        print('5. 종료')\n",
    "        sel = input('원하는 메뉴 선택:')\n",
    "        if sel == '1':\n",
    "            eng = input('등록할 영어 단어 입력:')\n",
    "            kor = input('영어 단어의 한글 의미 입력:')\n",
    "            eng_kor[eng] = kor\n",
    "            print('등록 완료!!')\n",
    "        elif sel == '2':\n",
    "            key_search = input('검색할 영어 단어 입력:')\n",
    "            if key_search in eng_kor:\n",
    "                resul1 = eng_kor[key_search]\n",
    "                print(f'검색된 {key_search} 단어의 의미는 {resul1}입니다')\n",
    "            else:\n",
    "                print('해당 단어가 없습니다')\n",
    "        elif sel == '3':\n",
    "            key_del = input('삭제할 영어 단어 입력:')\n",
    "            if key_del in eng_kor:\n",
    "                eng_kor.pop(key_del) # del eng_kor[key_del] 방법도 삭제 가능\n",
    "                print(f'{key_del} 단어가 삭제되었습니다')\n",
    "            else:\n",
    "                print('해당 단어가 없습니다')\n",
    "        elif sel == '4':\n",
    "            key_update = input('수정할 영어 단어 입력:')\n",
    "            value_update = input('수정할 영어 단어의 한글 의미 입력:')\n",
    "            if key_update in eng_kor:\n",
    "                eng_kor[key_update] = value_update\n",
    "                print(f'{key_update} 단어가 수정되었습니다')            \n",
    "            else:\n",
    "                print('해당 단어가 없습니다')\n",
    "        else:\n",
    "            break \n",
    "main()"
   ]
  },
  {
   "cell_type": "code",
   "execution_count": 5,
   "id": "aa36a970-bb0d-4ffe-8af9-c6f5a4b12a38",
   "metadata": {},
   "outputs": [
    {
     "name": "stdout",
     "output_type": "stream",
     "text": [
      "{'apple': '사과', 'baby': '아기', 'sky': '하늘', 'tree': '나무'}\n"
     ]
    }
   ],
   "source": [
    "#3.파일에 등록된 영한사전 내용 확인\n",
    "with open('eng_kor1.p', 'rb') as fr:\n",
    "    eng_kor_out = pickle.load(fr)\n",
    "print(eng_kor_out)"
   ]
  }
 ],
 "metadata": {
  "kernelspec": {
   "display_name": "Python 3 (ipykernel)",
   "language": "python",
   "name": "python3"
  },
  "language_info": {
   "codemirror_mode": {
    "name": "ipython",
    "version": 3
   },
   "file_extension": ".py",
   "mimetype": "text/x-python",
   "name": "python",
   "nbconvert_exporter": "python",
   "pygments_lexer": "ipython3",
   "version": "3.10.11"
  }
 },
 "nbformat": 4,
 "nbformat_minor": 5
}
