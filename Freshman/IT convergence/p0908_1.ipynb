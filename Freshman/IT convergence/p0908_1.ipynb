{
 "cells": [
  {
   "cell_type": "code",
   "execution_count": 1,
   "metadata": {},
   "outputs": [
    {
     "name": "stdout",
     "output_type": "stream",
     "text": [
      "test\n"
     ]
    }
   ],
   "source": [
    "# 1번\n",
    "print(\"Hello Python\")\n",
    "print(\"Nice to meet you\")\n",
    "print('Hello \"Python\"')\n",
    "print(\"Hello 'python'\")\n",
    "print('Hello', 'Python!')\n",
    "print('Hello' + 'Python!')"
   ]
  },
  {
   "cell_type": "code",
   "execution_count": null,
   "metadata": {},
   "outputs": [],
   "source": [
    "# 2번\n",
    "print(\"I like Python \\\n",
    "      But I do not like Ruby.\")\n",
    "print(\"\"\"I like Python\n",
    "      But I don't like C.\"\"\")\n",
    "pritn('''II like Python\n",
    "      But I don't like C.''')\n"
   ]
  },
  {
   "cell_type": "code",
   "execution_count": null,
   "metadata": {},
   "outputs": [],
   "source": [
    "# 3번\n",
    "print('Hello', end=\" \")\n",
    "print('Python')\n",
    "print(\"Hello\" end=\"&&&\")\n",
    "print(\"Python\")\n",
    "print('Hello', 'Python', sep='#')\n",
    "\n",
    "f = open('dump.txt', 'w')\n",
    "print(\"Hello Python\", file=f)\n",
    "f.close()\n",
    "\n",
    "import sys\n",
    "print('Hello Python', file=sys.stderr)"
   ]
  },
  {
   "cell_type": "code",
   "execution_count": null,
   "metadata": {},
   "outputs": [],
   "source": [
    "# 4번\n",
    "print(\"My mothor\\'s house\")\n",
    "print('\\', \\\", \\\\ \\a, \\t, \\n')"
   ]
  },
  {
   "cell_type": "code",
   "execution_count": null,
   "metadata": {},
   "outputs": [],
   "source": [
    "# 5번\n",
    "i = 123\n",
    "f = 3.14\n",
    "s = 'Hello'\n",
    "\n",
    "print('i : %d, f : %f, s: %s' %(i, f, s))\n",
    "print('i : %9d, f : %5.2f, s: %7s' %(i, f, s))\n",
    "print('i : %09d, f : %05.2f, s: %7s' %(i, f, s))\n",
    "print('i : {}, f : {}, s: {}'.format(i, f, s))\n",
    "print('i : {1}, f : {0}, s: {2}'.format(i, f, s))\n",
    "print('i : {ff}, f : {ii}, s: {ss}'.format(ii = i,ff = f,ss = s))\n"
   ]
  },
  {
   "cell_type": "code",
   "execution_count": null,
   "metadata": {},
   "outputs": [],
   "source": [
    "# 6번 \n",
    "print(\"Hello Python!\".center(20))\n",
    "print(\"Hello Python!\".rjust(20))\n",
    "print(\"Hello Python!\".ljust(20))\n",
    "print(\"Hello Python!\".zfill(20))\n",
    "print(\"Hello Python!\".capitalize())\n",
    "print(\"Hello Python!\".upper())\n",
    "\n"
   ]
  },
  {
   "cell_type": "code",
   "execution_count": null,
   "metadata": {},
   "outputs": [],
   "source": [
    "# 7번\n",
    "print(123); print(3.14)\n",
    "print(True)\n",
    "print(list(range(1, 10)))"
   ]
  },
  {
   "cell_type": "code",
   "execution_count": null,
   "metadata": {},
   "outputs": [],
   "source": [
    "# 8번\n",
    "a = 123\n",
    "b =3.14\n",
    "c ='Hello'\n",
    "\n",
    "print(f\"i : {a}, f : {b}, str : {c}\")\n",
    "print(f\"i : {c:<12s}, f : {c:>10s}, str : {c:^10s}\")\n",
    "print(f'i : {b:6.1f}, f : {b:^.2f}')\n",
    "print(r\"hello\\tworld\\nI'm Kim\")3"
   ]
  }
 ],
 "metadata": {
  "kernelspec": {
   "display_name": "Python 3",
   "language": "python",
   "name": "python3"
  },
  "language_info": {
   "codemirror_mode": {
    "name": "ipython",
    "version": 3
   },
   "file_extension": ".py",
   "mimetype": "text/x-python",
   "name": "python",
   "nbconvert_exporter": "python",
   "pygments_lexer": "ipython3",
   "version": "3.10.11"
  },
  "orig_nbformat": 4
 },
 "nbformat": 4,
 "nbformat_minor": 2
}
