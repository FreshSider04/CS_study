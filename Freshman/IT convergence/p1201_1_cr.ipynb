{
 "cells": [
  {
   "cell_type": "code",
   "execution_count": 4,
   "metadata": {},
   "outputs": [],
   "source": [
    "import time\n",
    "from selenium import webdriver\n",
    "from selenium.webdriver.common.by import By\n",
    "from selenium.webdriver.common.keys import Keys\n",
    "\n",
    "driver = webdriver.Chrome()\n",
    "\n",
    "URL = 'https://www.google.co.kr/imghp'\n",
    "driver.get(URL)\n",
    "\n",
    "\n",
    "driver.implicitly_wait(time_to_wait=10)\n",
    "\n",
    "elem = driver.find_element(By.CSS_SELECTOR, \"#APjFqb\")\n",
    "elem.send_keys(\"바다\")\n",
    "elem.send_keys(Keys.RETURN)\n",
    "\n",
    "elem = driver.find_element(By.TAG_NAME, \"body\")\n",
    "\n",
    "for i in range(60):\n",
    "    elem.send_keys(Keys.PAGE_DOWN)\n",
    "    time.sleep(0.1)\n",
    "\n",
    "try:\n",
    "    driver.find_element(By.CSS_SELECTOR, \"#islmp > div > div > div > div > div.C5Hr4 > div.K414Oe > div.FAGjZe > input\").click()\n",
    "\n",
    "    for i in range(60):\n",
    "        elem.send_keys(Keys.PAGE_DOWN)\n",
    "        time.sleep(0.1)\n",
    "except:\n",
    "    pass"
   ]
  },
  {
   "cell_type": "code",
   "execution_count": 11,
   "metadata": {},
   "outputs": [
    {
     "name": "stdout",
     "output_type": "stream",
     "text": [
      "찾은 이미지 개수: 48\n",
      "찾은 이미지 개수: 691\n"
     ]
    }
   ],
   "source": [
    "links=[]\n",
    "images = driver.find_elements( By.CSS_SELECTOR,\"#islrg > div.islrc > div > a.FRuiCf.islib.nfEiy > div.fR600b.islir > img\")\n",
    "\n",
    "for image in images:\n",
    "    if image.get_attribute('src') is not None:\n",
    "        links.append(image.get_attribute('src'))\n",
    "\n",
    "print('찾은 이미지 개수:', len(links))\n",
    "\n",
    "links=[]\n",
    "images = driver.find_elements( By.CSS_SELECTOR,\"#islrg > div.islrc > div > div > a.FRuiCf.islib.nfEiy > div.fR600b.islir > img\")\n",
    "\n",
    "for image in images:\n",
    "    if image.get_attribute('src') is not None:\n",
    "        links.append(image.get_attribute('src'))\n",
    "\n",
    "print('찾은 이미지 개수:', len(links))"
   ]
  },
  {
   "cell_type": "code",
   "execution_count": 10,
   "metadata": {},
   "outputs": [
    {
     "name": "stdout",
     "output_type": "stream",
     "text": [
      "다운로드 완료\n"
     ]
    }
   ],
   "source": [
    "import urllib.request\n",
    "\n",
    "for i, k in enumerate(links):\n",
    "    url = k\n",
    "    urllib.request.urlretrieve(url, \"C:\\\\Users\\\\FreshSider\\\\Documents\\\\GitHub\\\\CS_study\\\\Python\\\\IT convergence\"+str(i)+\".jpg\")\n",
    "print(\"다운로드 완료\")\n"
   ]
  }
 ],
 "metadata": {
  "kernelspec": {
   "display_name": "Python 3",
   "language": "python",
   "name": "python3"
  },
  "language_info": {
   "codemirror_mode": {
    "name": "ipython",
    "version": 3
   },
   "file_extension": ".py",
   "mimetype": "text/x-python",
   "name": "python",
   "nbconvert_exporter": "python",
   "pygments_lexer": "ipython3",
   "version": "3.10.11"
  }
 },
 "nbformat": 4,
 "nbformat_minor": 2
}
