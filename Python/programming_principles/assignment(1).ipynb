{
 "cells": [
  {
   "cell_type": "code",
   "execution_count": null,
   "metadata": {},
   "outputs": [],
   "source": [
    "# 137쪽 연습문제  :: 6번, 11번, 13번\n",
    "\n",
    "# 6번\n",
    "# 입력 :: 사용자로부터 키를 입력받아서\n",
    "# 처리 ::표준 체중을 계산한 후에\n",
    "# 출력 :: 저체중인지 과체중인지, 정상 체중인지 구하라\n",
    "\n",
    "w, h = map(int, input(\"체중과 키를 입력하십시오 : \").split());\n",
    "\n",
    "standard_weight = (h - 100) * 0.9;\n",
    "\n",
    "if w > standard_weight:\n",
    "    print(\"과체중입니다.\");\n",
    "elif w == standard_weight:\n",
    "    print(\"정상입니다.\");\n",
    "elif w < standard_weight:\n",
    "    print(\"저체중입니다.\");"
   ]
  },
  {
   "cell_type": "code",
   "execution_count": null,
   "metadata": {},
   "outputs": [],
   "source": [
    "# 11번\n",
    "# 1부터 99까지 복권이 있다고 하자\n",
    "# 두 자리가 전부 당첨번호와 일치하면 1등상 100만원을 받는다\n",
    "# 한 자리만 일치하면 50만원, 일치하지 않으면 0원이다.\n",
    "# 복권 번호를 난수로 생성하자\n",
    "\n",
    "from random import*\n",
    "\n",
    "# input\n",
    "choice_num = int(input(\"1~99까지 중에 하나의 숫자를 입력해 주시오 : \"));\n",
    "lucky_num = randint(1, 99)\n",
    "\n",
    "# process\n",
    "your_front_num = choice_num / 10\n",
    "your_back_num = choice_num % 10\n",
    "\n",
    "com_fornt_num = lucky_num / 10\n",
    "com_back_num = lucky_num % 10\n",
    "\n",
    "# result\n",
    "print(\"당첨 번호는 %d입니다\"%(lucky_num))\n",
    "\n",
    "if choice_num == lucky_num:\n",
    "    print(\"축하합니다! 상금은 100만원입니다\")\n",
    "elif (your_front_num == com_fornt_num) or (your_back_num == com_back_num):\n",
    "    print(\"축하합니다! 상금은 50만원입니다\")\n",
    "else:\n",
    "    print(\"아쉽지만, 상금은 없습니다.\")\n",
    "\n"
   ]
  },
  {
   "cell_type": "code",
   "execution_count": null,
   "metadata": {},
   "outputs": [],
   "source": [
    "# 13번\n",
    "# 윤달을 판별하라..\n",
    "year = int(input(\"연도를 입력하십시오 : \"))\n",
    "\n",
    "if (year % 4 == 0 and  year % 100 != 0) or (year % 400):\n",
    "    print(\"윤년입니다.\")\n",
    "else:\n",
    "    print(\"윤년이 아닙니다.\")"
   ]
  }
 ],
 "metadata": {
  "language_info": {
   "name": "python"
  },
  "orig_nbformat": 4
 },
 "nbformat": 4,
 "nbformat_minor": 2
}
