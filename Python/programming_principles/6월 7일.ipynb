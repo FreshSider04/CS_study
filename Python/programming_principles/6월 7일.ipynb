{
 "cells": [
  {
   "cell_type": "code",
   "execution_count": 1,
   "metadata": {},
   "outputs": [
    {
     "name": "stdout",
     "output_type": "stream",
     "text": [
      "11 10 True 1\n"
     ]
    }
   ],
   "source": [
    "class Television:\n",
    "    serialNumber = 0 \n",
    "\n",
    "    def __init__(self, channel, volume, on):\n",
    "        self.channel = channel\n",
    "        self.volume = volume\n",
    "        self.on = on\n",
    "        Television.serialNumber += 1\n",
    "\n",
    "        self.number = Television.serialNumber\n",
    "\n",
    "    def show(self):\n",
    "        print(self.channel, self.volume, self.on, self.number)\n",
    "\n",
    "myTV = Television(11, 10, True)\n",
    "myTV.show()\n",
    "        "
   ]
  },
  {
   "cell_type": "code",
   "execution_count": null,
   "metadata": {},
   "outputs": [],
   "source": [
    "import math\n",
    "class Circle:\n",
    "    def __init__(self, radius = 0):\n",
    "        self.radius =radius\n",
    "    def getArea(self):\n",
    "        return math.pi * self.radius * self.radius\n",
    "    def __eq__(self, other):\n",
    "        return self.radius == other.radius\n",
    "    \n",
    "c = Circle(10)\n",
    "print(\"원의 면적\", c.getArea())\n",
    "\n",
    "c1 = Circle(10)\n",
    "c2 = Circle(5)\n",
    "\n",
    "if c1 == c2:\n",
    "    print(:)"
   ]
  },
  {
   "cell_type": "code",
   "execution_count": 6,
   "metadata": {},
   "outputs": [
    {
     "name": "stdout",
     "output_type": "stream",
     "text": [
      "<class '__main__.Counter'>\n"
     ]
    },
    {
     "ename": "TypeError",
     "evalue": "Counter.increment() missing 1 required positional argument: 'self'",
     "output_type": "error",
     "traceback": [
      "\u001b[1;31m---------------------------------------------------------------------------\u001b[0m",
      "\u001b[1;31mTypeError\u001b[0m                                 Traceback (most recent call last)",
      "Cell \u001b[1;32mIn[6], line 13\u001b[0m\n\u001b[0;32m     11\u001b[0m a \u001b[39m=\u001b[39m Counter\n\u001b[0;32m     12\u001b[0m \u001b[39mprint\u001b[39m(a)\n\u001b[1;32m---> 13\u001b[0m \u001b[39mprint\u001b[39m(a\u001b[39m.\u001b[39;49mincrement())\n\u001b[0;32m     14\u001b[0m \u001b[39mprint\u001b[39m(a)\n\u001b[0;32m     15\u001b[0m \u001b[39mprint\u001b[39m(a\u001b[39m.\u001b[39mincrement())\n",
      "\u001b[1;31mTypeError\u001b[0m: Counter.increment() missing 1 required positional argument: 'self'"
     ]
    }
   ],
   "source": [
    "class Counter:\n",
    "    def __init__(self):\n",
    "        self.count = 100\n",
    "    def increment(self):\n",
    "        self.count += 1\n",
    "        return self.count\n",
    "    def __str__(self):\n",
    "        msg = \"카운트값:\" + str(self.count)\n",
    "        return msg\n",
    "\n",
    "a = Counter\n",
    "print(a)\n",
    "print(a.increment())\n",
    "print(a)\n",
    "print(a.increment())"
   ]
  },
  {
   "cell_type": "code",
   "execution_count": 8,
   "metadata": {},
   "outputs": [
    {
     "name": "stdout",
     "output_type": "stream",
     "text": [
      "nja : Meow\n",
      "djfh : Woof\n"
     ]
    }
   ],
   "source": [
    "class Animal:\n",
    "    def __init__(self, name):\n",
    "        self.name = name\n",
    "    def talk(self):\n",
    "        pass\n",
    "class Cat(Animal):\n",
    "    def talk(self):\n",
    "        return \"Meow\"\n",
    "class Dog(Animal):\n",
    "    def talk(self):\n",
    "        return \"Woof\"\n",
    "animals = [Cat(\"MiMi\"), Dog(\"LaLa\")]\n",
    "for a in animals:\n",
    "    print(a.name + ' : ' + a.talk())\n",
    "    "
   ]
  },
  {
   "cell_type": "code",
   "execution_count": 12,
   "metadata": {},
   "outputs": [],
   "source": [
    "from tkinter import *\n",
    "\n",
    "root = Tk()\n",
    "\n",
    "root.geometry(\"500x200\")\n",
    "\n",
    "def process():\n",
    "    label[\"text\"] = \"버튼이 클릭됨\"\n",
    "\n",
    "button = Button(root, text=\"클릭하세요!\", command=process)\n",
    "button.pack()\n",
    "label = Label(root, text=\"버튼 클릭 안됨\")\n",
    "label.pack()\n",
    "\n",
    "root.mainloop()"
   ]
  },
  {
   "cell_type": "code",
   "execution_count": 13,
   "metadata": {},
   "outputs": [],
   "source": [
    "from tkinter import *\n",
    "\n",
    "root = Tk()\n",
    "\n",
    "root.geometry(\"200x100\")\n",
    "\n",
    "def process():\n",
    "    label[\"text\"] = entry.get()+\"가 입력됨\"\n",
    "entry = Entry(root, fg=\"black\", bg=\"yellow\", width=20)\n",
    "entry.pack()\n",
    "\n",
    "button = Button(root, text=\"클릭하세요!\", command=process)\n",
    "button.pack()\n",
    "label = Label(root, text=\"아무것도 입력안됨!\")\n",
    "label.pack()\n",
    "root.mainloop()"
   ]
  },
  {
   "cell_type": "code",
   "execution_count": null,
   "metadata": {},
   "outputs": [],
   "source": [
    "from tkinter import *\n",
    "\n",
    "root = Tk()\n",
    "\n",
    "\n",
    "def process():\n",
    "    if var1.get() == 1:\n",
    "        label[\"text\"] = \"햄버거 선택\"\n",
    "    if var1.get() == 2:\n",
    "        label[\"text\"] = \"피자 선택\"\n",
    "    else:\n",
    "        label[\"text\"] = \"김밤 선택\"\n",
    "\n",
    "var1 = IntVar()\n",
    "Radiobutton(root, text=\"햄버거\", Variable=var1, value=1, command=process).pack\n",
    "label = Label(root, text=\"아무것도 입력안됨!\")\n",
    "label.pack()\n",
    "root.mainloop()"
   ]
  },
  {
   "cell_type": "code",
   "execution_count": 14,
   "metadata": {},
   "outputs": [],
   "source": [
    "root = Tk()\n",
    "root.geometry(\"200x100\")\n",
    "label = Label(root, text=\"Time Font 폰트와 빨강색을 사용합니다.\", fg= \"red\", font=\"Times 32 bold italic\")\n",
    "label.config(text=\"world\")\n",
    "label.pack()\n",
    "root.mainloop()"
   ]
  },
  {
   "cell_type": "code",
   "execution_count": 15,
   "metadata": {},
   "outputs": [],
   "source": [
    "from tkinter import *\n",
    "\n",
    "root = Tk()\n",
    "\n",
    "b1 = button = Button(root, text=\"클릭하세요!\", bg=\"red\", fg=\"white\")\n",
    "b2 = button = Button(root, text=\"클릭하세요!\", bg=\"green\", fg=\"white\")\n",
    "b3 = button = Button(root, text=\"클릭하세요!\", bg=\"orange\", fg=\"white\")\n",
    "b4 = button = Button(root, text=\"클릭하세요!\", bg=\"pink\", fg=\"white\")\n",
    "\n",
    "b1.grid(row=0, column=0)\n",
    "b2.grid(row=0, column=1)\n",
    "b3.grid(row=1, column=0)\n",
    "b4.grid(row=1, column=1)\n",
    "\n",
    "\n",
    "root.mainloop()"
   ]
  },
  {
   "cell_type": "code",
   "execution_count": null,
   "metadata": {},
   "outputs": [],
   "source": []
  }
 ],
 "metadata": {
  "kernelspec": {
   "display_name": "Python 3",
   "language": "python",
   "name": "python3"
  },
  "language_info": {
   "name": "python",
   "version": "3.10.11"
  },
  "orig_nbformat": 4
 },
 "nbformat": 4,
 "nbformat_minor": 2
}
