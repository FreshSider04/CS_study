{
 "cells": [
  {
   "cell_type": "code",
   "execution_count": 16,
   "metadata": {},
   "outputs": [
    {
     "name": "stdout",
     "output_type": "stream",
     "text": [
      "upper_list1 =  <map object at 0x000002F652293040>\n"
     ]
    }
   ],
   "source": [
    "def to_upper(x):\n",
    "    \n",
    "    return x.upper()\n",
    "\n",
    "list1 = ['a', 'b', 'c', 'd']\n",
    "\n",
    "# list1 = str(list1)\n",
    "# upper_list1 = to_upper(list1)\n",
    "\n",
    "upper_list1 = list(map(to_upper, list1))\n",
    "print('upper_list1 = ', upper_list1)"
   ]
  },
  {
   "cell_type": "code",
   "execution_count": 30,
   "metadata": {},
   "outputs": [
    {
     "name": "stdout",
     "output_type": "stream",
     "text": [
      "upper_list1 =  ['A', 'B', 'C', 'D']\n"
     ]
    }
   ],
   "source": [
    "list1 = ['a', 'b', 'c', 'd']\n",
    "\n",
    "# list1 = str(list1)\n",
    "# upper_list1 = to_upper(list1)\n",
    "\n",
    "upper_list1 = list(map(lambda x: x.upper(), list1))\n",
    "print('upper_list1 = ', upper_list1)"
   ]
  },
  {
   "cell_type": "code",
   "execution_count": 31,
   "metadata": {},
   "outputs": [
    {
     "name": "stdout",
     "output_type": "stream",
     "text": [
      "even_list = [2, 4, 6, 8, 10]\n"
     ]
    }
   ],
   "source": [
    "# filter fun\n",
    "list1 = [1, 2, 3, 4, 5, 6, 7, 8, 9, 10]\n",
    "\n",
    "even_list = []\n",
    "\n",
    "for i in filter(lambda x: x % 2  == 0, list1):\n",
    "    even_list.append(i)\n",
    "\n",
    "print('even_list =', even_list)"
   ]
  },
  {
   "cell_type": "code",
   "execution_count": 35,
   "metadata": {},
   "outputs": [
    {
     "name": "stdout",
     "output_type": "stream",
     "text": [
      "성년 리스트 : 34 39 20 54 "
     ]
    }
   ],
   "source": [
    "def adult_fun(n):\n",
    "    if n >= 19:\n",
    "        return True\n",
    "    else:\n",
    "        return False\n",
    "    \n",
    "age = [34, 39, 20, 18, 13, 54]\n",
    "print('성년 리스트 : ', end= \"\")\n",
    "for i in filter(adult_fun, age):\n",
    "    print(i, end= \" \")"
   ]
  },
  {
   "cell_type": "code",
   "execution_count": 39,
   "metadata": {},
   "outputs": [
    {
     "name": "stdout",
     "output_type": "stream",
     "text": [
      "15\n",
      "1에서 100까지의 합: 5050\n",
      "10! 55\n"
     ]
    }
   ],
   "source": [
    "# reduce\n",
    "from functools import reduce\n",
    "print(reduce(lambda x, y: x + y, [1,2,3,4,5]))\n",
    "\n",
    "n = reduce(lambda x, y: x + y, range(1, 101))\n",
    "print('1에서 100까지의 합:', n)\n",
    "\n",
    "n = reduce(lambda x, y: x + y, range(1, 11))\n",
    "print('10!', n)"
   ]
  },
  {
   "cell_type": "code",
   "execution_count": 51,
   "metadata": {},
   "outputs": [
    {
     "name": "stdout",
     "output_type": "stream",
     "text": [
      "gcd(12, 18) : 6\n"
     ]
    }
   ],
   "source": [
    "from math import *\n",
    "\n",
    "num1 = gcd(12, 18)\n",
    "print(f'gcd(12, 18) : {num1}')"
   ]
  },
  {
   "cell_type": "code",
   "execution_count": 52,
   "metadata": {},
   "outputs": [
    {
     "name": "stdout",
     "output_type": "stream",
     "text": [
      "      May 2022\n",
      "Mo Tu We Th Fr Sa Su\n",
      "                   1\n",
      " 2  3  4  5  6  7  8\n",
      " 9 10 11 12 13 14 15\n",
      "16 17 18 19 20 21 22\n",
      "23 24 25 26 27 28 29\n",
      "30 31\n"
     ]
    }
   ],
   "source": [
    "import calendar\n",
    "calendar.prmonth(2022, 5)"
   ]
  },
  {
   "cell_type": "code",
   "execution_count": 73,
   "metadata": {},
   "outputs": [
    {
     "name": "stdout",
     "output_type": "stream",
     "text": [
      "1.0\n"
     ]
    }
   ],
   "source": [
    "from random import *\n",
    "print(uniform(1, 1))"
   ]
  }
 ],
 "metadata": {
  "kernelspec": {
   "display_name": "Python 3",
   "language": "python",
   "name": "python3"
  },
  "language_info": {
   "codemirror_mode": {
    "name": "ipython",
    "version": 3
   },
   "file_extension": ".py",
   "mimetype": "text/x-python",
   "name": "python",
   "nbconvert_exporter": "python",
   "pygments_lexer": "ipython3",
   "version": "3.10.11"
  },
  "orig_nbformat": 4
 },
 "nbformat": 4,
 "nbformat_minor": 2
}
