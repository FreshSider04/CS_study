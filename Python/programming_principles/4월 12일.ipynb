{
 "cells": [
  {
   "cell_type": "code",
   "execution_count": 1,
   "metadata": {},
   "outputs": [
    {
     "name": "stdout",
     "output_type": "stream",
     "text": [
      "{'red': '빨강', 'bule': '파랑'}\n",
      "{'bule': '파랑'}\n",
      "{}\n"
     ]
    }
   ],
   "source": [
    "# del vs clear\n",
    "dic1 = {'red' : '빨강', 'bule' : '파랑','green' : '초록'}\n",
    "print(dic1)\n",
    "\n",
    "# del\n",
    "del dic1['red']\n",
    "print(dic1)\n",
    "\n",
    "# vs\n",
    "\n",
    "# clear\n",
    "dic1.clear()\n",
    "print(dic1)"
   ]
  },
  {
   "cell_type": "code",
   "execution_count": 2,
   "metadata": {},
   "outputs": [
    {
     "name": "stdout",
     "output_type": "stream",
     "text": [
      "<라면> 궁합음식은 <김치>입니다\n",
      "<라면> 궁합음식은 <김치>입니다\n",
      "<라면> 궁합음식은 <김치>입니다\n",
      "<떡볶이> 궁합음식은 <오뎅>입니다\n",
      "그런 음식은 없습니다.\n",
      "그런 음식은 없습니다.\n",
      "<짜장면> 궁합음식은 <단무지>입니다\n",
      "그런 음식은 없습니다.\n",
      "그런 음식은 없습니다.\n",
      "그런 음식은 없습니다.\n",
      "그런 음식은 없습니다.\n",
      "그런 음식은 없습니다.\n",
      "그런 음식은 없습니다.\n",
      "그런 음식은 없습니다.\n",
      "그런 음식은 없습니다.\n",
      "그런 음식은 없습니다.\n",
      "그런 음식은 없습니다.\n",
      "그런 음식은 없습니다.\n",
      "그런 음식은 없습니다.\n",
      "그런 음식은 없습니다.\n",
      "그런 음식은 없습니다.\n",
      "그런 음식은 없습니다.\n"
     ]
    }
   ],
   "source": [
    "food = {'떡볶이' : '오뎅', '짜장면' : '단무지', '라면' : '김치'}\n",
    "\n",
    "while True:\n",
    "    myfood = input(str(list(food.keys())) + '중 좋아하는 음식은?')\n",
    "\n",
    "    if myfood in food:\n",
    "        print(\"<%s> 궁합음식은 <%s>입니다\" %(myfood, food.get(myfood)))\n",
    "    elif myfood == \"끝\":\n",
    "        break\n",
    "    else:\n",
    "        print(\"그런 음식은 없습니다.\")\n"
   ]
  },
  {
   "cell_type": "code",
   "execution_count": null,
   "metadata": {},
   "outputs": [],
   "source": [
    "dic1 = {'red' : '빨강', 'green' : '초록', 'bule' : '파랑'}\n",
    "dic2 = {'white' : '흰색', 'black' : '블랙'}\n",
    "dic3 = {'red' : '빨강', 'yello' : '노랑'}\n",
    "\n",
    "# 키와 값을 복사해 다른 딕셔너리에 븥힌다.\n",
    "dic1.update(dic2)\n",
    "print(dic1)\n",
    "\n",
    "# 동일한 키값이 있는 경유 뒤의 값으로 병합\n",
    "dic1.update(dic3)\n",
    "print(dic1)"
   ]
  },
  {
   "cell_type": "code",
   "execution_count": 5,
   "metadata": {},
   "outputs": [
    {
     "name": "stdout",
     "output_type": "stream",
     "text": [
      "2869724114752\n",
      "2869724114752\n",
      "{'red': '빨강', 'green': '초록', 'bule': '파랑'}\n",
      "{'red': '빨강', 'green': '초록', 'bule': '파랑'}\n",
      "{'red': '레드', 'green': '초록', 'bule': '파랑'} 2869724114752\n",
      "{'red': '빨강', 'green': '초록', 'bule': '파랑'} 2869724112384\n",
      "2869654719824 2869654719824\n",
      "100 100\n",
      "2869654723024 200\n",
      "2869654719824 100\n"
     ]
    }
   ],
   "source": [
    "dic1 = {'red' : '빨강', 'green' : '초록', 'bule' : '파랑'}\n",
    "# 앝은 복사\n",
    "dic2 = dic1\n",
    "print(id(dic1))\n",
    "print(id(dic2))\n",
    "\n",
    "# 깊은 복사\n",
    "dic2 = dic1.copy()\n",
    "print(dic1); print(dic2)\n",
    "\n",
    "dic1['red'] = '레드'\n",
    "\n",
    "print(dic1, id(dic1))\n",
    "print(dic2, id(dic2))\n",
    "\n",
    "a = 100\n",
    "b = a\n",
    "print(id(a),id(b))\n",
    "print(a, b)\n",
    "\n",
    "b = 200\n",
    "print(id(b), b); print(id(a), a)"
   ]
  },
  {
   "cell_type": "code",
   "execution_count": 10,
   "metadata": {},
   "outputs": [
    {
     "name": "stdout",
     "output_type": "stream",
     "text": [
      "{'a': 90, 'b': 200, 'e': 50}\n",
      "{'a': 900, 'b': 200, 'e': 50, 'f': 60}\n",
      "{1: 'one', 2: 'two', 3: 'three'}\n",
      "{1: '일', 2: 'two', 3: 'three'}\n"
     ]
    }
   ],
   "source": [
    "x = {'a' : 100, 'b' : 200}\n",
    "\n",
    "# 키값이 숫자인 경우에 업데이트 불가!\n",
    "x.update(a = 90)\n",
    "x.update(e = 50)\n",
    "print(x)\n",
    "\n",
    "x.update(a = 900, f = 60)\n",
    "print(x)\n",
    "\n",
    "#문제점 해결법\n",
    "x1 = {1 : 'one', 2 : 'two', 3 : 'three'}\n",
    "print(x1)\n",
    "\n",
    "x1.update({1 : '일'})\n",
    "print(x1)"
   ]
  },
  {
   "cell_type": "code",
   "execution_count": 13,
   "metadata": {},
   "outputs": [
    {
     "name": "stdout",
     "output_type": "stream",
     "text": [
      "{1: 'one', 3: 'three', 2: 'two', 4: 'four'}\n",
      "{1: 'one', 3: 'three', 2: 'two', 4: 'four'}\n"
     ]
    }
   ],
   "source": [
    "# update(리스트,  튜플)\n",
    "y = {1 : 'one',  3 : 'three'}\n",
    "y.update([[2, 'two'], [4, 'four']])\n",
    "print(y)\n",
    "\n",
    "y.update(((2, 'two'), (4, 'four')))\n",
    "print(y)"
   ]
  },
  {
   "cell_type": "code",
   "execution_count": 1,
   "metadata": {},
   "outputs": [
    {
     "name": "stdout",
     "output_type": "stream",
     "text": [
      "{1: 'one', 3: 'three', 2: 'two'}\n"
     ]
    }
   ],
   "source": [
    "y = {1 : 'one',  3 : 'three'}\n",
    "y.update(zip([1, 2], ['one', 'two']))\n",
    "print(y)"
   ]
  },
  {
   "cell_type": "code",
   "execution_count": null,
   "metadata": {},
   "outputs": [],
   "source": [
    "person1 = {'이름' : '이순신', '나이' : 30}\n",
    "\n",
    "for key in person1:\n",
    "    print('{} : {}'.format(key, person1[key]))\n",
    "\n",
    "for key1, value1 in person1.items():\n",
    "    print(key1, value1)"
   ]
  },
  {
   "cell_type": "code",
   "execution_count": 2,
   "metadata": {},
   "outputs": [
    {
     "name": "stdout",
     "output_type": "stream",
     "text": [
      "True\n",
      "{'U': 2, 'l': 2, 's': 2, 'a': 2, 'n': 2}\n"
     ]
    }
   ],
   "source": [
    "dic1 = {'red' : '빨강', 'green' : '초록', 'bule' : '파랑'}\n",
    "print('red' in dic1)\n",
    "\n",
    "word = 'UlsanUlsan'\n",
    "word_count = {uc : word.count(uc) for uc in word}\n",
    "print(word_count)"
   ]
  },
  {
   "cell_type": "code",
   "execution_count": null,
   "metadata": {},
   "outputs": [],
   "source": [
    "dic1 = {'kim' : 99, 'lee' : 88}\n",
    "dic2 = {}\n",
    "dic2 = {name : score for name, score in dic1.items() if score > 70}\n",
    "print(dic2)"
   ]
  },
  {
   "cell_type": "code",
   "execution_count": 3,
   "metadata": {},
   "outputs": [
    {
     "name": "stdout",
     "output_type": "stream",
     "text": [
      "{6: None, 4: None, 5: None, 1: None, 2: None}\n",
      "[6, 4, 5, 1, 2]\n"
     ]
    }
   ],
   "source": [
    "arr = [6, 4, 5, 5, 5, 5, 5, 1, 1 ,2]\n",
    "result1 = dict.fromkeys(arr)\n",
    "print(result1)\n",
    "result2 = list(result1)\n",
    "\n",
    "print(result2)"
   ]
  },
  {
   "cell_type": "code",
   "execution_count": null,
   "metadata": {},
   "outputs": [],
   "source": [
    "person1 = {}\n",
    "\n",
    "for i in  range(5):\n",
    "    name = input('이름 :')\n",
    "    num = input('전화번호 :')\n",
    "    person1[name] = num\n",
    "else:\n",
    "    print('입련완료!')\n",
    "\n",
    "name = input('검색한 이름 입력 :')\n"
   ]
  }
 ],
 "metadata": {
  "kernelspec": {
   "display_name": "Python 3",
   "language": "python",
   "name": "python3"
  },
  "language_info": {
   "codemirror_mode": {
    "name": "ipython",
    "version": 3
   },
   "file_extension": ".py",
   "mimetype": "text/x-python",
   "name": "python",
   "nbconvert_exporter": "python",
   "pygments_lexer": "ipython3",
   "version": "3.10.11"
  },
  "orig_nbformat": 4
 },
 "nbformat": 4,
 "nbformat_minor": 2
}
