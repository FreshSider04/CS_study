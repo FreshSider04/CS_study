{
 "cells": [
  {
   "cell_type": "code",
   "execution_count": 5,
   "metadata": {},
   "outputs": [
    {
     "name": "stdout",
     "output_type": "stream",
     "text": [
      "내 이름은 고길동입니다\n",
      "원주율은 3.141593인데 이걸 줄이면 3.14가 된답니다!\n",
      "원주율은          내가 발견했을 듯?!\n",
      "ㅎㅎㅎ 나는 0000009.33야\n"
     ]
    }
   ],
   "source": [
    "# % 포멧팅\n",
    "print('내 이름은 %s입니다' %('고길동'))\n",
    "# 서식 세부 설정법!\n",
    "\n",
    "# %.2f :: 소수점 둘 쨰 자리까지 나타낸다,\n",
    "# 참고로 기본 실수는 소수점 6자리까지 표현한다.\n",
    "print('원주율은 %f인데 이걸 줄이면 %.2f가 된답니다!' %(3.1415926,3.1415926))\n",
    "# %10s :: 길이를 10만큼 주고 오른쪽 정렬\n",
    "# %-10s는 왼쪽 정렬\n",
    "print('원주율은 %10s가 발견했을 듯?!' %('내'))\n",
    "# %010.2f :: 길이를 10만큼 할당하고 나머지를 0으로 채운다.\n",
    "# 길이는 점까지 포함한 길이이다.\n",
    "print('ㅎㅎㅎ 나는 %010.2f야' %(9.32819329283))\n"
   ]
  },
  {
   "cell_type": "code",
   "execution_count": 15,
   "metadata": {},
   "outputs": [
    {
     "name": "stdout",
     "output_type": "stream",
     "text": [
      "왼쪽 자동 정렬 : 3.2            입니다.\n",
      "아래 좌우 내가 무슨 말을 적는가아ㅏㅏ 3.18\n",
      "1 X 1 = 1\n",
      "1 X 2 = 2\n",
      "1 X 3 = 3\n",
      "1 X 4 = 4\n",
      "1 X 5 = 5\n",
      "1 X 6 = 6\n",
      "1 X 7 = 7\n",
      "1 X 8 = 8\n",
      "1 X 9 = 9\n",
      "2 X 1 = 2\n",
      "2 X 2 = 4\n",
      "2 X 3 = 6\n",
      "2 X 4 = 8\n",
      "2 X 5 = 10\n",
      "2 X 6 = 12\n",
      "2 X 7 = 14\n",
      "2 X 8 = 16\n",
      "2 X 9 = 18\n",
      "3 X 1 = 3\n",
      "3 X 2 = 6\n",
      "3 X 3 = 9\n",
      "3 X 4 = 12\n",
      "3 X 5 = 15\n",
      "3 X 6 = 18\n",
      "3 X 7 = 21\n",
      "3 X 8 = 24\n",
      "3 X 9 = 27\n",
      "4 X 1 = 4\n",
      "4 X 2 = 8\n",
      "4 X 3 = 12\n",
      "4 X 4 = 16\n",
      "4 X 5 = 20\n",
      "4 X 6 = 24\n",
      "4 X 7 = 28\n",
      "4 X 8 = 32\n",
      "4 X 9 = 36\n",
      "5 X 1 = 5\n",
      "5 X 2 = 10\n",
      "5 X 3 = 15\n",
      "5 X 4 = 20\n",
      "5 X 5 = 25\n",
      "5 X 6 = 30\n",
      "5 X 7 = 35\n",
      "5 X 8 = 40\n",
      "5 X 9 = 45\n",
      "6 X 1 = 6\n",
      "6 X 2 = 12\n",
      "6 X 3 = 18\n",
      "6 X 4 = 24\n",
      "6 X 5 = 30\n",
      "6 X 6 = 36\n",
      "6 X 7 = 42\n",
      "6 X 8 = 48\n",
      "6 X 9 = 54\n",
      "7 X 1 = 7\n",
      "7 X 2 = 14\n",
      "7 X 3 = 21\n",
      "7 X 4 = 28\n",
      "7 X 5 = 35\n",
      "7 X 6 = 42\n",
      "7 X 7 = 49\n",
      "7 X 8 = 56\n",
      "7 X 9 = 63\n",
      "8 X 1 = 8\n",
      "8 X 2 = 16\n",
      "8 X 3 = 24\n",
      "8 X 4 = 32\n",
      "8 X 5 = 40\n",
      "8 X 6 = 48\n",
      "8 X 7 = 56\n",
      "8 X 8 = 64\n",
      "8 X 9 = 72\n",
      "9 X 1 = 9\n",
      "9 X 2 = 18\n",
      "9 X 3 = 27\n",
      "9 X 4 = 36\n",
      "9 X 5 = 45\n",
      "9 X 6 = 54\n",
      "9 X 7 = 63\n",
      "9 X 8 = 72\n",
      "9 X 9 = 81\n"
     ]
    }
   ],
   "source": [
    "# .format()\n",
    "\n",
    "# 출력서식\n",
    "# {:len} :: 출력할 길이를 지정, 묵시적으로 문자열은 왼, 숫자는 오른\n",
    "# {:<len} :: 왼쪽으로 배열\n",
    "# {:^len} :: 중앙으로 배열\n",
    "print('왼쪽 자동 정렬 : {:<15}입니다.'.format(3.2))\n",
    "print('아래 좌우 내가 무슨 말을 적는가아ㅏㅏ {:.2f}'.format(3.18297))\n",
    "\n",
    "for i in range(1, 10):\n",
    "    for j in range(1, 10):\n",
    "        print(\"{0} X {1} = {2}\".format(int(i), int(j), i*j), end=\"\\n\")"
   ]
  },
  {
   "cell_type": "code",
   "execution_count": 21,
   "metadata": {},
   "outputs": [
    {
     "name": "stdout",
     "output_type": "stream",
     "text": [
      "나는      ulsan에 삽니다.\n",
      "내 이름은 {kim}, {name}\n"
     ]
    }
   ],
   "source": [
    "# f-string\n",
    "city  = 'ulsan'\n",
    "\n",
    "print(f'나는 {city:>10}에 삽니다.')\n",
    "\n",
    "name = 'kim'\n",
    "\n",
    "print(f\"내 이름은 {{{name}}}, {{name}}\")"
   ]
  },
  {
   "cell_type": "code",
   "execution_count": 22,
   "metadata": {},
   "outputs": [
    {
     "name": "stdout",
     "output_type": "stream",
     "text": [
      "오늘은 2023년 4월 17일입니다.\n",
      "오늘은 2023년 4월 17일입니다.\n",
      "오늘은 2023년 4월 17일입니다.\n"
     ]
    }
   ],
   "source": [
    "# my mission 4\n",
    "year = 2023; month = 4; day = 17;\n",
    "\n",
    "print('오늘은 %d년 %d월 %d일입니다.' %(year, month, day))\n",
    "print('오늘은 {}년 {}월 {}일입니다.'.format(year,month,day))\n",
    "print(f'오늘은 {year}년 {month}월 {day}일입니다.')"
   ]
  }
 ],
 "metadata": {
  "kernelspec": {
   "display_name": "Python 3",
   "language": "python",
   "name": "python3"
  },
  "language_info": {
   "codemirror_mode": {
    "name": "ipython",
    "version": 3
   },
   "file_extension": ".py",
   "mimetype": "text/x-python",
   "name": "python",
   "nbconvert_exporter": "python",
   "pygments_lexer": "ipython3",
   "version": "3.10.11"
  },
  "orig_nbformat": 4
 },
 "nbformat": 4,
 "nbformat_minor": 2
}
