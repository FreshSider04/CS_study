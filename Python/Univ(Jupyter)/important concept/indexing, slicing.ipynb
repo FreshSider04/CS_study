{
 "cells": [
  {
   "cell_type": "code",
   "execution_count": 2,
   "metadata": {},
   "outputs": [
    {
     "name": "stdout",
     "output_type": "stream",
     "text": [
      "u\n",
      "s\n"
     ]
    }
   ],
   "source": [
    "# 인덱싱\n",
    "# 특정한 위치의 원소를 불러오는 것\n",
    "print('ulsan'[0])\n",
    "print('ulsan'[-3])"
   ]
  },
  {
   "cell_type": "code",
   "execution_count": 9,
   "metadata": {},
   "outputs": [
    {
     "name": "stdout",
     "output_type": "stream",
     "text": [
      "9\n",
      "usnit\n",
      "usnit\n"
     ]
    }
   ],
   "source": [
    "# 슬라이싱!!! 매우 중요\n",
    "# 문자열[시작, 끝, 간격]\n",
    "\n",
    "str1 = 'ulsan ict'\n",
    "num_str1 = len(str1)\n",
    "print(num_str1)\n",
    "print(str1[0:num_str1:2])\n",
    "print(str1[::2])"
   ]
  },
  {
   "cell_type": "code",
   "execution_count": 12,
   "metadata": {},
   "outputs": [
    {
     "name": "stdout",
     "output_type": "stream",
     "text": [
      "04\n",
      "나의 생일은 2004년 12월 06일입니다.\n"
     ]
    }
   ],
   "source": [
    "# my mission 4\n",
    "jumin_num = \"041206-3*******\"\n",
    "year = '20' + jumin_num[0:2]\n",
    "month = jumin_num[2:4]\n",
    "day = jumin_num[4:6]\n",
    "\n",
    "print(f'나의 생일은 {year}년 {month}월 {day}일입니다.')"
   ]
  },
  {
   "cell_type": "code",
   "execution_count": 1,
   "metadata": {},
   "outputs": [
    {
     "name": "stdout",
     "output_type": "stream",
     "text": [
      "0\n",
      "-1\n"
     ]
    }
   ],
   "source": [
    "str1 = 'python good'\n",
    "\n",
    "print(str1.find(\"p\"))\n",
    "print(str1.find(\"q\"))\n"
   ]
  }
 ],
 "metadata": {
  "kernelspec": {
   "display_name": "Python 3",
   "language": "python",
   "name": "python3"
  },
  "language_info": {
   "codemirror_mode": {
    "name": "ipython",
    "version": 3
   },
   "file_extension": ".py",
   "mimetype": "text/x-python",
   "name": "python",
   "nbconvert_exporter": "python",
   "pygments_lexer": "ipython3",
   "version": "3.10.11"
  },
  "orig_nbformat": 4
 },
 "nbformat": 4,
 "nbformat_minor": 2
}
