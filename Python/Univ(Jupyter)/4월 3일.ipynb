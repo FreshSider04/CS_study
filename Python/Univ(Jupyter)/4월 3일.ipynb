{
 "cells": [
  {
   "cell_type": "code",
   "execution_count": 1,
   "metadata": {},
   "outputs": [
    {
     "name": "stdout",
     "output_type": "stream",
     "text": [
      "() (1,)\n"
     ]
    }
   ],
   "source": [
    "# 튜플\n",
    "# 원소가 하나여도 콤마를 찍어야 한다.\n",
    "tu1 = ()\n",
    "tu2 = (1,)\n",
    "tu3 = (1, 2, 3, 4)\n",
    "tu4 = tuple(range(1, 4))\n",
    "print(tu1, tu2)"
   ]
  },
  {
   "cell_type": "code",
   "execution_count": null,
   "metadata": {},
   "outputs": [],
   "source": [
    "tu1 = ('one', 'two', 'three')\n",
    "tu2 = tuple(\"pyt\")\n",
    "tu3 = (['one', 'two'])\n",
    "# 리스트를 원소로 하려면 콤마 필요!\n",
    "tu3 = (['one', 'two'],)"
   ]
  },
  {
   "cell_type": "code",
   "execution_count": 2,
   "metadata": {},
   "outputs": [
    {
     "name": "stdout",
     "output_type": "stream",
     "text": [
      "40\n"
     ]
    }
   ],
   "source": [
    "tu1 = (10, 20, 30, 40)\n",
    "tu2 = ('one', 'two', 'three')\n",
    "\n",
    "# 인덱싱을 해야 데이터 자체에 접근가능!\n",
    "print(tu1[1] * 2)"
   ]
  },
  {
   "cell_type": "code",
   "execution_count": 1,
   "metadata": {},
   "outputs": [
    {
     "name": "stdout",
     "output_type": "stream",
     "text": [
      "k i m\n",
      "k i m\n",
      "kim 30 ulsan\n"
     ]
    }
   ],
   "source": [
    "# packing ,unpacking\n",
    "man1 = 'kim'\n",
    "# 언패킹\n",
    "name, age, addr = man1 \n",
    "print(name, age, addr)\n",
    "\n",
    "# 패킹\n",
    "man1 = list('kim')\n",
    "name, age, addr = man1\n",
    "print(name, age, addr)\n",
    "\n",
    "# 리스트 패킹\n",
    "man1 = ['kim', 30, 'ulsan']\n",
    "name, age, addr = man1\n",
    "print(name, age, addr)\n",
    "\n",
    "# 튜플 패킹\n",
    "# 리스트와 동일"
   ]
  },
  {
   "cell_type": "code",
   "execution_count": null,
   "metadata": {},
   "outputs": [],
   "source": []
  },
  {
   "cell_type": "code",
   "execution_count": 6,
   "metadata": {},
   "outputs": [
    {
     "name": "stdout",
     "output_type": "stream",
     "text": [
      "swap 이전 : a = 90 b = 10\n",
      "swap 이후 : a = 10 b = 90\n",
      "swap 이후 : a = 90 b = 10\n"
     ]
    }
   ],
   "source": [
    "# swap(튜플에서만 가능)\n",
    "a = 90\n",
    "b = 10\n",
    "print('swap 이전 : a =', a, 'b =', b)\n",
    "a, b = b, a\n",
    "print('swap 이후 : a =', a, 'b =', b)\n",
    "\n",
    "# 변수를 이용한 swap 방법\n",
    "temp = a \n",
    "a = b\n",
    "b = temp\n",
    "print('swap 이후 : a =', a, 'b =', b)"
   ]
  },
  {
   "cell_type": "code",
   "execution_count": null,
   "metadata": {},
   "outputs": [],
   "source": [
    "# enumerate()함수\n",
    "for a in enumerate(['A', 'B', 'C']):\n",
    "    print(a)\n",
    "\n",
    "for i, a in enumerate(['A', 'B', 'C']):\n",
    "    print(i, a)\n",
    "\n",
    "for i, a in enumerate(['A', 'B', 'C'], start = 1)"
   ]
  },
  {
   "cell_type": "code",
   "execution_count": null,
   "metadata": {},
   "outputs": [],
   "source": []
  }
 ],
 "metadata": {
  "kernelspec": {
   "display_name": "Python 3",
   "language": "python",
   "name": "python3"
  },
  "language_info": {
   "codemirror_mode": {
    "name": "ipython",
    "version": 3
   },
   "file_extension": ".py",
   "mimetype": "text/x-python",
   "name": "python",
   "nbconvert_exporter": "python",
   "pygments_lexer": "ipython3",
   "version": "3.10.11"
  },
  "orig_nbformat": 4
 },
 "nbformat": 4,
 "nbformat_minor": 2
}
