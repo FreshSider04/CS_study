{
 "cells": [
  {
   "cell_type": "code",
   "execution_count": 1,
   "metadata": {},
   "outputs": [
    {
     "name": "stdout",
     "output_type": "stream",
     "text": [
      "10 20 30\n",
      "20 10 30\n",
      "Before : x = 10 y = 20\n",
      "After x = 12 y = 40\n"
     ]
    }
   ],
   "source": [
    "# 연산자\n",
    "x = y = z = 0\n",
    "x, y, z = 10, 20, 30\n",
    "print(x, y, z)\n",
    "\n",
    "x, y = y, x\n",
    "print(x, y, z)\n",
    "\n",
    "x, y = 10, 20\n",
    "print(\"Before : x =\", x, \"y =\", y)\n",
    "\n",
    "# \n",
    "x += 2; y *= 2\n",
    "\n",
    "print(\"After x =\", x, \"y =\", y)"
   ]
  },
  {
   "cell_type": "code",
   "execution_count": 2,
   "metadata": {},
   "outputs": [
    {
     "name": "stdout",
     "output_type": "stream",
     "text": [
      "True False False True True False\n",
      "----------\n",
      "False\n",
      "True\n",
      "False True\n"
     ]
    }
   ],
   "source": [
    "a = 10\n",
    "b = 9\n",
    "\n",
    "print(a>b, a<b, a==b, a != b, a>=b, a<=b)\n",
    "print(\"-\"*10)\n",
    "print((a > b) and (a == b))\n",
    "print((a > b) or (a == b))\n",
    "print(not(a), not(a < b))"
   ]
  },
  {
   "cell_type": "code",
   "execution_count": 7,
   "metadata": {},
   "outputs": [
    {
     "name": "stdout",
     "output_type": "stream",
     "text": [
      "7\n",
      "26\n",
      "63\n",
      "124\n",
      "215\n",
      "4095\n",
      "64\n",
      "0b1000000\n",
      "0o100\n",
      "0x40\n",
      "----------\n",
      "2\n",
      "8\n",
      "16\n"
     ]
    }
   ],
   "source": [
    "# 진수\n",
    "print(int('111',2))\n",
    "print(int('222',3))\n",
    "print(int('333',4))\n",
    "print(int('444',5))\n",
    "print(int('555',6))\n",
    "print(int('FFF',16))\n",
    "\n",
    "a = 64\n",
    "print(a)\n",
    "print(bin(a))\n",
    "print(oct(a))\n",
    "print(hex(a))\n",
    "print('-' * 10)\n",
    "\n",
    "# X진수 --> 10진수\n",
    "print(0b10)\n",
    "print(0o10)\n",
    "print(0x10)"
   ]
  },
  {
   "cell_type": "code",
   "execution_count": null,
   "metadata": {},
   "outputs": [],
   "source": [
    "# 입력\n",
    "name = input('이름을 입력하시요:')\n",
    "num = input(\"점수:\")\n",
    "\n",
    "print(type(name), type(num))\n",
    "print('name =', name, 'jumsu =', num)\n",
    "\n",
    "# \n",
    "name = input(\"name :\")\n",
    "kor = int(input(\"kor : \"))\n",
    "mat = int(input(\"mat:\"))\n",
    "\n",
    "print('name =', name, 'sum =', kor + mat)\n",
    "print(type(kor))"
   ]
  },
  {
   "cell_type": "code",
   "execution_count": 3,
   "metadata": {},
   "outputs": [
    {
     "name": "stdout",
     "output_type": "stream",
     "text": [
      "백의 자리 : 1\n",
      "십의 자리 : 2\n",
      "일의 자리 : 3\n"
     ]
    }
   ],
   "source": [
    "# mission1\n",
    "num = int(input(\"세 자리 정수를 입력하시요 :\"))\n",
    "\n",
    "print(\"백의 자리 :\", num // 100)\n",
    "print(\"십의 자리 :\", (num - ((num // 100) * 100)) // 10)\n",
    "print(\"일의 자리 :\", num % 10)"
   ]
  },
  {
   "cell_type": "code",
   "execution_count": null,
   "metadata": {},
   "outputs": [],
   "source": [
    "# mission2\n",
    "num = int(input(\"정수를 입력하시요 :\"))\n",
    "\n",
    "print(num, \"의 2진수 값:\", bin(num))\n",
    "print(num, \"의 2진수 값에 대한 비트단위 부정값 :\", bin(~num) )"
   ]
  },
  {
   "cell_type": "code",
   "execution_count": null,
   "metadata": {},
   "outputs": [],
   "source": [
    "# mission 3\n",
    "PI = 3.14\n",
    "\n",
    "Mr = 20\n",
    "Lr = 30\n",
    "\n",
    "Sm = (PI * Mr**2) * 2\n",
    "Sl = PI * Lr**2\n",
    "\n",
    "if Sm > Sl:\n",
    "    print(\"M사이즈 2개의 넓이가 더 큽니다\")\n",
    "else:\n",
    "    print(\"L사이즈 1개의 넓이가 M사이즈 2개 넓이보다 큽니다.\")\n",
    "\n",
    "print(\"M사이즈 2개 넓이는 :\", Sm,\"cm\")\n",
    "print(\"L사이즈 1개 넓이는 :\", Sl,\"cm\")"
   ]
  },
  {
   "cell_type": "code",
   "execution_count": null,
   "metadata": {},
   "outputs": [],
   "source": [
    "# 인덱싱\n",
    "str1 = 'ulsan'\n",
    "str2 = 'ICT'\n",
    "\n",
    "print(str1 +str2)\n",
    "print(str2 * 10)\n",
    "print(str1[0])\n",
    "print(str1[-1])\n",
    "print('T' in str2)\n",
    "print(len(str2))"
   ]
  },
  {
   "cell_type": "code",
   "execution_count": null,
   "metadata": {},
   "outputs": [],
   "source": [
    "# 슬라이싱\n",
    "str1 = 'ulsan ICT'\n",
    "\n",
    "print(str1[1:3])\n",
    "print(str1[6:])\n",
    "print(str1[:5])\n",
    "print(str1[::3])\n",
    "print(str1[-3:-1])\n",
    "print(str1[0:5:2])"
   ]
  },
  {
   "cell_type": "code",
   "execution_count": null,
   "metadata": {},
   "outputs": [],
   "source": [
    "# mission 4\n",
    "jumin_num = \"220303-4******\"\n",
    "\n",
    "print(\"출생년도 :\",jumin_num[0:2])\n",
    "print(\"월 :\",jumin_num[2:4])\n",
    "print(\"일 :\", jumin_num[4:6])\n",
    "\n",
    "print(jumin_num[0:2] +\"년 \" +jumin_num[2:4] + \"월 \" + jumin_num[4:6] + \"일은 당신의 생일입니다\")\n",
    "\n",
    "# 새내기 파이썬 :: 96쪽부터 문제 읽을 수 있는지 check!"
   ]
  }
 ],
 "metadata": {
  "kernelspec": {
   "display_name": "Python 3",
   "language": "python",
   "name": "python3"
  },
  "language_info": {
   "codemirror_mode": {
    "name": "ipython",
    "version": 3
   },
   "file_extension": ".py",
   "mimetype": "text/x-python",
   "name": "python",
   "nbconvert_exporter": "python",
   "pygments_lexer": "ipython3",
   "version": "3.10.11"
  },
  "orig_nbformat": 4
 },
 "nbformat": 4,
 "nbformat_minor": 2
}
