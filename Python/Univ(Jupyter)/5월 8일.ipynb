{
 "cells": [
  {
   "cell_type": "code",
   "execution_count": 2,
   "metadata": {},
   "outputs": [
    {
     "name": "stdout",
     "output_type": "stream",
     "text": [
      "Hi! kim good moring!\n",
      "\n",
      "Hi! kim 반갑습니다.\n",
      "Hi! kim good moring!\n"
     ]
    }
   ],
   "source": [
    "def greet(name, msg):\n",
    "    print('Hi!', name, msg)\n",
    "# 매개변수가 2개 다 들어가야함\n",
    "greet('kim', 'good moring!\\n')\n",
    "\n",
    "# 디폴트 매개변수 : 매개변수가 정해져 있으면 없어도 가능!\n",
    "def greet(name, msg = '반갑습니다.'):\n",
    "    print('Hi!', name, msg)\n",
    "\n",
    "greet('kim')\n",
    "greet('kim', 'good moring!')"
   ]
  },
  {
   "cell_type": "code",
   "execution_count": 6,
   "metadata": {},
   "outputs": [
    {
     "name": "stdout",
     "output_type": "stream",
     "text": [
      "x= 10 y= 20 z= 30\n",
      "x= 10 y= 30 z= 20\n"
     ]
    }
   ],
   "source": [
    "# 키워드 인수\n",
    "# 위치 매개변수\n",
    "def sub(x, y, z):\n",
    "    print('x=', x, 'y=', y, 'z=', z)\n",
    "sub(10, 20, 30)\n",
    "\n",
    "def sub(x, y, z):\n",
    "    print('x=', x, 'y=', y, 'z=', z)\n",
    "sub(x =10, z = 20, y = 30)\n",
    "# 키워드 인수가 나온 다음 위치 인수가 나올 수 없음"
   ]
  },
  {
   "cell_type": "code",
   "execution_count": 10,
   "metadata": {},
   "outputs": [
    {
     "name": "stdout",
     "output_type": "stream",
     "text": [
      "하나의 값으로 추출\n",
      "(10,)\n",
      "여러 개의 값\n",
      "(10, 20, 30)\n"
     ]
    }
   ],
   "source": [
    "def fun1(*nums):\n",
    "    print(nums)\n",
    "\n",
    "print(\"하나의 값으로 추출\")\n",
    "fun1(10)\n",
    "\n",
    "print('여러 개의 값')\n",
    "fun1(10, 20, 30)\n"
   ]
  },
  {
   "cell_type": "code",
   "execution_count": 12,
   "metadata": {},
   "outputs": [
    {
     "name": "stdout",
     "output_type": "stream",
     "text": [
      "200\n",
      "200\n"
     ]
    }
   ],
   "source": [
    "# global :: 전역변수 == 지역변수\n",
    "x = 100\n",
    "\n",
    "def fun1():\n",
    "    global x\n",
    "    x = 200\n",
    "    print(x)\n",
    "fun1()\n",
    "print(x)"
   ]
  },
  {
   "cell_type": "code",
   "execution_count": 21,
   "metadata": {},
   "outputs": [
    {
     "ename": "UnboundLocalError",
     "evalue": "local variable 'whatTriangle' referenced before assignment",
     "output_type": "error",
     "traceback": [
      "\u001b[1;31m---------------------------------------------------------------------------\u001b[0m",
      "\u001b[1;31mUnboundLocalError\u001b[0m                         Traceback (most recent call last)",
      "Cell \u001b[1;32mIn[21], line 17\u001b[0m\n\u001b[0;32m     15\u001b[0m         \u001b[39melse\u001b[39;00m:\n\u001b[0;32m     16\u001b[0m             \u001b[39mreturn\u001b[39;00m \u001b[39m'\u001b[39m\u001b[39m일반삼각형\u001b[39m\u001b[39m'\u001b[39m\n\u001b[1;32m---> 17\u001b[0m main()\n",
      "Cell \u001b[1;32mIn[21], line 3\u001b[0m, in \u001b[0;36mmain\u001b[1;34m()\u001b[0m\n\u001b[0;32m      1\u001b[0m \u001b[39mdef\u001b[39;00m \u001b[39mmain\u001b[39m():\n\u001b[0;32m      2\u001b[0m     a, b, c \u001b[39m=\u001b[39m \u001b[39mmap\u001b[39m(\u001b[39mint\u001b[39m,\u001b[39minput\u001b[39m()\u001b[39m.\u001b[39msplit())\n\u001b[1;32m----> 3\u001b[0m     \u001b[39mprint\u001b[39m(\u001b[39m'\u001b[39m\u001b[39m%s\u001b[39;00m\u001b[39m\\n\u001b[39;00m\u001b[39m'\u001b[39m\u001b[39m%\u001b[39mwhatTriangle(a,b,c))\n\u001b[0;32m      5\u001b[0m     \u001b[39mdef\u001b[39;00m \u001b[39mwhatTriangle\u001b[39m(a, b, c):\n\u001b[0;32m      7\u001b[0m         \u001b[39mif\u001b[39;00m(a\u001b[39m+\u001b[39mb\u001b[39m<\u001b[39m\u001b[39m=\u001b[39mc \u001b[39mor\u001b[39;00m a\u001b[39m+\u001b[39mc\u001b[39m<\u001b[39m\u001b[39m=\u001b[39mb \u001b[39mor\u001b[39;00m b\u001b[39m+\u001b[39mc\u001b[39m<\u001b[39m\u001b[39m=\u001b[39ma):\n",
      "\u001b[1;31mUnboundLocalError\u001b[0m: local variable 'whatTriangle' referenced before assignment"
     ]
    }
   ],
   "source": [
    "def main():\n",
    "    a, b, c = map(int,input().split())\n",
    "    print('%s\\n'%whatTriangle(a,b,c))\n",
    "\n",
    "    def whatTriangle(a, b, c):\n",
    "        \n",
    "        if(a+b<=c or a+c<=b or b+c<=a):\n",
    "            return '삼각형이 아님'\n",
    "        elif(a==b and b==c):\n",
    "            return '정삼각형'\n",
    "        elif(a==b or a==c or b==c):\n",
    "            return '이등변 삼각형'\n",
    "        elif(a**2+b**2 ==c**2 or a**2+c**2 ==b**2 or b**2+c**2 ==a**2):\n",
    "            return '직각삼각형'\n",
    "        else:\n",
    "            return '일반삼각형'\n",
    "main()"
   ]
  },
  {
   "cell_type": "code",
   "execution_count": 22,
   "metadata": {},
   "outputs": [
    {
     "name": "stdout",
     "output_type": "stream",
     "text": [
      "5\n",
      "100\n"
     ]
    }
   ],
   "source": [
    "g = lambda x, y : x + y\n",
    "print(g(1, 4))\n",
    "\n",
    "g = lambda x : x ** 2\n",
    "print(g(10))\n",
    "\n"
   ]
  },
  {
   "cell_type": "code",
   "execution_count": 26,
   "metadata": {},
   "outputs": [
    {
     "name": "stdout",
     "output_type": "stream",
     "text": [
      "100 - 200 = -100\n",
      "200 - 100 = 100\n"
     ]
    }
   ],
   "source": [
    "def sub(a, b):\n",
    "    return a - b\n",
    "print('{} - {} = {}'.format(100, 200, sub(100, 200)))\n",
    "\n",
    "print('200 - 100 = {}'.format((lambda x, y: x-y)(200, 100)))"
   ]
  },
  {
   "cell_type": "code",
   "execution_count": 32,
   "metadata": {},
   "outputs": [
    {
     "name": "stdout",
     "output_type": "stream",
     "text": [
      "[1, 4, 16, 25, 36]\n",
      "[1, 4, 16, 25, 36]\n",
      "[40000, 40000, 40000, 40000, 40000]\n"
     ]
    }
   ],
   "source": [
    "# map 함수\n",
    "a = [1, 2, 4, 5, 6]\n",
    "square_a = []\n",
    "\n",
    "for i in a:\n",
    "    square_a.append(i**2)\n",
    "print(square_a)\n",
    "\n",
    "a = [1, 2, 4, 5, 6]\n",
    "square_a = list(map(lambda x: x **2, a))\n",
    "\n",
    "print(square_a)\n",
    "\n",
    "for21 = [x ** 2 for i in a]\n",
    "print(for21)"
   ]
  }
 ],
 "metadata": {
  "kernelspec": {
   "display_name": "Python 3",
   "language": "python",
   "name": "python3"
  },
  "language_info": {
   "codemirror_mode": {
    "name": "ipython",
    "version": 3
   },
   "file_extension": ".py",
   "mimetype": "text/x-python",
   "name": "python",
   "nbconvert_exporter": "python",
   "pygments_lexer": "ipython3",
   "version": "3.10.11"
  },
  "orig_nbformat": 4
 },
 "nbformat": 4,
 "nbformat_minor": 2
}
