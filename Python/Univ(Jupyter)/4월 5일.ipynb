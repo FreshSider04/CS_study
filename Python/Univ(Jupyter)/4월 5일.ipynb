{
 "cells": [
  {
   "cell_type": "code",
   "execution_count": 2,
   "metadata": {},
   "outputs": [
    {
     "name": "stdout",
     "output_type": "stream",
     "text": [
      "[0, 1, 2, 3, 4]\n",
      "[1, 3, 5, 7, 9]\n",
      "[10, 8, 6, 4, 2]\n",
      "[-3, -1, 1, 3, 5]\n"
     ]
    }
   ],
   "source": [
    "# range\n",
    "a = list(range(5))\n",
    "print(a)\n",
    "\n",
    "print(list(range(1, 10, 2)))\n",
    "print(list(range(10, 1, -2)))\n",
    "print(list(range(-3, 6, 2)))"
   ]
  },
  {
   "cell_type": "code",
   "execution_count": 4,
   "metadata": {},
   "outputs": [
    {
     "name": "stdout",
     "output_type": "stream",
     "text": [
      "i value : 1\n",
      "i value : 3\n",
      "i value : 5\n",
      "i value : 7\n",
      "i value : 9\n"
     ]
    }
   ],
   "source": [
    "# for i in range()\n",
    "for i in range(1, 10, 2):\n",
    "    print('i value :', i)\n",
    "\n",
    "for i in range(2, 8):\n",
    "    print('i value :', i)\n"
   ]
  },
  {
   "cell_type": "code",
   "execution_count": 1,
   "metadata": {},
   "outputs": [
    {
     "name": "stdout",
     "output_type": "stream",
     "text": [
      "i value : 9\n",
      "i value : 8\n",
      "i value : 7\n",
      "i value : 6\n",
      "i value : 5\n",
      "i value : 4\n",
      "i value : 3\n",
      "i value : 2\n",
      "i value : 1\n",
      "i value : 0\n"
     ]
    }
   ],
   "source": [
    "# for문 :: 역순으로\n",
    "for i in reversed(range(10)):\n",
    "    print('i value :', i)"
   ]
  },
  {
   "cell_type": "code",
   "execution_count": 3,
   "metadata": {},
   "outputs": [
    {
     "name": "stdout",
     "output_type": "stream",
     "text": [
      "i value : u\n",
      "i value : l\n",
      "i value : s\n",
      "i value : a\n",
      "i value : n\n",
      "i value : one\n",
      "i value : two\n",
      "i value : three\n"
     ]
    }
   ],
   "source": [
    "# 시퀸트 객체도 가능! :: 리스트, 튜플 ...\n",
    "num1 = 'ulsan'\n",
    "\n",
    "for i in num1:\n",
    "    print('i value :', i)\n",
    "\n",
    "num1 = ['one', 'two', 'three']\n",
    "\n",
    "for i in num1:\n",
    "    print('i value :', i)"
   ]
  },
  {
   "cell_type": "code",
   "execution_count": 21,
   "metadata": {},
   "outputs": [
    {
     "name": "stdout",
     "output_type": "stream",
     "text": [
      "i value : 0\n",
      "i value : 1\n",
      "i value : 2\n",
      "i value : 3\n",
      "i value : 4\n",
      "i value : 5\n",
      "i value : 6\n",
      "i value : 7\n",
      "i value : 8\n",
      "i value : 9\n"
     ]
    }
   ],
   "source": [
    "# whlie문\n",
    "i = 0\n",
    "while i < 10:\n",
    "    print('i value :', i)\n",
    "    i += 1\n"
   ]
  },
  {
   "cell_type": "code",
   "execution_count": null,
   "metadata": {},
   "outputs": [],
   "source": [
    "# break, continue\n",
    "while True:\n",
    "    light = input('신호등 색 입력(red/green/yellow)')\n",
    "    # green이면 반복문 중단!\n",
    "    if light == 'green':\n",
    "        print('Go')\n",
    "        break\n",
    "\n",
    "    elif light == 'red':\n",
    "        print(\"stop!\")\n",
    "\n",
    "    elif light == 'yellow':\n",
    "        print('stay!')\n",
    "\n",
    "    # 아니면 계속 ㄱㄱ\n",
    "    else:\n",
    "        continue"
   ]
  },
  {
   "cell_type": "code",
   "execution_count": 22,
   "metadata": {},
   "outputs": [
    {
     "name": "stdout",
     "output_type": "stream",
     "text": [
      "0 루프 안 쪽 :\n",
      "1 루프 안 쪽 :\n",
      "2 루프 안 쪽 :\n",
      "3 else 부분 :\n"
     ]
    }
   ],
   "source": [
    "# else있는 whlie\n",
    "i = 0\n",
    "\n",
    "while i < 3:\n",
    "    print('%d 루프 안 쪽 :' %(i))\n",
    "    i += 1\n",
    "else:\n",
    "    print('%d else 부분 :' %(i))"
   ]
  },
  {
   "cell_type": "code",
   "execution_count": 29,
   "metadata": {},
   "outputs": [
    {
     "name": "stdout",
     "output_type": "stream",
     "text": [
      "1부터 9234239852140739757398까지 합은 42635592823432115028940280034936602457276416\n"
     ]
    }
   ],
   "source": [
    "# mission 2\n",
    "# 가우스 덧셈법\n",
    "n = int(input(\"1부터 합을 구할 수 입력 :\"))\n",
    "\n",
    "s = (n + 1) * (n / 2)\n",
    "\n",
    "print('1부터 %d까지 합은 %d' %(n, s))"
   ]
  },
  {
   "cell_type": "code",
   "execution_count": 63,
   "metadata": {},
   "outputs": [
    {
     "name": "stdout",
     "output_type": "stream",
     "text": [
      "Down\n",
      "Down\n",
      "Down\n",
      "Down\n",
      "Down\n",
      "Down\n",
      "Down\n",
      "Down\n",
      "Down\n",
      "Down\n",
      "Down\n",
      "Up\n",
      "Up\n",
      "Up\n",
      "Up\n",
      "Up\n",
      "Up\n",
      "Up\n",
      "Up\n",
      "Up\n",
      "Up\n",
      "Up\n",
      "Up\n",
      "Up\n"
     ]
    },
    {
     "ename": "ValueError",
     "evalue": "invalid literal for int() with base 10: ''",
     "output_type": "error",
     "traceback": [
      "\u001b[1;31m---------------------------------------------------------------------------\u001b[0m",
      "\u001b[1;31mValueError\u001b[0m                                Traceback (most recent call last)",
      "Cell \u001b[1;32mIn[63], line 10\u001b[0m\n\u001b[0;32m      6\u001b[0m cn \u001b[39m=\u001b[39m randint(\u001b[39m1\u001b[39m, \u001b[39m10\u001b[39m)\n\u001b[0;32m      9\u001b[0m \u001b[39mwhile\u001b[39;00m cn \u001b[39m!=\u001b[39m mn:\n\u001b[1;32m---> 10\u001b[0m     mn \u001b[39m=\u001b[39m \u001b[39mint\u001b[39;49m(\u001b[39minput\u001b[39;49m())\n\u001b[0;32m     11\u001b[0m     i \u001b[39m+\u001b[39m\u001b[39m=\u001b[39m \u001b[39m1\u001b[39m\n\u001b[0;32m     12\u001b[0m     \u001b[39mif\u001b[39;00m cn \u001b[39m>\u001b[39m mn:\n",
      "\u001b[1;31mValueError\u001b[0m: invalid literal for int() with base 10: ''"
     ]
    }
   ],
   "source": [
    "# mission 3\n",
    "from random import *\n",
    "\n",
    "i = 0\n",
    "mn = 0\n",
    "cn = randint(1, 10)\n",
    "\n",
    "\n",
    "while cn != mn:\n",
    "    mn = int(input())\n",
    "    i += 1\n",
    "    if cn > mn:\n",
    "        print(\"Down\")\n",
    "\n",
    "    elif cn < mn:\n",
    "        print(\"Up\")\n",
    "\n",
    "print(\"축하합니다. %d번\" %i)"
   ]
  },
  {
   "cell_type": "code",
   "execution_count": 36,
   "metadata": {},
   "outputs": [
    {
     "name": "stdout",
     "output_type": "stream",
     "text": [
      "1 2 3 4 5 \n",
      "1 2 3 4 5 \n",
      "1 2 3 4 5 \n"
     ]
    }
   ],
   "source": [
    "# 이중 for문\n",
    "for i in range(3):\n",
    "    for j in range(1, 6):\n",
    "        print(j, end=\" \")\n",
    "\n",
    "    print()"
   ]
  },
  {
   "cell_type": "code",
   "execution_count": 45,
   "metadata": {},
   "outputs": [
    {
     "name": "stdout",
     "output_type": "stream",
     "text": [
      "0.777634096821292\n",
      "7.67710060292051\n",
      "2\n",
      "42\n",
      "s\n",
      "[4, 1]\n",
      "[1, 4, 3, 5, 2]\n"
     ]
    }
   ],
   "source": [
    "# 랜덤\n",
    "from random import *\n",
    "print(random())\n",
    "print(uniform(1, 10))\n",
    "print(randint(1, 10))\n",
    "print(randrange(0, 101, 2))\n",
    "print(choice('adjkashdkjash'))\n",
    "print(sample([1, 2, 4], 2))\n",
    "\n",
    "item = [1, 2, 3, 4, 5]\n",
    "shuffle(item)\n",
    "print(item)"
   ]
  },
  {
   "cell_type": "code",
   "execution_count": 59,
   "metadata": {},
   "outputs": [
    {
     "name": "stdout",
     "output_type": "stream",
     "text": [
      "[3, 2, 8, 5, 7, 0, 6, 1, 4, 9]\n"
     ]
    }
   ],
   "source": [
    "import random\n",
    "\n",
    "list1 = []\n",
    "\n",
    "for i in range(10):\n",
    "    while num in list1:\n",
    "        num = random.randrange(0,10)\n",
    "    list1.append(num)\n",
    "    \n",
    "print(list1)"
   ]
  },
  {
   "cell_type": "code",
   "execution_count": 74,
   "metadata": {},
   "outputs": [
    {
     "name": "stdout",
     "output_type": "stream",
     "text": [
      "볶음밥\n"
     ]
    }
   ],
   "source": [
    "import random\n",
    "menu = ['돈까스', '볶음밥', '국밥']\n",
    "\n",
    "lunch = random.choice(menu)\n",
    "\n",
    "print(lunch)"
   ]
  },
  {
   "cell_type": "code",
   "execution_count": 61,
   "metadata": {},
   "outputs": [
    {
     "name": "stdout",
     "output_type": "stream",
     "text": [
      "PEHHRYKEYT\n",
      "ymqvbsrphn\n",
      "WiVNIXmpyR\n"
     ]
    }
   ],
   "source": [
    "import random\n",
    "import string\n",
    "\n",
    "pw1 = \"\".join([random.choice(string.ascii_uppercase) for i in range(10)])\n",
    "pw2 = \"\".join([random.choice(string.ascii_lowercase) for i in range(10)])\n",
    "pw3 = \"\".join([random.choice(string.ascii_letters) for i in range(10)])\n",
    "\n",
    "print(pw1)\n",
    "print(pw2)\n",
    "print(pw3)"
   ]
  },
  {
   "cell_type": "code",
   "execution_count": 64,
   "metadata": {},
   "outputs": [
    {
     "name": "stdout",
     "output_type": "stream",
     "text": [
      "이번 주의 추천 로또번호 : [4, 14, 23, 32, 33, 35]\n"
     ]
    }
   ],
   "source": [
    "import random as rd\n",
    "\n",
    "lotto_list = list(range(1, 46))\n",
    "rd.shuffle(lotto_list)\n",
    "lotto_list = lotto_list[:6]\n",
    "lotto_list.sort()\n",
    "print('이번 주의 추천 로또번호 :', lotto_list)"
   ]
  },
  {
   "cell_type": "code",
   "execution_count": 83,
   "metadata": {},
   "outputs": [
    {
     "name": "stdout",
     "output_type": "stream",
     "text": [
      "2023년 04월 05일은 내 생일!\n",
      "2023년 04월 05일은 내 생일!\n"
     ]
    }
   ],
   "source": [
    "# split 쓰기!\n",
    "your_bir = '2023/04/05'\n",
    "\n",
    "list1 = your_bir.split('/')\n",
    "\n",
    "print(list1[0] + \"년\", list1[1] + '월', list1[2] +'일은', '내 생일!')\n",
    "print('%s년 %s월 %s일은 내 생일!' %(year, month, day))\n"
   ]
  }
 ],
 "metadata": {
  "kernelspec": {
   "display_name": "Python 3",
   "language": "python",
   "name": "python3"
  },
  "language_info": {
   "codemirror_mode": {
    "name": "ipython",
    "version": 3
   },
   "file_extension": ".py",
   "mimetype": "text/x-python",
   "name": "python",
   "nbconvert_exporter": "python",
   "pygments_lexer": "ipython3",
   "version": "3.10.11"
  },
  "orig_nbformat": 4
 },
 "nbformat": 4,
 "nbformat_minor": 2
}
