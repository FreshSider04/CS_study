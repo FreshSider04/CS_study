{
 "cells": [
  {
   "cell_type": "code",
   "execution_count": 5,
   "metadata": {},
   "outputs": [
    {
     "name": "stdout",
     "output_type": "stream",
     "text": [
      "입력된 문자열 : aaaaaaaa\n",
      "aaaaaaaa 글자는 8번 나타남. 처음 인덱스 위치는 0이다.\n"
     ]
    }
   ],
   "source": [
    "# 예제 1\n",
    "word = str(input(\"문자열을 입력하세요 :\"));\n",
    "\n",
    "print(\"입력된 문자열 :\", word)\n",
    "\n",
    "loop = str(input(\"반복 개수를 알고자하는 문자를 입력하시오 :\"))\n",
    "\n",
    "cnt = word.count(loop)\n",
    "loc = word.find(loop)\n",
    "\n",
    "\n",
    "\n",
    "print(word, end=\" \")\n",
    "print(\"글자는\", end=\" \")\n",
    "print(cnt, end=\"\")\n",
    "print(\"번\", end=\" \")\n",
    "print(\"나타남.\", end=\" \")\n",
    "print(\"처음 인덱스 위치는\", end=\" \")\n",
    "print(loc, end=\"\")\n",
    "print(\"이다.\")\n"
   ]
  },
  {
   "cell_type": "code",
   "execution_count": 1,
   "metadata": {},
   "outputs": [
    {
     "name": "stdout",
     "output_type": "stream",
     "text": [
      "park(Ulsan), lee(Ulsan),cho(Ulsan), kim(busan). hong(Busan) 2\n"
     ]
    }
   ],
   "source": [
    "# 예제 2\n",
    "str1 = 'park(ulsan), lee(ulsan), cho(Ulsan), kim(busan), hong(Busan)'\n",
    "\n",
    "src = input()\n",
    "target = input()\n",
    "\n",
    "print(str1.replace(src, target), str1.count(src))"
   ]
  },
  {
   "cell_type": "code",
   "execution_count": 58,
   "metadata": {},
   "outputs": [
    {
     "name": "stdout",
     "output_type": "stream",
     "text": [
      "구두점 제거 후 : 사과 감자\n",
      "분리된 단어 리스트 : ['사과', '감자']\n",
      "정렬 후 결과 : ['감자', '사과']\n"
     ]
    }
   ],
   "source": [
    "# 예제3\n",
    "# 함수로 작동 시 작동이 안되는 문제 발생 --> 함수 사용 X\n",
    "# def removeMarks(str1) :\n",
    "#     j = 0\n",
    "#     sep1 = ['.',',','!','?',':',';']\n",
    "#     for i in range(0, 7):    \n",
    "#         while j <=  5:\n",
    "#            str1 = str1.replace(sep1[i], \"\")\n",
    "#            j += 1\n",
    "    \n",
    "\n",
    "\n",
    "str1 = input('여러 단어로 이루어진 글을 입력하세요 : ')\n",
    "str1 = str1.lower()\n",
    "\n",
    "sep1 = ['.',',','!','?',':',';']\n",
    "for word in sep1:\n",
    "    str1 = str1.replace(word, \"\")\n",
    "\n",
    "print(\"구두점 제거 후 :\", str1)\n",
    "\n",
    "words = list(str1.split())\n",
    "print(\"분리된 단어 리스트 :\", words)\n",
    "words.sort()\n",
    "print(\"정렬 후 결과 :\",words)"
   ]
  },
  {
   "cell_type": "code",
   "execution_count": 19,
   "metadata": {},
   "outputs": [
    {
     "name": "stdout",
     "output_type": "stream",
     "text": [
      "일일 매출 기록: [100, 121, 120, 130, 140, 120, 122, 123, 190, 125]\n",
      "지난 10일 동안 전일대비 매출이 감소한 날은 3일입니다\n"
     ]
    }
   ],
   "source": [
    "# 예제 4\n",
    "sales = [100, 121, 120, 130, 140, 120, 122, 123, 190, 125]\n",
    "drop = 0\n",
    "\n",
    "for i in range(0, int(len(sales)-1)):\n",
    "    if sales[i] > sales[i + 1]:\n",
    "        drop += 1\n",
    "\n",
    "print(\"일일 매출 기록:\", sales)\n",
    "print(f'지난 {len(sales)}일 동안 전일대비 매출이 감소한 날은 {drop}일입니다')"
   ]
  },
  {
   "cell_type": "code",
   "execution_count": 28,
   "metadata": {},
   "outputs": [
    {
     "name": "stdout",
     "output_type": "stream",
     "text": [
      "SKY HELLO HI GOOD MORNING\n",
      "\n",
      "S --> 1\n",
      "K --> 1\n",
      "Y --> 1\n",
      "H --> 2\n",
      "E --> 1\n",
      "L --> 2\n",
      "O --> 4\n",
      "I --> 2\n",
      "G --> 2\n",
      "D --> 1\n",
      "M --> 1\n",
      "R --> 1\n",
      "N --> 2\n"
     ]
    }
   ],
   "source": [
    "# 예제 5-1\n",
    "str1 = \"sky hello hi good morning\"\n",
    "str1 = str1.upper()\n",
    "print(str1)\n",
    "dic1 = {}\n",
    "\n",
    "print()\n",
    "\n",
    "str1 = str1.replace(\" \", \"\")\n",
    "\n",
    "for i in range(0, len(str1)):\n",
    "    dic1[str1[i]] = str1.count(str1[i])\n",
    "\n",
    "\n",
    "for k in dic1.keys():\n",
    "    print(\"%s --> %s\" %(k, dic1[k]))"
   ]
  },
  {
   "cell_type": "code",
   "execution_count": 62,
   "metadata": {},
   "outputs": [
    {
     "name": "stdout",
     "output_type": "stream",
     "text": [
      "SKY HELLO HI GOOD MORNING\n",
      "\n",
      "D --> 1\n",
      "E --> 1\n",
      "G --> 2\n",
      "H --> 2\n",
      "I --> 2\n",
      "K --> 1\n",
      "L --> 2\n",
      "M --> 1\n",
      "N --> 2\n",
      "O --> 4\n",
      "R --> 1\n",
      "S --> 1\n",
      "Y --> 1\n"
     ]
    }
   ],
   "source": [
    "# 예제 5-2\n",
    "\n",
    "str1 = \"sky hello hi good morning\"\n",
    "str1 = str1.upper()\n",
    "\n",
    "count = {}\n",
    "\n",
    "for char in str1:\n",
    "    if char.isalpha(): \n",
    "        if char in count:\n",
    "            count[char] += 1\n",
    "        else:\n",
    "            count[char] = 1\n",
    "\n",
    "\n",
    "sorted_chars = sorted(count.keys())\n",
    "print(str1)\n",
    "\n",
    "print()\n",
    "\n",
    "for char1 in sorted_chars:\n",
    "    print(\"%s --> %s\" %(str(char1), str(count[char1])))"
   ]
  },
  {
   "cell_type": "code",
   "execution_count": 61,
   "metadata": {},
   "outputs": [
    {
     "name": "stdout",
     "output_type": "stream",
     "text": [
      "SKY HELLO HI GOOD MORNING\n",
      "\n",
      "O --> 4\n",
      "H --> 2\n",
      "L --> 2\n",
      "I --> 2\n",
      "G --> 2\n",
      "N --> 2\n",
      "S --> 1\n",
      "K --> 1\n",
      "Y --> 1\n",
      "E --> 1\n",
      "D --> 1\n",
      "M --> 1\n",
      "R --> 1\n"
     ]
    }
   ],
   "source": [
    "# 예제 5-3\n",
    "str1 = \"sky hello hi good morning\"\n",
    "str1 = str1.upper()\n",
    "\n",
    "\n",
    "count = {}\n",
    "\n",
    "for i in str1:\n",
    "    if i.isalpha():\n",
    "        if i in count:\n",
    "            count[i] += 1\n",
    "        else:\n",
    "            count[i] = 1\n",
    "\n",
    "sorted_chars = sorted(count.keys(), key = lambda x: count[x], reverse=True)\n",
    "\n",
    "print(str1)\n",
    "\n",
    "print()\n",
    "\n",
    "for char1 in sorted_chars:\n",
    "    print('%s --> %s' %(char1, count[char1]))"
   ]
  },
  {
   "cell_type": "code",
   "execution_count": 37,
   "metadata": {},
   "outputs": [
    {
     "name": "stdout",
     "output_type": "stream",
     "text": [
      "마을 A와 마을 B에 보낼 투표용지의 개수는 각각 971장과 1698장입니다.\n"
     ]
    }
   ],
   "source": [
    "# 예제 6-1\n",
    "A_city = (100, 150, 230, 120, 180, 100, 140, 95, 81, 21, 4)\n",
    "B_city = (300, 420, 530, 420, 400, 300, 40, 5, 1, 1, 1)\n",
    "p_A =  sum(A_city[2:11])\n",
    "p_B = sum(B_city[2:11])\n",
    "\n",
    "print('마을 A와 마을 B에 보낼 투표용지의 개수는 각각 {}장과 {}장입니다.'.format(p_A, p_B))"
   ]
  },
  {
   "cell_type": "code",
   "execution_count": 43,
   "metadata": {},
   "outputs": [
    {
     "name": "stdout",
     "output_type": "stream",
     "text": [
      "마을 A와 B에 고령화 정도는 각각 0.165와 0.003입니다.\n"
     ]
    }
   ],
   "source": [
    "# 예제 6-2\n",
    "A_city = (100, 150, 230, 120, 180, 100, 140, 95, 81, 21, 4)\n",
    "B_city = (300, 420, 530, 420, 400, 300, 40, 5, 1, 1, 1)\n",
    "\n",
    "oldRateA = sum(A_city[7:11])/sum(A_city)\n",
    "oldRateB = sum(B_city[7:11])/sum(B_city)\n",
    "\n",
    "print('마을 A와 B에 고령화 정도는 각각 {:5.3f}와 {:5.3f}입니다.'.format(oldRateA, oldRateB))"
   ]
  },
  {
   "cell_type": "code",
   "execution_count": 48,
   "metadata": {},
   "outputs": [
    {
     "name": "stdout",
     "output_type": "stream",
     "text": [
      "이름          성적\n",
      "---------------------\n",
      "이순신        91.00\n",
      "김유신        90.00\n",
      "홍길동        80.00\n",
      "허생원        91.67\n"
     ]
    }
   ],
   "source": [
    "# 예제 7-1\n",
    "scores = (('이순신',88,95,90),('김유신',85,90,95),('홍길동',70,90,80),('허생원',90,90,95))\n",
    "student_dic = {}\n",
    "\n",
    "for i in scores :\n",
    "    a, b, c, d = i\n",
    "    student_dic[a] = (b+c+d)/3\n",
    "\n",
    "print(\"이름\" + \"          성적\")\n",
    "print(\"---------------------\")\n",
    "for k in student_dic.keys() :\n",
    "    print('{}   {:10.2f}'.format(k,student_dic[k]))"
   ]
  },
  {
   "cell_type": "code",
   "execution_count": 1,
   "metadata": {},
   "outputs": [
    {
     "name": "stdout",
     "output_type": "stream",
     "text": [
      "eW#"
     ]
    }
   ],
   "source": [
    "# 예제 8\n",
    "import random\n",
    "\n",
    "s = 'abcdefghijklmnopqrsuvwxyz0123456789ABCDEFGHIJKLMNOPQRSUVWXYZ!@#$%^&*()?'\n",
    "n = int(input(\"몇 자리의 비밀번호를 원하십니까? : \"))\n",
    "\n",
    "opt =  random.sample(s,n)\n",
    "\n",
    "print(\"생성된 암호 = \")\n",
    "for i in opt:\n",
    "    print(i,end=\"\")"
   ]
  },
  {
   "cell_type": "code",
   "execution_count": null,
   "metadata": {},
   "outputs": [],
   "source": [
    "# 예제 9\n",
    "def censor_string(t1, d1):\n",
    "    censored_string = t1\n",
    "\n",
    "    for word in d1:\n",
    "        censor = '*' * len(word)\n",
    "        censored_string = censored_string.replace(word, censor)\n",
    "\n",
    "    return censored_string\n",
    "\n",
    "# 문자열 입력 받기\n",
    "t1 = input(\"문자열을 입력하시오! : \")\n",
    "\n",
    "# 금칙어 리스트 입력 받기\n",
    "d1 = input(\"금칙어를 입력하시오! : \").split()\n",
    "\n",
    "print(censor_string(t1, d1))"
   ]
  }
 ],
 "metadata": {
  "kernelspec": {
   "display_name": "Python 3",
   "language": "python",
   "name": "python3"
  },
  "language_info": {
   "codemirror_mode": {
    "name": "ipython",
    "version": 3
   },
   "file_extension": ".py",
   "mimetype": "text/x-python",
   "name": "python",
   "nbconvert_exporter": "python",
   "pygments_lexer": "ipython3",
   "version": "3.10.11"
  },
  "orig_nbformat": 4
 },
 "nbformat": 4,
 "nbformat_minor": 2
}
