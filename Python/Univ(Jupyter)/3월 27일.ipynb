{
 "cells": [
  {
   "cell_type": "code",
   "execution_count": null,
   "metadata": {},
   "outputs": [],
   "source": [
    "# map\n",
    "a, b = map(int, input().split())\n",
    "\n",
    "print(a + b)\n",
    "\n",
    "# 에러 발생\n",
    "# 한 개에 대해서만 int값을 주기에 이는 오류 발생...\n",
    "a, b = int(input().split())\n",
    "\n",
    "print(a + b)\n"
   ]
  },
  {
   "cell_type": "code",
   "execution_count": null,
   "metadata": {},
   "outputs": [],
   "source": [
    "\n",
    "s_id= 'kim1234'\n",
    "s_pw = 'happy88'\n",
    "\n",
    "\n",
    "i_id = input(\"당신의 아이디를 입력하시오 :\")\n",
    "\n",
    "if s_id == i_id:\n",
    "    i_pw = input(\"당신의 비밀번호를 입력 :\")\n",
    "    if s_pw == i_pw:\n",
    "        print(\"로그인 성공!\")\n",
    "    else:\n",
    "        print(\"로그인 실패!\")\n",
    "else:\n",
    "    print(\"로그인 실패!\")\n",
    "# \n",
    "s_id= 'kim1234'\n",
    "s_pw = 'happy88'\n",
    "while True:\n",
    "    i_id = input()\n",
    "    if s_id == i_id:\n",
    "        for i in range(3):\n",
    "            i_pw = input()\n",
    "            if s_pw != i_pw:\n",
    "                if i == 2:\n",
    "                    print(\"%d번 로그인 실패!\"%(i + 1))\n",
    "\n",
    "                else:\n",
    "                    print(\"로그인 성공\")\n",
    "                    break\n",
    "\n",
    "    else:\n",
    "        print(\"로그인 실패\")\n",
    "\n",
    "    if s_id == i_id and s_pw == i_pw:\n",
    "        break"
   ]
  },
  {
   "cell_type": "code",
   "execution_count": null,
   "metadata": {},
   "outputs": [],
   "source": [
    "# 다양한 자료형(시퀸스 자료형) == 문자열, 리스트, 튜플\n",
    "# 리스트\n",
    "# 리스트는 mutable이다.(변경가능)\n",
    "# 튜플은 immutable이다(변경불가)\n",
    "print(\"리스트 만들기\")\n",
    "list1 = [10, 20, 30, 40, 50]\n",
    "list2 = [\"A\", \"B\", \"C\", \"D\", \"E\"]\n",
    "list3 = [100, 'python', [1, 2, 3]]\n",
    "list4 = [list1, list2]\n",
    "\n",
    "print(list1)\n",
    "print(list2)\n",
    "print(list3)\n",
    "print(list4)\n",
    "\n",
    "# 리스트 인덱싱\n",
    "print(list1[0])\n",
    "print(list2[1])\n",
    "print(type(list2))"
   ]
  }
 ],
 "metadata": {
  "language_info": {
   "name": "python"
  },
  "orig_nbformat": 4
 },
 "nbformat": 4,
 "nbformat_minor": 2
}
