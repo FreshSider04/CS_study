{
 "cells": [
  {
   "cell_type": "code",
   "execution_count": 2,
   "metadata": {},
   "outputs": [
    {
     "name": "stdout",
     "output_type": "stream",
     "text": [
      "원의 면적 314.1592653589793\n",
      "면적의 둘레 62.83185307179586\n"
     ]
    }
   ],
   "source": [
    "import math\n",
    "\n",
    "class Circle:\n",
    "    def __init__(self, radius = 0):\n",
    "        self.radius = radius\n",
    "    def getArea(self):\n",
    "        return math.pi * self.radius * self.radius\n",
    "    def getPerimter(self):\n",
    "        return 2 * math.pi * self.radius\n",
    "\n",
    "c = Circle(10)\n",
    "print(\"원의 면적\", c.getArea())\n",
    "print(\"면적의 둘레\", c.getPerimter())"
   ]
  },
  {
   "cell_type": "code",
   "execution_count": 4,
   "metadata": {},
   "outputs": [
    {
     "data": {
      "text/plain": [
       "'Hong'"
      ]
     },
     "execution_count": 4,
     "metadata": {},
     "output_type": "execute_result"
    }
   ],
   "source": [
    "class Student:\n",
    "    def __init__(self, name = None, age = 0):\n",
    "        self.__name = name\n",
    "        self.__age = age\n",
    "    def getAge(self):\n",
    "        return self.__age\n",
    "    def getName(self):\n",
    "        return self.__name\n",
    "    def setAge(self, age):\n",
    "        self.__age = age\n",
    "    def setName(self, name):\n",
    "        self.__name = name\n",
    "\n",
    "obj = Student(\"Hong\", 20)\n",
    "obj.getName()\n",
    "\n"
   ]
  },
  {
   "cell_type": "code",
   "execution_count": null,
   "metadata": {},
   "outputs": [],
   "source": [
    "class BankAccount:\n",
    "    def __init__(self):\n",
    "        self.__balance = 0\n",
    "    \n",
    "    def deposit(self, amount):\n",
    "        self.__balance += a"
   ]
  }
 ],
 "metadata": {
  "kernelspec": {
   "display_name": "Python 3",
   "language": "python",
   "name": "python3"
  },
  "language_info": {
   "codemirror_mode": {
    "name": "ipython",
    "version": 3
   },
   "file_extension": ".py",
   "mimetype": "text/x-python",
   "name": "python",
   "nbconvert_exporter": "python",
   "pygments_lexer": "ipython3",
   "version": "3.10.11"
  },
  "orig_nbformat": 4
 },
 "nbformat": 4,
 "nbformat_minor": 2
}
