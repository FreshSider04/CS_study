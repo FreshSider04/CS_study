{
 "cells": [
  {
   "cell_type": "code",
   "execution_count": 21,
   "metadata": {},
   "outputs": [
    {
     "name": "stdout",
     "output_type": "stream",
     "text": [
      "Good!\n",
      "Happy\n",
      "\n"
     ]
    }
   ],
   "source": [
    "# 파일\n",
    "\n",
    "# 쓰기\n",
    "f = open('hello2.txt', 'w')\n",
    "f.write(\"Good!\\n\")\n",
    "print(\"Happy\", file= f)\n",
    "f.close()\n",
    "\n",
    "with open(\"hello2.txt\", 'w') as f:\n",
    "    f.write('Good!\\n')\n",
    "    print('Happy', file= f)\n",
    "\n",
    "# 읽기\n",
    "f = open(\"hello2.txt\", \"r\")\n",
    "t = f.read()\n",
    "print(t)\n",
    "f.close()"
   ]
  },
  {
   "cell_type": "code",
   "execution_count": 22,
   "metadata": {},
   "outputs": [
    {
     "name": "stdout",
     "output_type": "stream",
     "text": [
      "After!\n",
      "Before!\n",
      "\n"
     ]
    },
    {
     "data": {
      "text/plain": [
       "<function TextIOWrapper.close()>"
      ]
     },
     "execution_count": 22,
     "metadata": {},
     "output_type": "execute_result"
    }
   ],
   "source": [
    "f = open(\"hello1.txt\", 'w')\n",
    "f.writelines(['After!\\n', 'Before!\\n'])\n",
    "f.close()\n",
    "\n",
    "f = open(\"hello1.txt\", \"r\")\n",
    "t = f.read()\n",
    "print(t)\n",
    "f.close"
   ]
  },
  {
   "cell_type": "code",
   "execution_count": 25,
   "metadata": {},
   "outputs": [],
   "source": [
    "f = open(\"hello.txt\", 'w')\n",
    "a = \"\"\"1. print(), input()\n",
    "2. operator\n",
    "3. data type :string, list, tuple\n",
    "4. if, if~else, if~elif~else\n",
    "5.for~in, while\"\"\"\n",
    "\n",
    "f.write(a)\n",
    "\n",
    "f.close()"
   ]
  },
  {
   "cell_type": "code",
   "execution_count": 24,
   "metadata": {},
   "outputs": [
    {
     "name": "stdout",
     "output_type": "stream",
     "text": [
      "1. print(), input()\n",
      "\n",
      "2. operator\n",
      "\n",
      "3. data type :string, list, tuple\n",
      "\n",
      "4. if, if~else, if~elif~else\n",
      "\n",
      "5.for~in, while\n"
     ]
    }
   ],
   "source": [
    "fd = open(\"hello.txt\", 'r')\n",
    "while True:\n",
    "    line = fd.readline()\n",
    "    if not line: break\n",
    "    print(line)\n",
    "fd.close()\n",
    "\n",
    "with open(\"hello.txt\", 'r') as fd:\n",
    "    while True:\n",
    "        line = fd.readline()\n",
    "        if not line: break\n",
    "        print(line)"
   ]
  },
  {
   "cell_type": "code",
   "execution_count": 27,
   "metadata": {},
   "outputs": [
    {
     "name": "stdout",
     "output_type": "stream",
     "text": [
      "1. print(), input()\n",
      "2. operator\n",
      "3. data type :string, list, tuple\n",
      "4. if, if~else, if~elif~else\n",
      "5.for~in, while\n"
     ]
    }
   ],
   "source": [
    "fd = open(\"hello.txt\", 'r')\n",
    "while True:\n",
    "    line = fd.readline().rstrip('\\n')\n",
    "    if not line: break\n",
    "    print(line)\n",
    "fd.close()\n",
    "\n",
    "with open(\"hello.txt\", 'r') as fd:\n",
    "    while True:\n",
    "        line = fd.readline().rstrip('\\n')\n",
    "        if not line: break\n",
    "        print(line)"
   ]
  },
  {
   "cell_type": "code",
   "execution_count": 29,
   "metadata": {},
   "outputs": [
    {
     "name": "stdout",
     "output_type": "stream",
     "text": [
      "['1. print(), input()\\n', '2. operator\\n', '3. data type :string, list, tuple\\n', '4. if, if~else, if~elif~else\\n', '5.for~in, while']\n",
      "['1. print(), input()\\n', '2. operator\\n', '3. data type :string, list, tuple\\n', '4. if, if~else, if~elif~else\\n', '5.for~in, while']\n"
     ]
    }
   ],
   "source": [
    "fd = open(\"hello.txt\", 'r')\n",
    "lines = fd.readlines()\n",
    "print(lines)\n",
    "fd.close()\n",
    "\n",
    "with open('hello.txt', 'r') as fd:\n",
    "    lines = fd.readlines()\n",
    "    print(lines)"
   ]
  },
  {
   "cell_type": "code",
   "execution_count": 31,
   "metadata": {},
   "outputs": [
    {
     "name": "stdout",
     "output_type": "stream",
     "text": [
      "1. print(), input()\n",
      "2. operator\n",
      "3. data type :string, list, tuple\n",
      "4. if, if~else, if~elif~else\n",
      "5.for~in, while\n",
      "\n",
      "1. print(), input()\n",
      "2. operator\n",
      "3. data type :string, list, tuple\n",
      "4. if, if~else, if~elif~else\n",
      "5.for~in, while\n"
     ]
    }
   ],
   "source": [
    "fd = open(\"hello.txt\", 'r')\n",
    "listl = fd.readlines()\n",
    "for line in listl:\n",
    "    print(line.rstrip('\\n'))\n",
    "fd.close()\n",
    "print()\n",
    "\n",
    "with open('hello.txt', 'r') as fd:\n",
    "    listl =fd.readlines()\n",
    "    for line in listl:\n",
    "        print(line.rstrip('\\n'))\n",
    "    "
   ]
  },
  {
   "cell_type": "code",
   "execution_count": 32,
   "metadata": {},
   "outputs": [
    {
     "name": "stdout",
     "output_type": "stream",
     "text": [
      "1.\n",
      "print(),\n",
      "input()\n",
      "2.\n",
      "operator\n",
      "3.\n",
      "data\n",
      "type\n",
      ":string,\n",
      "list,\n",
      "tuple\n",
      "4.\n",
      "if,\n",
      "if~else,\n",
      "if~elif~else\n",
      "5.for~in,\n",
      "while\n"
     ]
    }
   ],
   "source": [
    "fd = open('hello.txt', 'r')\n",
    "for line in fd:\n",
    "    word_list = line.split()\n",
    "    for word in word_list:\n",
    "        print(word)\n",
    "fd.close()"
   ]
  },
  {
   "cell_type": "code",
   "execution_count": 37,
   "metadata": {},
   "outputs": [],
   "source": [
    "infilename = input()\n",
    "outfilename = input()\n",
    "\n",
    "infile = open(infilename, \"r\")\n",
    "outfile = open(outfilename, 'w')\n",
    "\n",
    "sum = 0\n",
    "count = 0\n",
    "\n",
    "line = infile.readline()\n",
    "while line != \"\":\n",
    "    s = int(line)\n",
    "    sum += s\n",
    "    count += 1\n",
    "    line = infile.readline()\n",
    "\n",
    "outfile.write(\"총 매출 =\"+str(sum)+\"\\n\")\n",
    "outfile.write(\"평균 일매출 =\" + str(sum/count))\n",
    "\n",
    "infile.close()\n",
    "outfile.close()"
   ]
  },
  {
   "cell_type": "code",
   "execution_count": 43,
   "metadata": {},
   "outputs": [
    {
     "name": "stdout",
     "output_type": "stream",
     "text": [
      "4. if, if~else, if~elif~else\n",
      "\n",
      "regular expression!!\n",
      "file input/output!!\n",
      "regular expression!!\n",
      "file input/output!!\n",
      "regular expression!!\n",
      "file input/output!!\n",
      "regular expression!!\n",
      "\n",
      "1. print(), input()\n",
      "2. operator\n",
      "3. data type :string, list, tuple\n",
      "4. if, if~else, if~elif~else\n",
      "5.for~in, whilefile input/output!!\n"
     ]
    }
   ],
   "source": [
    "import re\n",
    "\n",
    "with open('hello.txt', 'r') as f:\n",
    "    for line in f:\n",
    "        line = line.strip('\\n')\n",
    "        if re.search('if', line):\n",
    "            print(line)\n",
    "\n",
    "print()\n",
    "\n",
    "with open('hello.txt', 'a') as af:\n",
    "    af.write('file input/output!!\\n')\n",
    "    af.write('regular expression!!\\n')\n",
    "\n",
    "with open('hello.txt', 'r') as f:\n",
    "    for line in f:\n",
    "        line = line.strip('\\n')\n",
    "        if re.search('^[a-z]+', line):\n",
    "            print(line)\n",
    "\n",
    "print()\n",
    "\n",
    "with open('hello.txt', 'r') as rf:\n",
    "    for line in rf:\n",
    "        line = line.strip('\\n')\n",
    "        if re.search('^[0-9]+', line):\n",
    "            print(line)\n"
   ]
  },
  {
   "cell_type": "code",
   "execution_count": 52,
   "metadata": {},
   "outputs": [
    {
     "name": "stdout",
     "output_type": "stream",
     "text": [
      "가장 추웠던 날은 -19.2입니다.\n"
     ]
    }
   ],
   "source": [
    "import csv\n",
    "\n",
    "f = open('weather.csv')\n",
    "data = csv.reader(f)\n",
    "header = next(data)\n",
    "temp = 1000\n",
    "\n",
    "for row in data:\n",
    "    if temp > float(row[3]):\n",
    "        temp = float(row[3])\n",
    "\n",
    "\n",
    "# 최댓값\n",
    "# temp = 0\n",
    "# for row in data:\n",
    "#     if temp < float(row[3]):\n",
    "#         temp = float(row[3])\n",
    "\n",
    "print('가장 추웠던 날은 ' + str(temp) + '입니다.')\n",
    "\n",
    "\n"
   ]
  },
  {
   "cell_type": "code",
   "execution_count": 1,
   "metadata": {},
   "outputs": [],
   "source": [
    "import random\n",
    "import os\n",
    "\n",
    "os.mkdir('math_ex')\n",
    "\n",
    "for i in range(10):\n",
    "    f = open(f\"math_ex/ex{i}.txt\", 'w', encoding=\"utf-8\")\n",
    "    f.write(\"다음의 문제를 풀어서 제출\\n\")\n",
    "    f.write(\"이름 :       점수 :       \\n\\n\")\n",
    "\n",
    "    for j in range(10):\n",
    "        x = random.randint(0, 100)\n",
    "        y = random.randint(0, 100)\n",
    "        op = random.choice(\"+-*/\")\n",
    "        f.write(f\"{x} {op} {y} \\n\")\n",
    "    f.close"
   ]
  },
  {
   "cell_type": "code",
   "execution_count": 5,
   "metadata": {},
   "outputs": [
    {
     "name": "stdout",
     "output_type": "stream",
     "text": [
      "cat1.jpg를 cat2.jpg로 복사하였습니다.\n"
     ]
    }
   ],
   "source": [
    "file1 = \"cat1.jpg\"; file2 = \"cat2.jpg\"\n",
    "infile = open(file1, \"rb\")\n",
    "outfile = open(file2, \"wb\")\n",
    "\n",
    "while True:\n",
    "    copy_buffer = infile.read(1024)\n",
    "    if not copy_buffer:\n",
    "        break\n",
    "    outfile.write(copy_buffer)\n",
    "\n",
    "infile.close()\n",
    "outfile.close()\n",
    "\n",
    "print(file1 + \"를 \" + file2 + \"로 복사하였습니다.\")"
   ]
  },
  {
   "attachments": {},
   "cell_type": "markdown",
   "metadata": {},
   "source": []
  }
 ],
 "metadata": {
  "kernelspec": {
   "display_name": "Python 3",
   "language": "python",
   "name": "python3"
  },
  "language_info": {
   "codemirror_mode": {
    "name": "ipython",
    "version": 3
   },
   "file_extension": ".py",
   "mimetype": "text/x-python",
   "name": "python",
   "nbconvert_exporter": "python",
   "pygments_lexer": "ipython3",
   "version": "3.10.11"
  },
  "orig_nbformat": 4
 },
 "nbformat": 4,
 "nbformat_minor": 2
}
