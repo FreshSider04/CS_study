{
 "cells": [
  {
   "cell_type": "code",
   "execution_count": null,
   "metadata": {},
   "outputs": [],
   "source": [
    "list1 = [10, 20, 30, 40]\n",
    "list2 = [40, 50, 60]\n",
    "list3  = [10, 5, 15, 20]\n",
    "\n",
    "print(list2 + [70])\n",
    "# 동일값이 여러개일수도 있구나... \n",
    "print(list1 + list2)\n",
    "print(list2 * 2)\n",
    "print(list2 == list1)\n",
    "print(list1 > list3)\n"
   ]
  },
  {
   "cell_type": "code",
   "execution_count": null,
   "metadata": {},
   "outputs": [],
   "source": [
    "# in & len\n",
    "name = ['김유신', '이순신', '홍길동']\n",
    "\n",
    "check = input('이름입력 :')\n",
    "\n",
    "print(check in name)\n",
    "\n",
    "if (check in name):\n",
    "    print(\"출석\")\n",
    "else:\n",
    "    print('결석')\n",
    "print(\"출석인원\", len(name))"
   ]
  },
  {
   "cell_type": "code",
   "execution_count": 3,
   "metadata": {},
   "outputs": [
    {
     "name": "stdout",
     "output_type": "stream",
     "text": [
      "<class 'str'>\n",
      "coffee & donut ice cream\n"
     ]
    }
   ],
   "source": [
    "# .join\n",
    "# join을 이용하려면 원소가 모두 문자열이여야한다.\n",
    "d1 = ['coffee', 'donut']\n",
    "d2 = ['ice', 'cream']\n",
    "\n",
    "s1 = ' & '.join(d1)\n",
    "s2 = ' '.join(d2)\n",
    "print(type(s2))\n",
    "print(s1, s2)"
   ]
  },
  {
   "cell_type": "code",
   "execution_count": null,
   "metadata": {},
   "outputs": [],
   "source": [
    "# 객체\n",
    "print(id(s1))\n",
    "print(id(d1))"
   ]
  },
  {
   "cell_type": "code",
   "execution_count": 5,
   "metadata": {},
   "outputs": [
    {
     "name": "stdout",
     "output_type": "stream",
     "text": [
      "[10, 20, 30]\n",
      "[10, 20, 30, 'add']\n",
      "['two', 'three', 'del']\n",
      "8\n",
      "[34, 70, 90, 100]\n",
      "[100, 90, 70, 34]\n",
      "[34, 70, 90, 100]\n",
      "[100, 90, 70, 34]\n",
      "[0, 1, 2, 3, 4, 5, 6, 7, 8, 9]\n",
      "[300, 400]\n"
     ]
    }
   ],
   "source": [
    "# 메소드\n",
    "list1 = [10, 20, 30]\n",
    "\n",
    "print(list1)\n",
    "list1.append('add')\n",
    "print(list1)\n",
    "list1.append(['A', 'B'])\n",
    "list1.insert(8, \"sub\")\n",
    "\n",
    "num1 = ['one', 'two', 'three']\n",
    "num2 = [100, 90, 80]\n",
    "\n",
    "num1.append('del')\n",
    "del num1[0]\n",
    "print(num1)\n",
    "\n",
    "s1 = \"python language\"\n",
    "# 인덱스에는 -x를 쓰지 말것!\n",
    "print(s1.index('a'))\n",
    "\n",
    "# sort\n",
    "jumsu = [34, 70, 90, 100]\n",
    "\n",
    "jumsu.sort()\n",
    "print(jumsu)\n",
    "jumsu.sort(reverse=True)\n",
    "print(jumsu)\n",
    "jumsu.reverse()\n",
    "print(jumsu)\n",
    "\n",
    "# sort vs sorted :: sorted는 원본 값만 유지하면서 그 순간에만 바뀐다.\n",
    "print(sorted(jumsu, reverse=True))\n",
    "\n",
    "# 순회{range(), for ~ in}\n",
    "new_list = []\n",
    "for i in range(10):\n",
    "    new_list.append(i)\n",
    "print(new_list)\n",
    "\n",
    "list1 = [10, 20, 30, 40]\n",
    "list1 = [n * 10 for n in list1 if n >= 30]\n",
    "print(list1)"
   ]
  },
  {
   "cell_type": "code",
   "execution_count": null,
   "metadata": {},
   "outputs": [],
   "source": [
    "# 리스트 내장함수\n",
    "\n",
    "num1 = [10, 20, 30, 40]\n",
    "num2 = 123.456\n",
    "\n",
    "print(\"전체 합 = \", sum(num1))\n",
    "print(\"최솟값 = \", min(num1))\n",
    "print(\"최댓값 = \", max(num1))\n",
    "print(\"반올림 = %7.2f\" %round(num2, 2))\n",
    "print(\"반올림 = %7.1f\" %round(num2, -1))"
   ]
  },
  {
   "cell_type": "code",
   "execution_count": null,
   "metadata": {},
   "outputs": [],
   "source": [
    "# mission 1\n",
    "scores = [10.0, 9.0, 8.3, 7.1, 3.0, 9.0, 8.9, 10, 0]\n",
    "print(\"제거전\", scores)\n",
    "scores.remove(max(scores))\n",
    "scores.remove(min(scores))\n",
    "print(\"제거후\", scores)\n",
    "\n",
    "hap = sum(scores)\n",
    "avg = hap / len(scores)\n",
    "avg = round(avg, 2)\n",
    "\n",
    "print(f\"심사점수 합 : {hap}, 심사 점수 평균 : {avg}\")"
   ]
  }
 ],
 "metadata": {
  "kernelspec": {
   "display_name": "Python 3",
   "language": "python",
   "name": "python3"
  },
  "language_info": {
   "codemirror_mode": {
    "name": "ipython",
    "version": 3
   },
   "file_extension": ".py",
   "mimetype": "text/x-python",
   "name": "python",
   "nbconvert_exporter": "python",
   "pygments_lexer": "ipython3",
   "version": "3.10.11"
  },
  "orig_nbformat": 4
 },
 "nbformat": 4,
 "nbformat_minor": 2
}
