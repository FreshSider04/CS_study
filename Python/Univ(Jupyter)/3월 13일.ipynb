{
 "cells": [
  {
   "cell_type": "code",
   "execution_count": 2,
   "metadata": {},
   "outputs": [
    {
     "name": "stdout",
     "output_type": "stream",
     "text": [
      "나는 ulsan에 살고있는 kim입니다.\n",
      "x+y=13217 | x * y = 39642\n",
      "x의 값은   13214   \n",
      "z의 값은 {z:^2f}\n",
      "예1는       1232\n",
      "예2는  123.57\n",
      "예3은 python    \n"
     ]
    }
   ],
   "source": [
    "name = \"kim\"\n",
    "city = \"ulsan\"\n",
    "x = 13214\n",
    "y = 3\n",
    "z = 3.141592\n",
    "\n",
    "print(f\"나는 {city}에 살고있는 {name}입니다.\")\n",
    "print(f\"x+y={x +y} | x * y = {x*y}\")\n",
    "print(f\"x의 값은 {x:^10d}\")\n",
    "print(\"z의 값은 {z:^2f}\")\n",
    "\n",
    "print(f\"예1는 {1232:10d}\")\n",
    "print(f\"예2는 {123.567:7.2f}\")\n",
    "# \"\"문이면 {}안에는 '', \"\"문이면 {}안에는 ''로 사용하지 않으면 에러가 뜬다.\n",
    "print(f\"예3은 {'python':10s}\")\n",
    "\n"
   ]
  },
  {
   "cell_type": "code",
   "execution_count": 1,
   "metadata": {},
   "outputs": [
    {
     "name": "stdout",
     "output_type": "stream",
     "text": [
      "my name is {kim}, {name1}\n",
      "반갑습니다\n",
      "오늘은 2022 년 5 월 3 일입니다\n",
      "오늘은 2022년 5월 3일 입니다\n"
     ]
    }
   ],
   "source": [
    "name1 = \"kim\"\n",
    "# {{{}}}는 중괄호 후 값 출력 \n",
    "r = f'my name is {{{name1}}}, {{name1}}'\n",
    "print(r)\n",
    "\n",
    "year = 2022 ; month = 5; day = 3\n",
    "print(\"반갑습니다\")\n",
    "print(\"오늘은\", year, \"년\", month, \"월\", day, \"일입니다\")\n",
    "print(f\"오늘은 {year}년 {month}월 {day}일 입니다\")"
   ]
  },
  {
   "cell_type": "code",
   "execution_count": 5,
   "metadata": {},
   "outputs": [
    {
     "name": "stdout",
     "output_type": "stream",
     "text": [
      "300\n",
      "<class 'int'>\n",
      "2558511615312\n"
     ]
    }
   ],
   "source": [
    "# 변수\n",
    "a = int(100)\n",
    "_b = int(200)\n",
    "s = _b + a\n",
    "print (s)\n",
    "\n",
    "# 변수타입\n",
    "print(type(a))\n",
    "print(id(a))"
   ]
  },
  {
   "cell_type": "code",
   "execution_count": 1,
   "metadata": {},
   "outputs": [
    {
     "name": "stdout",
     "output_type": "stream",
     "text": [
      "1 2 3\n"
     ]
    }
   ],
   "source": [
    "q, w, e = 1, 2, 3\n",
    "print(q, w, e)"
   ]
  },
  {
   "cell_type": "code",
   "execution_count": 2,
   "metadata": {},
   "outputs": [
    {
     "name": "stdout",
     "output_type": "stream",
     "text": [
      "11 11 11\n"
     ]
    }
   ],
   "source": [
    "i = j = k = 11\n",
    "print(i, j, k)"
   ]
  },
  {
   "cell_type": "code",
   "execution_count": 3,
   "metadata": {},
   "outputs": [
    {
     "name": "stdout",
     "output_type": "stream",
     "text": [
      "12 python\n"
     ]
    }
   ],
   "source": [
    "nalee = 12\n",
    "py = \"python\"\n",
    "print(nalee, py)\n",
    "\n",
    "# del은 변수값 제거\n",
    "# print(nalee, py)\n",
    "# del py\n",
    "# print(py, nalee)"
   ]
  },
  {
   "cell_type": "code",
   "execution_count": 4,
   "metadata": {},
   "outputs": [
    {
     "name": "stdout",
     "output_type": "stream",
     "text": [
      "원의 넓이 :   78.50\n",
      "예금이자 :   30,000.0\n"
     ]
    }
   ],
   "source": [
    "PI = 3.14\n",
    "RATE = 0.03\n",
    "r = 5\n",
    "money = 1000000\n",
    "o = PI * r ** 2\n",
    "print(\"원의 넓이 : %7.2f\" % o)\n",
    "print(f\"예금이자 : {money * RATE:10,}\")"
   ]
  }
 ],
 "metadata": {
  "kernelspec": {
   "display_name": "Python 3",
   "language": "python",
   "name": "python3"
  },
  "language_info": {
   "codemirror_mode": {
    "name": "ipython",
    "version": 3
   },
   "file_extension": ".py",
   "mimetype": "text/x-python",
   "name": "python",
   "nbconvert_exporter": "python",
   "pygments_lexer": "ipython3",
   "version": "3.10.11"
  },
  "orig_nbformat": 4
 },
 "nbformat": 4,
 "nbformat_minor": 2
}
