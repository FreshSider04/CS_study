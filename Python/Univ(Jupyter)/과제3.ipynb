{
 "cells": [
  {
   "cell_type": "code",
   "execution_count": 56,
   "metadata": {},
   "outputs": [
    {
     "data": {
      "text/plain": [
       "['국가무형문화재,', '인류무형문화유산']"
      ]
     },
     "execution_count": 56,
     "metadata": {},
     "output_type": "execute_result"
    }
   ],
   "source": [
    "# 예제 12\n",
    "# infile = open(\"tt4.txt\", \"w\", encoding=\"utf-8\")\n",
    "# tweet = input(\"문자열을 기억하시오 : \")\n",
    "# infile.write(tweet)\n",
    "\n",
    "f = open(\"tt4.txt\", \"r\", encoding=\"utf-8\")\n",
    "words = f.read().split()\n",
    "\n",
    "f.close()\n",
    "\n",
    "dic1 = {}\n",
    "for i in range(0, len(words)):\n",
    "    dic1[words[i]] = len(words[i])\n",
    "\n",
    "max(dic1,key=dic1.get)\n",
    "[k for k,v in dic1.items() if max(dic1.values()) == v]"
   ]
  },
  {
   "cell_type": "code",
   "execution_count": 55,
   "metadata": {},
   "outputs": [
    {
     "name": "stdout",
     "output_type": "stream",
     "text": [
      "파일 이름을 입력해 주세요 : tt4.txt\n",
      "스페이스 수 = 36, 탭의 수 = 0\n"
     ]
    }
   ],
   "source": [
    "# 예제 13\n",
    "def parse_flie(path):\n",
    "    infile = open(path, \"r\", encoding=\"utf-8\")\n",
    "    spaces = 0\n",
    "    tabs = 0\n",
    "    \n",
    "    spaces = infile.read().count(\" \")\n",
    "    tabs = infile.read().count(\"\\t\")\n",
    "\n",
    "    infile.close()\n",
    "\n",
    "    return spaces, tabs\n",
    "\n",
    "filename = input(\"파일 이름은 입력하시오 :\")\n",
    "spaces, tabs = parse_flie(filename)\n",
    "\n",
    "print(\"파일 이름을 입력해 주세요 :\", filename)\n",
    "print(\"스페이스 수 = %d, 탭의 수 = %d\" % (spaces, tabs))"
   ]
  },
  {
   "cell_type": "code",
   "execution_count": 24,
   "metadata": {},
   "outputs": [
    {
     "name": "stdout",
     "output_type": "stream",
     "text": [
      "사용된 단어의 개수 = 16\n",
      "{'ifelse', 'operator', 'regular', 'inputoutput', 'whilefile', 'data', 'expression', 'file', 'list', 'ifelifelse', 'type', 'print', 'forin', 'string', 'if', 'tuple'}\n"
     ]
    }
   ],
   "source": [
    "# 예제 14\n",
    "def process(w):\n",
    "    output = \"\"\n",
    "    for char in w:\n",
    "        if char.isalpha() or char.isspace():\n",
    "            output += char.lower()\n",
    "    return output\n",
    "\n",
    "words = set()\n",
    "\n",
    "fname = input(\"입력 파일 이름: \")\n",
    "file = open(fname, \"r\")\n",
    "\n",
    "for line in file:\n",
    "    lineWords = line.split()\n",
    "    for word in lineWords:\n",
    "        processed_word = process(word)\n",
    "        if processed_word:\n",
    "            words.add(processed_word)\n",
    "\n",
    "file.close()\n",
    "\n",
    "print(\"사용된 단어의 개수 =\", len(words))\n",
    "print(words)"
   ]
  },
  {
   "cell_type": "code",
   "execution_count": 53,
   "metadata": {},
   "outputs": [
    {
     "name": "stdout",
     "output_type": "stream",
     "text": [
      "여자는 9명이고, 남자는 6명이다.\n"
     ]
    }
   ],
   "source": [
    "# 예제 15\n",
    "with open('ymd.txt', 'r') as fd:\n",
    "    w_count, m_count = 0, 0\n",
    "    g1, g2 = \"\", \"\"\n",
    "    while True:\n",
    "        line =fd.readline().rstrip('\\n')\n",
    "        g_list = list(line)\n",
    "        if not line : break\n",
    "        gender = int(g_list[7])\n",
    "\n",
    "        if gender % 2 == 0:\n",
    "            g1 = '여자'\n",
    "            w_count += 1\n",
    "        else:\n",
    "            g2 = '남자'\n",
    "            m_count += 1\n",
    "    print(f'{g1}는 {w_count}명이고, {g2}는 {m_count}명이다.')"
   ]
  },
  {
   "cell_type": "code",
   "execution_count": 7,
   "metadata": {},
   "outputs": [
    {
     "name": "stdout",
     "output_type": "stream",
     "text": [
      "{'apple': '사과', 'baby': '아기', 'sky': '하늘', 'tree': '나무'}\n",
      "1: 단어 등록\n",
      "2: 단어 검색\n",
      "3: 단어 삭제\n",
      "4: 종료\n",
      "등록 완료!\n",
      "1: 단어 등록\n",
      "2: 단어 검색\n",
      "3: 단어 삭제\n",
      "4: 종료\n",
      "python : 파이썬\n",
      "1: 단어 등록\n",
      "2: 단어 검색\n",
      "3: 단어 삭제\n",
      "4: 종료\n",
      "1: 단어 등록\n",
      "2: 단어 검색\n",
      "3: 단어 삭제\n",
      "4: 종료\n",
      "{'baby': '아기', 'sky': '하늘', 'tree': '나무', 'python': '파이썬'}\n"
     ]
    }
   ],
   "source": [
    "# 예제 16 -1\n",
    "\n",
    "eng_kor = {'apple': '사과', 'baby':'아기', 'sky':'하늘', 'tree':'나무'}\n",
    "print(eng_kor)\n",
    "\n",
    "while True:\n",
    "    print(\"1: 단어 등록\")\n",
    "    print(\"2: 단어 검색\")\n",
    "    print(\"3: 단어 삭제\")\n",
    "    print(\"4: 종료\")\n",
    "    \n",
    "    sel = int(input(\"원하는 메뉴 선택 :\"))\n",
    "\n",
    "    if sel == 1:\n",
    "        eng = input(\"등록할 영단어를 입력해 주세요 : \")\n",
    "        kor = input(\"영단어의 한글 의미를 입력해 주세요 : \")\n",
    "        eng_kor[eng] = kor\n",
    "        print(\"등록 완료!\")\n",
    "\n",
    "    # 2번\n",
    "    elif sel == 2:\n",
    "        key_search = input(\"검색할 영단어 입력 : \")\n",
    "        if key_search in eng_kor.keys():\n",
    "            print(key_search, \":\", eng_kor[key_search])\n",
    "        else:\n",
    "            print(\"해당 단어가 없습니다.\")\n",
    "        \n",
    "    # 3번\n",
    "    elif sel == 3:\n",
    "        key_del = input(\"삭제할 영어 단어 입력 : \")\n",
    "        if key_del in eng_kor.keys():\n",
    "            del eng_kor[key_del]\n",
    "        else:\n",
    "            print(\"해당 단어가 없습니다.\")\n",
    "    # 4번\n",
    "    else:\n",
    "        break\n",
    "\n",
    "print(eng_kor)\n",
    "\n",
    "\n",
    "    \n"
   ]
  },
  {
   "cell_type": "code",
   "execution_count": 11,
   "metadata": {},
   "outputs": [
    {
     "name": "stdout",
     "output_type": "stream",
     "text": [
      "{'apple': '사과', 'baby': '아기', 'sky': '하늘', 'tree': '나무'}\n",
      "1: 단어 등록\n",
      "2: 단어 검색\n",
      "3: 단어 삭제\n",
      "4: 종료\n",
      "등록 완료!\n",
      "1: 단어 등록\n",
      "2: 단어 검색\n",
      "3: 단어 삭제\n",
      "4: 종료\n",
      "sky : 하늘\n",
      "1: 단어 등록\n",
      "2: 단어 검색\n",
      "3: 단어 삭제\n",
      "4: 종료\n",
      "1: 단어 등록\n",
      "2: 단어 검색\n",
      "3: 단어 삭제\n",
      "4: 종료\n",
      "{'apple': '사과', 'baby': '아기', 'tree': '나무', 'korea': '대한민국'}\n"
     ]
    }
   ],
   "source": [
    "# 16-2\n",
    "import pickle\n",
    "\n",
    "def main():\n",
    "    f_read()\n",
    "    menu()\n",
    "    f_write()\n",
    "\n",
    "def f_read():\n",
    "    global eng_kor_in\n",
    "    global eng_kor_out\n",
    "\n",
    "    eng_kor_in = {'apple': '사과', 'baby':'아기', 'sky':'하늘', 'tree':'나무'}\n",
    "    \n",
    "    with open('eng_kor1.p', 'wb') as fw:\n",
    "        pickle.dump(eng_kor_in, fw)\n",
    "    with open('eng_kor1.p', 'rb') as fr:\n",
    "        eng_kor_out = pickle.load(fr)\n",
    "    print(eng_kor_out)\n",
    "\n",
    "def f_write():\n",
    "    \n",
    "    with open('eng_kor1.p', 'wb') as fw:\n",
    "        pickle.dump(eng_kor_in, fw)\n",
    "    with open('eng_kor1.p', 'rb') as fr:\n",
    "        eng_kor_out = pickle.load(fr)\n",
    "    print(eng_kor_out)\n",
    "\n",
    "def menu():\n",
    "    while True:\n",
    "        print(\"1: 단어 등록\")\n",
    "        print(\"2: 단어 검색\")\n",
    "        print(\"3: 단어 삭제\")\n",
    "        print(\"4: 종료\")\n",
    "    \n",
    "        sel = int(input(\"원하는 메뉴 선택 :\"))\n",
    "\n",
    "        if sel == 1:\n",
    "            eng = input(\"등록할 영단어를 입력해 주세요 : \")\n",
    "            kor = input(\"영단어의 한글 의미를 입력해 주세요 : \")\n",
    "            eng_kor_in[eng] = kor\n",
    "            print(\"등록 완료!\")\n",
    "\n",
    "        # 2번\n",
    "        elif sel == 2:\n",
    "            key_search = input(\"검색할 영단어 입력 : \")\n",
    "            if key_search in eng_kor_in.keys():\n",
    "                print(key_search, \":\", eng_kor_in[key_search])\n",
    "            else:\n",
    "                print(\"해당 단어가 없습니다.\")\n",
    "        \n",
    "        # 3번\n",
    "        elif sel == 3:\n",
    "            key_del = input(\"삭제할 영어 단어 입력 : \")\n",
    "            if key_del in eng_kor_in.keys():\n",
    "                del eng_kor_in[key_del]\n",
    "            else:\n",
    "                print(\"해당 단어가 없습니다.\")\n",
    "        # 4번\n",
    "        else:\n",
    "            break\n",
    "main()\n",
    "    "
   ]
  },
  {
   "cell_type": "code",
   "execution_count": 12,
   "metadata": {},
   "outputs": [
    {
     "name": "stdout",
     "output_type": "stream",
     "text": [
      "{'apple': '사과', 'baby': '아기', 'tree': '나무', 'korea': '대한민국'}\n",
      "1: 단어 등록\n",
      "2: 단어 검색\n",
      "3: 단어 삭제\n",
      "4: 종료\n",
      "등록 완료!\n",
      "1: 단어 등록\n",
      "2: 단어 검색\n",
      "3: 단어 삭제\n",
      "4: 종료\n",
      "{'baby': '아기', 'sky': '하늘', 'tree': '나무', 'python': '파이썬', 'you': '너', 'water': '물'}\n"
     ]
    }
   ],
   "source": [
    "# 예제 17\n",
    "import pickle\n",
    "\n",
    "def main():\n",
    "    f_read()\n",
    "    menu()\n",
    "    f_write()\n",
    "\n",
    "def f_read():\n",
    "    with open(\"eng_kor1.p\", \"rb\") as fr:\n",
    "        eng_kor = pickle.load(fr)\n",
    "    print(eng_kor)\n",
    "\n",
    "def f_write():\n",
    "    print(eng_kor)\n",
    "    sel2 = input(\"결과를 저장할까요? (Y/N)\")\n",
    "    if sel2 == \"y\" or sel2 == \"y\":\n",
    "        with open(\"eng_kor1.p\", \"wb\") as fw:\n",
    "            pickle.dump(eng_kor,fw)\n",
    "    else:\n",
    "        print(\"영한사전:\\n\", eng_kor)\n",
    "\n",
    "def menu():\n",
    "    while True:\n",
    "        print(\"1: 단어 등록\")\n",
    "        print(\"2: 단어 검색\")\n",
    "        print(\"3: 단어 삭제\")\n",
    "        print(\"4: 종료\")\n",
    "    \n",
    "        sel = int(input(\"원하는 메뉴 선택 :\"))\n",
    "\n",
    "        if sel == 1:\n",
    "            eng = input(\"등록할 영단어를 입력해 주세요 : \")\n",
    "            kor = input(\"영단어의 한글 의미를 입력해 주세요 : \")\n",
    "            eng_kor[eng] = kor\n",
    "            print(\"등록 완료!\")\n",
    "\n",
    "        # 2번\n",
    "        elif sel == 2:\n",
    "            key_search = input(\"검색할 영단어 입력 : \")\n",
    "            if key_search in eng_kor.keys():\n",
    "                print(key_search, \":\", eng_kor[key_search])\n",
    "            else:\n",
    "                print(\"해당 단어가 없습니다.\")\n",
    "        \n",
    "        # 3번\n",
    "        elif sel == 3:\n",
    "            key_del = input(\"삭제할 영어 단어 입력 : \")\n",
    "            if key_del in eng_kor.keys():\n",
    "                del eng_kor[key_del]\n",
    "            else:\n",
    "                print(\"해당 단어가 없습니다.\")\n",
    "        # 4번\n",
    "        else:\n",
    "            break\n",
    "main()"
   ]
  },
  {
   "cell_type": "code",
   "execution_count": 16,
   "metadata": {},
   "outputs": [],
   "source": [
    "# 교재 p 373 programming 7\n",
    "infile = open(\"score.txt\", \"r\")\n",
    "outfile = open(\"score1.txt\", \"w\", encoding=\"utf-8\")\n",
    "count = 0\n",
    "sum = 0\n",
    "\n",
    "score_list = []\n",
    "while True:\n",
    "    line = infile.readline().strip()\n",
    "    if not line: break\n",
    "    score_list.append(line)\n",
    "score_list = list(map(float, score_list))\n",
    "for i in range(0, len(score_list)):\n",
    "    sum += score_list[i]\n",
    "count += len(score_list)\n",
    "\n",
    "outfile.write(\"\\n평균 = %8.2f\\n\" %(sum/count))\n",
    "infile.close()\n",
    "outfile.close()\n"
   ]
  },
  {
   "cell_type": "code",
   "execution_count": 19,
   "metadata": {},
   "outputs": [
    {
     "name": "stdout",
     "output_type": "stream",
     "text": [
      "변경된 파일이 저장되었습니다.\n"
     ]
    }
   ],
   "source": [
    "# 교재 p 373 programming 8\n",
    "infilename = input(\"파일 이름을 입력하시오 : \").strip()\n",
    "infile = open(infilename, 'r')\n",
    "file_s = infile.read()\n",
    "removed_s = input(\"삭제할 문자열을 입력하시오 : \").strip()\n",
    "\n",
    "modified_s = file_s.replace(removed_s, '')\n",
    "\n",
    "outfile = open(infilename, \"w\")\n",
    "print(modified_s, file = outfile, end= \"\")\n",
    "print(\"변경된 파일이 저장되었습니다.\")\n",
    "outfile.close()"
   ]
  },
  {
   "cell_type": "code",
   "execution_count": 21,
   "metadata": {},
   "outputs": [],
   "source": [
    "# 교재 p 374 programming 10\n",
    "\n",
    "infile = open(\"hello1.txt\")\n",
    "outfile = open(\"output.txt\", \"w\")\n",
    "\n",
    "i = 1\n",
    "infile = open(\"hello1.txt\", \"r\")\n",
    "outfile = open(\"output.txt\", \"w\")\n",
    "\n",
    "i = 1\n",
    "for line in infile:\n",
    "    modified_line = f\"{i}: {line}\"\n",
    "    outfile.write(modified_line)\n",
    "    i += 1\n",
    "\n",
    "infile.close()\n",
    "outfile.close()"
   ]
  },
  {
   "cell_type": "code",
   "execution_count": 23,
   "metadata": {},
   "outputs": [
    {
     "name": "stdout",
     "output_type": "stream",
     "text": [
      "{'1': 1, '.': 5, ' ': 20, 'p': 16, 'r': 17, 'i': 21, 'n': 11, 't': 19, '(': 1, ')': 1, ',': 6, '\\n': 12, '2': 1, 'o': 11, 'e': 25, 'a': 7, '3': 1, 'd': 1, 'y': 1, ':': 1, 's': 12, 'g': 5, 'l': 14, 'u': 17, '4': 1, 'f': 9, '~': 4, '5': 1, 'w': 1, 'h': 1, '/': 4, '!': 16, 'x': 4}\n"
     ]
    }
   ],
   "source": [
    "# 교재 p 374 programming 11\n",
    "f = open('hello.txt', 'r')\n",
    "content = f.read()\n",
    "res = {}\n",
    "\n",
    "for keys in content:\n",
    "    if keys in res:\n",
    "        res[keys] += 1\n",
    "    else:\n",
    "        res[keys] = 1\n",
    "\n",
    "print(res)\n"
   ]
  }
 ],
 "metadata": {
  "kernelspec": {
   "display_name": "Python 3",
   "language": "python",
   "name": "python3"
  },
  "language_info": {
   "codemirror_mode": {
    "name": "ipython",
    "version": 3
   },
   "file_extension": ".py",
   "mimetype": "text/x-python",
   "name": "python",
   "nbconvert_exporter": "python",
   "pygments_lexer": "ipython3",
   "version": "3.10.11"
  },
  "orig_nbformat": 4
 },
 "nbformat": 4,
 "nbformat_minor": 2
}
