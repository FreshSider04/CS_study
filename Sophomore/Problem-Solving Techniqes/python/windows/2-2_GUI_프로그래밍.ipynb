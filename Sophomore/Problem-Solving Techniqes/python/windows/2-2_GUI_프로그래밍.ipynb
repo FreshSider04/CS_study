{
 "cells": [
  {
   "cell_type": "markdown",
   "metadata": {},
   "source": [
    "# 1. tkinter 소개\n",
    "- 참고문헌: 어서와 파이썬은 처음이지!, INFINITY BOOKS, 천인국, 2016\n",
    "- https://076923.github.io/posts/Python-tkinter-1/\n",
    "- **turtle demo**\n",
    "\n",
    "\n",
    "- tk interface\n",
    "    - 파이썬에서 그래픽 사용자 인터페이스(GUI: graphical user interface)를 개발할 때 필요한 모듈\n",
    "    - GUI: 그래픽을 통하여 컴퓨터와 상호작용할 수 있는 환경\n",
    "    - 마우스를 이용하여 화면의 메뉴를 선택하여 작업을 실행하고 결과도 화면에 그래픽으로 출력\n",
    "    - 유닉스 계열에서 사용되던 Tcl/Tk 위에 객체 지향 계층을 입힌 것\n",
    "    \n",
    "![TKinter](images/9_P384.png)"
   ]
  },
  {
   "cell_type": "markdown",
   "metadata": {},
   "source": [
    "# 2. 첫 번째 tkinter 프로그램\n",
    "## 2.1 Window 창 설정"
   ]
  },
  {
   "cell_type": "code",
   "execution_count": null,
   "metadata": {
    "ExecuteTime": {
     "end_time": "2022-10-17T05:56:25.555330Z",
     "start_time": "2022-10-17T05:55:27.832838Z"
    }
   },
   "outputs": [],
   "source": [
    "import tkinter\n",
    "\n",
    "window=tkinter.Tk()\n",
    "\n",
    "window.mainloop()"
   ]
  },
  {
   "attachments": {
    "image.png": {
     "image/png": "[encoded data removed]"
    }
   },
   "cell_type": "markdown",
   "metadata": {},
   "source": [
    "![image.png](attachment:image.png)"
   ]
  },
  {
   "cell_type": "code",
   "execution_count": null,
   "metadata": {
    "ExecuteTime": {
     "end_time": "2022-10-17T06:07:30.205415Z",
     "start_time": "2022-10-17T05:56:59.210126Z"
    }
   },
   "outputs": [],
   "source": [
    "import tkinter\n",
    "\n",
    "window=tkinter.Tk()\n",
    "\n",
    "window.title(\"옥철영\")\n",
    "window.geometry(\"640x400+100+100\")\n",
    "window.resizable(True, True)     # 윈도우 창의 창 크기 조절 가능(상하, 좌우)\n",
    "\n",
    "window.mainloop()"
   ]
  },
  {
   "attachments": {
    "image.png": {
     "image/png": "[encoded data removed]"
    }
   },
   "cell_type": "markdown",
   "metadata": {},
   "source": [
    "![image.png](attachment:image.png)"
   ]
  },
  {
   "cell_type": "code",
   "execution_count": null,
   "metadata": {
    "ExecuteTime": {
     "end_time": "2022-10-17T05:49:51.554064Z",
     "start_time": "2022-10-17T05:49:51.546064Z"
    }
   },
   "outputs": [],
   "source": [
    "dir(window)"
   ]
  },
  {
   "cell_type": "markdown",
   "metadata": {},
   "source": [
    "## 2.2 위젯(Widget) 배치\n",
    "- 위젯(widget, window gadget): GUI 기반 운영체제에서 각종 시각적인 요소, button, label, text field, menu 등\n",
    "- label 만 있는 윈도우 생성 예"
   ]
  },
  {
   "cell_type": "code",
   "execution_count": null,
   "metadata": {
    "ExecuteTime": {
     "end_time": "2022-10-17T05:06:46.058062Z",
     "start_time": "2022-10-17T05:06:38.130939Z"
    }
   },
   "outputs": [],
   "source": [
    "from tkinter import *     # tkinter 모듈 포함\n",
    "\n",
    "window = Tk()             # 루트 window 생성, Tk 클라스\n",
    "\n",
    "label = Label(window, text=\"Hello World!\")  # 루트 window의 자식 레이블 위젯\n",
    "label.pack()        # 텍스트를 표시할 정도로만 레이블 위젯의 크기를 축소, 화면이 나타남.\n",
    "\n",
    "window.mainloop()   # 윈도우를 닫을 때까지 이벤트 루프에서 대기"
   ]
  },
  {
   "cell_type": "markdown",
   "metadata": {},
   "source": [
    "![tkinter](images/9_P386.png)"
   ]
  },
  {
   "cell_type": "markdown",
   "metadata": {},
   "source": [
    "### 이벤트 루프\n",
    "- 사용자로부터 오는 이벤트(마우스, 키보드)\n",
    "- 윈도우 시스템에서 오는 이벤트\n",
    "- tkinter 자신에 의한 이벤트(예,pack())를 처리\n",
    "- 프로그램이 메인 루프에 진입하기 전까지는 화면에 윈도우가 나타나지 않음\n",
    "\n",
    "![tkinter](images/9_P387.png)"
   ]
  },
  {
   "cell_type": "markdown",
   "metadata": {
    "collapsed": true,
    "jupyter": {
     "outputs_hidden": true
    }
   },
   "source": [
    "# 3. 버튼과 이벤트 처리\n",
    "- 버튼: 사용자와 상호작용\n",
    "- 텍스트(여러 줄 가능)와 이미지를 포함\n",
    "- 하나의 글꼴만 사용(레이블은 다양한 글꼴 사용 가능)\n",
    "- 특정 함수를 버턴에 연결하여 버튼이 눌러지면 함수를 호출"
   ]
  },
  {
   "cell_type": "code",
   "execution_count": null,
   "metadata": {},
   "outputs": [],
   "source": [
    "from tkinter import *\n",
    "\n",
    "window = Tk()\n",
    "\n",
    "b1 = Button(window, text=\"이것이 파이썬 버튼입니다.\")\n",
    "b1.pack()\n",
    "\n",
    "window.mainloop()"
   ]
  },
  {
   "cell_type": "markdown",
   "metadata": {},
   "source": [
    "![tkinter](images/9_P388.png)"
   ]
  },
  {
   "cell_type": "markdown",
   "metadata": {},
   "source": [
    "## 3.1 배치 관리자\n",
    "- 위젯을 부모 위젯 안에 압축하여 배치\n",
    "- side (TOP, LEFT, RIGHT, BOTTOM) 지정 : default는 TOP(위젯이 추가된 순서에 따라 수직으로 배치)\n",
    "- padx: 위젯의 왼쪽 및 오른쪽에 픽셀을 추가\n",
    "- pady: 위젯의 상단과 하단에 픽셀을 추가"
   ]
  },
  {
   "cell_type": "code",
   "execution_count": null,
   "metadata": {
    "ExecuteTime": {
     "end_time": "2022-10-17T06:07:35.910004Z",
     "start_time": "2022-10-17T06:07:30.253464Z"
    }
   },
   "outputs": [],
   "source": [
    "from tkinter import *\n",
    "\n",
    "window = Tk()\n",
    "\n",
    "b1 = Button(window, text=\"첫번째 버튼\")\n",
    "b2 = Button(window, text=\"두번째 버튼\")\n",
    "b1.pack()\n",
    "b2.pack()\n",
    "\n",
    "window.mainloop()"
   ]
  },
  {
   "cell_type": "markdown",
   "metadata": {},
   "source": [
    "![tkinter](images/9_P389_1.png)"
   ]
  },
  {
   "cell_type": "code",
   "execution_count": null,
   "metadata": {
    "ExecuteTime": {
     "end_time": "2022-10-17T06:07:41.450668Z",
     "start_time": "2022-10-17T06:07:38.183057Z"
    }
   },
   "outputs": [],
   "source": [
    "from tkinter import *\n",
    "\n",
    "window = Tk()\n",
    "\n",
    "b1 = Button(window, text=\"첫번째 버튼\")\n",
    "b2 = Button(window, text=\"두번째 버튼\")\n",
    "b1.pack(side=LEFT)\n",
    "b2.pack(side=LEFT)\n",
    "\n",
    "window.mainloop()"
   ]
  },
  {
   "cell_type": "markdown",
   "metadata": {},
   "source": [
    "![tkinter](images/9_P389_2.png)"
   ]
  },
  {
   "cell_type": "code",
   "execution_count": null,
   "metadata": {
    "ExecuteTime": {
     "end_time": "2022-10-17T06:09:10.230362Z",
     "start_time": "2022-10-17T06:09:00.928082Z"
    }
   },
   "outputs": [],
   "source": [
    "from tkinter import *\n",
    "\n",
    "window = Tk()\n",
    "\n",
    "b1 = Button(window, text=\"첫번째 버튼\")\n",
    "b2 = Button(window, text=\"두번째 버튼\")\n",
    "b1.pack(side=LEFT, padx=10, pady=5)\n",
    "b2.pack(side=LEFT, padx=10, pady=5)\n",
    "\n",
    "window.mainloop()"
   ]
  },
  {
   "cell_type": "markdown",
   "metadata": {},
   "source": [
    "![tkinter](images/9_P389_3.png)"
   ]
  },
  {
   "cell_type": "code",
   "execution_count": null,
   "metadata": {},
   "outputs": [],
   "source": [
    "from tkinter import *\n",
    "\n",
    "window = Tk()\n",
    "\n",
    "b1 = Button(window, text=\"첫번째 버튼\")\n",
    "b2 = Button(window, text=\"두번째 버튼\")\n",
    "b1.pack(side=LEFT, padx=10)\n",
    "b2.pack(side=LEFT, padx=10)\n",
    "b1[\"text\"] = \"One\"\n",
    "b2[\"text\"] = \"Two\"\n",
    "\n",
    "window.mainloop()"
   ]
  },
  {
   "cell_type": "markdown",
   "metadata": {},
   "source": [
    "![tkinter](images/9_P390_1.png)"
   ]
  },
  {
   "cell_type": "markdown",
   "metadata": {},
   "source": [
    "## 3.2 버턴 이벤트 처리\n",
    "- 사용자가 버튼을 클릭하면 버튼 이벤트가 발생\n",
    "- callback 함수(handler): 이벤트가 발생했을 때 처리하는 함수(command 매개변수에 등록)\n",
    "![이벤트처리](images/9_P390_2.png)\n",
    "![이벤트처리](images/9_P390_3.png)"
   ]
  },
  {
   "cell_type": "code",
   "execution_count": null,
   "metadata": {
    "ExecuteTime": {
     "end_time": "2022-10-17T06:13:23.061180Z",
     "start_time": "2022-10-17T06:13:14.171032Z"
    }
   },
   "outputs": [],
   "source": [
    "# \"클릭\" 버턴이 눌러지면 \"버턴이 클릭되었음\" 으로 변경\n",
    "from tkinter import *\n",
    "\n",
    "def callback():\n",
    "    button[\"text\"] =\"버튼이 클릭되었음!\"\n",
    "\n",
    "window = Tk()\n",
    "button = Button(window, text=\"클릭\", command=callback)\n",
    "button.pack(side=LEFT)\n",
    "\n",
    "window.mainloop()"
   ]
  },
  {
   "cell_type": "markdown",
   "metadata": {},
   "source": [
    "![이벤트처리](images/9_P390_4.png)"
   ]
  },
  {
   "cell_type": "code",
   "execution_count": null,
   "metadata": {
    "ExecuteTime": {
     "end_time": "2022-10-17T06:16:28.725959Z",
     "start_time": "2022-10-17T06:15:19.522060Z"
    }
   },
   "outputs": [],
   "source": [
    "# 레이블과 버튼 동시에 표시\n",
    "from tkinter import *\n",
    "\n",
    "window  = Tk()\n",
    "\n",
    "label = Label(window, text=\"안녕하세요!\")\n",
    "label.pack()\n",
    "\n",
    "button = Button(window, text=\"tkinter로  버튼을 쉽게 만들 수 있습니다.\")\n",
    "button.pack()\n",
    "\n",
    "window.mainloop()"
   ]
  },
  {
   "cell_type": "markdown",
   "metadata": {},
   "source": [
    "- 압축관리자(pack())는 한 행에 하나의 위젯만 배치\n",
    "\n",
    "![레이블&버턴](images/9_P391.png)"
   ]
  },
  {
   "cell_type": "markdown",
   "metadata": {},
   "source": [
    "## 3.3 클래스로 프레임 감싸기\n",
    "- 윈도우를 생성하는 부분을 class로 정의\n",
    "- class 재활용\n",
    "- class의 method에서 인스턴스변수들을 제한없이 접근하야 사용."
   ]
  },
  {
   "cell_type": "code",
   "execution_count": null,
   "metadata": {
    "ExecuteTime": {
     "end_time": "2022-10-17T06:31:36.680925Z",
     "start_time": "2022-10-17T06:31:27.795119Z"
    }
   },
   "outputs": [],
   "source": [
    "from tkinter import *\n",
    "\n",
    "class App:\n",
    "    def __init__(self ):\n",
    "        window = Tk()\n",
    "        helloB = Button(window, text=\"Hello\", command=self.hello, fg=\"red\")\n",
    "        helloB.pack(side=LEFT)\n",
    "        quitB = Button(window,  text=\"Quit\", command=self.quit)\n",
    "        quitB.pack(side=RIGHT)\n",
    "        window.mainloop()\n",
    "\n",
    "    def hello(self):\n",
    "        print(\"Hello 버튼이 클릭되었음!\")\n",
    "        \n",
    "    def quit(self):\n",
    "        print(\"Quit 버튼이 클릭되었음!\")\n",
    "\n",
    "App()"
   ]
  },
  {
   "cell_type": "markdown",
   "metadata": {},
   "source": [
    "![윈도우_class](images/9_P392.png)"
   ]
  },
  {
   "cell_type": "markdown",
   "metadata": {},
   "source": [
    "# 4. tkinter의 위젯들\n",
    "\n",
    "## 4.1 위젯 클래스\n",
    "- Button: 간단한 버튼으로 명령어 수행\n",
    "- Canvas: 화면에 그림 그리기\n",
    "- Checkbutton: 2가지 그별되는 값을 가지는 변수(두개 이상 선택되어도 됨)\n",
    "- Entry: 한 줄의 텍스트를 입력\n",
    "- Frame: 컨케이너 클래스, 다른 위젯들을 grouping, 경계선과 배경\n",
    "- Label: 텍스트나 이미지\n",
    "- Listbox: 선택사항 표시\n",
    "- Menu: 메뉴(풀다운, 팝업)\n",
    "- Menubutton: 메뉴버튼(풀다운)\n",
    "- Message: 텍스트 표시, 자동적으로 주어진 크기로 텍스트 축소\n",
    "- Radiobutton: 여러 값을 표시(하나만 선택)\n",
    "- Scale: 슬라이더를 끌어서 수치값을 입력\n",
    "- Scrollbar: 캔버스, 엔트리, 리스트박스, 텍스트 위젯을 위한 스크롤바\n",
    "- Text: 형식을 가지는 텍스트\n",
    "- Toplevel: 최상위 윈도우로 표시되는 독립적인 컨테이너\n",
    "- LabelFrame: 경계선과 제목을 가지는 프레임 위젯의 변형\n",
    "- PanedWindow: 자식위젯들을 크기 조절이 가능한 패널로 관리하는 컨테이너\n",
    "- Spinbox: 특정한 범위에서 값을 선택하는 엔트리 위젯\n",
    "\n",
    "![위젯](images/9_P395.gif)"
   ]
  },
  {
   "cell_type": "markdown",
   "metadata": {},
   "source": [
    "## 4.2 단순 위젯과 컨테이너 위젯\n",
    "- 단순 위젯: Button, Canvas, Checkbutton, Entry, Label, Message, Radiobutton, Scale, Text\n",
    "- 컨테이너 위젯: Frame, Toplevel, LabelFrame, PanedWindow\n",
    "![단순위젯&컨테이너위젯](images/9_P396.png)"
   ]
  },
  {
   "cell_type": "markdown",
   "metadata": {},
   "source": [
    "## 4.3 배치 관리자\n",
    "- 컨테니너 안에서 위젯들의 위치와 크기를 결정하는 객체\n",
    "- grid(): 격자 배치 관리자(grid geometry manager)는 테이블 형태의 배치\n",
    "- pack(): 압축 배치 관리자(pack geometry manager)는 위젯들을 부모 위젯 안에 압축\n",
    "- place(): 절대 배치 관리자(place geometry manager)는 주어진 위치에 위젯을 배치\n"
   ]
  },
  {
   "cell_type": "markdown",
   "metadata": {},
   "source": [
    "# 5. 색상과 폰트\n",
    "## 5.1 색상\n",
    "- 부분의 위젯은 배경(bg)과 전경(fg) 변수를 사용하여 위젯 및 텍스트 색상을 지정\n",
    "- 색상이름: red, white, blue, black, ..., Moccasin, PeachPuff, ...\n",
    "- RGB 값을 16진수로 표시: #ff0000"
   ]
  },
  {
   "cell_type": "code",
   "execution_count": null,
   "metadata": {},
   "outputs": [],
   "source": [
    "from  tkinter import *\n",
    "window = Tk()\n",
    "button = Button(window, text=\"버튼을 클릭하세요\")\n",
    "button.pack()\n",
    "button[\"fg\"] = \"yellow\"\n",
    "button[\"bg\"] = \"green\"\n",
    "window.mainloop()"
   ]
  },
  {
   "cell_type": "markdown",
   "metadata": {},
   "source": [
    "![색상](images/9_P398_1.png)"
   ]
  },
  {
   "cell_type": "code",
   "execution_count": null,
   "metadata": {},
   "outputs": [],
   "source": [
    "from  tkinter import *\n",
    "window = Tk()\n",
    "button = Button(window, text=\"버튼을 클릭하세요\")\n",
    "button.pack()\n",
    "button[\"fg\"] = \"#ff0000\"\n",
    "button[\"bg\"] = \"#00ff00\"\n",
    "window.mainloop()"
   ]
  },
  {
   "cell_type": "markdown",
   "metadata": {},
   "source": [
    "![색상](images/9_P398_2.png)"
   ]
  },
  {
   "cell_type": "code",
   "execution_count": null,
   "metadata": {
    "ExecuteTime": {
     "end_time": "2022-10-17T06:43:50.398267Z",
     "start_time": "2022-10-17T06:43:22.571481Z"
    }
   },
   "outputs": [],
   "source": [
    "# askcolor(): 대화상자를 통해 색상값 입력\n",
    "from tkinter import *\n",
    "from tkinter.colorchooser import *\n",
    "color = askcolor() \n",
    "print (color)\n",
    "mainloop()"
   ]
  },
  {
   "cell_type": "markdown",
   "metadata": {},
   "source": [
    "![색상](images/9_P399.png)"
   ]
  },
  {
   "cell_type": "markdown",
   "metadata": {},
   "source": [
    "## 5.2 폰트\n",
    "- text를 표시하는 위젯을 사용할 때 font 지정\n",
    "- Tk 8.0부터 튜플로 지정: (폰트이름, 폰트의 크기, 폰트 스타일) \n",
    "- 문자열로도 지정: font=\"Helvetica 16” = (\"Helvetica\", 16)\n",
    "- font.Font(family=\"Helvetica\", size=12): font 객체 생성\n",
    "- configure(): 폰트 속성(크기, 색상 등) 변경"
   ]
  },
  {
   "cell_type": "code",
   "execution_count": null,
   "metadata": {
    "ExecuteTime": {
     "end_time": "2022-10-17T06:51:09.718185Z",
     "start_time": "2022-10-17T06:51:02.665471Z"
    }
   },
   "outputs": [],
   "source": [
    "import tkinter as tk\n",
    "import tkinter.font as font\n",
    "\n",
    "class App:\n",
    "    def __init__(self):\n",
    "        root=tk.Tk()\n",
    "\n",
    "        self.customFont = font.Font(family=\"Helvetica\", size=12)\n",
    "\n",
    "        buttonframe = tk.Frame()\n",
    "        label = tk.Label(root, text=\"Hello, World!\", font=self.customFont)\n",
    "        buttonframe.pack()\n",
    "        label.pack()\n",
    "\n",
    "        bigger = tk.Button(root, text=\"폰트를 크게\", command=self.BigFont)\n",
    "        smaller = tk.Button(root, text=\"폰트를 작게\", command=self.SmallFont)\n",
    "        bigger.pack()\n",
    "        smaller.pack()\n",
    "        root.mainloop()\n",
    "\n",
    "    def BigFont(self):\n",
    "        size = self.customFont['size']\n",
    "        self.customFont.configure(size=size+2)\n",
    "\n",
    "    def SmallFont(self):\n",
    "        size = self.customFont['size']\n",
    "        self.customFont.configure(size=size-2)\n",
    "\n",
    "app=App()"
   ]
  },
  {
   "cell_type": "markdown",
   "metadata": {},
   "source": [
    "![폰트변경](images/9_P400.png)"
   ]
  },
  {
   "cell_type": "markdown",
   "metadata": {},
   "source": [
    "# 6. 레이블\n",
    "- 텍스트를 표시하는 위젯이지만 이미지도 함께 표시할 수 있다\n",
    "\n",
    "![레이블](images/9_P401_1.png)"
   ]
  },
  {
   "cell_type": "markdown",
   "metadata": {},
   "source": [
    "## 6.1 레이블로 화면에 이미지 표시하기\n",
    "- PhotoImage class의 생성자를 호출할 때 image 파일 입력 => image 파일을 객체로 만듦\n",
    "- label 생성 시에 image 매개변수에 image 객체를 전달"
   ]
  },
  {
   "cell_type": "code",
   "execution_count": null,
   "metadata": {
    "ExecuteTime": {
     "end_time": "2022-10-17T06:56:01.069962Z",
     "start_time": "2022-10-17T06:55:58.227782Z"
    }
   },
   "outputs": [],
   "source": [
    "from tkinter import *\n",
    "\n",
    "window = Tk()\n",
    "photo = PhotoImage(file=\"images/a1.gif\")\n",
    "w = Label(window, image=photo)\n",
    "w.photo = photo\n",
    "w.pack()\n",
    "window.mainloop()"
   ]
  },
  {
   "cell_type": "markdown",
   "metadata": {},
   "source": [
    "![label_그림](images/9_P401_2.png)"
   ]
  },
  {
   "cell_type": "markdown",
   "metadata": {},
   "source": [
    "## 6.2 레이블에 이미지와 텍스트를 동시에 나타내기\n",
    "- justify 매개변수: LEFT, RIGHT, 정렬값\n",
    "- padx: 텍스트 라벨 주위에 수평 패딩을 추가 (픽셀 단위)\n",
    "- pday: 텍스트 라벨 주위에 수직 패딩을 추가 (픽셀 단위)"
   ]
  },
  {
   "cell_type": "code",
   "execution_count": null,
   "metadata": {
    "ExecuteTime": {
     "start_time": "2022-10-17T07:02:23.326Z"
    }
   },
   "outputs": [],
   "source": [
    "from tkinter import *\n",
    "\n",
    "window = Tk()\n",
    "photo = PhotoImage(file=\"images/w1.gif\")\n",
    "w = Label(window, image=photo).pack(side=\"right\")\n",
    "message= \"\"\"삶이 그대를 속일지라도\n",
    "슬퍼하거나 노하지 말라 !\n",
    "우울한 날들을 견디면 : 믿으라,\n",
    "기쁨의 날이 오리니.\n",
    "마음은 미래에 사는 것\n",
    "현재는 슬픈 것:\n",
    "모든 것은 순간적인 것, 지나가는 것이니\n",
    "그리고 지나가는 것은 훗날 소중하게 되리니.\n",
    "\"\"\"\n",
    "w2 = Label(window, \n",
    "           justify=LEFT,            # text는 왼쪽 정렬\n",
    "           padx = 30, \n",
    "           text=message).pack(side=\"left\")    # label은 window의 왼쪽\n",
    "window.mainloop()"
   ]
  },
  {
   "cell_type": "markdown",
   "metadata": {},
   "source": [
    "![label_그림](images/9_P402.png)"
   ]
  },
  {
   "cell_type": "markdown",
   "metadata": {},
   "source": [
    "## 6.3 레이블의 색상과 폰트 변경하기\n",
    "- label의 font 속성 설정\n",
    "- 색상: fg(foreground), bg(background) 속성"
   ]
  },
  {
   "cell_type": "code",
   "execution_count": null,
   "metadata": {
    "ExecuteTime": {
     "end_time": "2022-10-17T07:13:41.068995Z",
     "start_time": "2022-10-17T07:13:35.770464Z"
    }
   },
   "outputs": [],
   "source": [
    "from tkinter import *\n",
    "\n",
    "window = Tk()\n",
    "\n",
    "Label(window, \n",
    "\t\t text=\"Times Font 폰트와 빨강색을 사용합니다.\",\n",
    "\t\t fg = \"red\",\n",
    "\t\t font = \"Times 32 bold italic\").pack()\n",
    "Label(window, \n",
    "\t\t text=\"Helvetica 폰트와 녹색을 사용합니다.\",\n",
    "\t\t fg = \"blue\",\n",
    "\t\t bg = \"yellow\",\n",
    "\t\t font = \"Helvetica 32 bold italic\").pack()\n",
    "window.mainloop()"
   ]
  },
  {
   "cell_type": "markdown",
   "metadata": {},
   "source": [
    "![색상_폰트](images/9_P403.png)"
   ]
  },
  {
   "cell_type": "markdown",
   "metadata": {},
   "source": [
    "# 7. text 입력\n",
    "\n",
    "## 7.1 엔트리 위젯\n",
    "- 응용프로그램이 사용자로부터 한 줄의 텍스트를 입력 받을 때 사용\n",
    "- 단일 글꼴\n",
    "- 디스플에이 공간보다 긴 문자열을 입력할 경우 스크롤됨\n",
    "![엔트리](images/9_P404_1.png)"
   ]
  },
  {
   "cell_type": "code",
   "execution_count": null,
   "metadata": {},
   "outputs": [],
   "source": [
    "from tkinter import *\n",
    "\n",
    "window = Tk()\n",
    "Label(window , text=\"이름\").grid(row=0)\n",
    "Label(window, text=\"나이\").grid(row=1)\n",
    "\n",
    "e1 = Entry(window)\n",
    "e2 = Entry(window)\n",
    "\n",
    "e1.grid(row=0, column=1)          # 테이블의 0번째 행, 1번째 열에 배치\n",
    "e2.grid(row=1, column=1)          # 테이블의 1번째 행, 1번째 열에 배치\n",
    "\n",
    "window.mainloop( )"
   ]
  },
  {
   "cell_type": "markdown",
   "metadata": {},
   "source": [
    "![엔트리](images/9_P404_2.png)"
   ]
  },
  {
   "cell_type": "markdown",
   "metadata": {},
   "source": [
    "### get() method: 엔트리 위젯의 내용을 읽음"
   ]
  },
  {
   "cell_type": "code",
   "execution_count": null,
   "metadata": {},
   "outputs": [],
   "source": [
    "from tkinter import *\n",
    "\n",
    "def show():\n",
    "   print(\"이름: %s\\n나이: %s\" % (e1.get(), e2.get()))\n",
    "   \n",
    "parent  = Tk()\n",
    "Label(parent , text=\"이름\").grid(row=0)\n",
    "Label(parent, text=\"나이\").grid(row=1)\n",
    "\n",
    "e1 = Entry(parent)\n",
    "e2 = Entry(parent)\n",
    "\n",
    "e1.grid(row=0, column=1)\n",
    "e2.grid(row=1, column=1)\n",
    "\n",
    "Button(parent, text='보이기', command=show).grid(row=3, column=1, sticky=W, pady=4)\n",
    "Button(parent, text='종료', command=parent.quit).grid(row=3, column=0, sticky=W, pady=4)\n",
    "\n",
    "mainloop()"
   ]
  },
  {
   "cell_type": "markdown",
   "metadata": {},
   "source": [
    "- sticky : 위젯(widget)이 row, column이 가리키는 셀(cell)크기 보다 작을 경우 N, E, S, W, NE, NW, SE, SW를 사용해서 붙임\n",
    "\n",
    "![엔트리위젯읽기](images/9_P405.png)"
   ]
  },
  {
   "cell_type": "markdown",
   "metadata": {},
   "source": [
    "## 7.2 텍스트 위젯\n",
    "- 멀티 라인 텍스트 영역에 사용\n",
    "- 간단한 텍스트 편집기, 웹브라우저로도 사용\n",
    "- 링크 표시, 이미지, HTML 표시\n",
    "-텍스트 표시할 때 CSS(cascading style sheets) tkdydgkf tn dlTdma."
   ]
  },
  {
   "cell_type": "code",
   "execution_count": null,
   "metadata": {},
   "outputs": [],
   "source": [
    "from tkinter import *\n",
    "\n",
    "window = Tk()\n",
    "T = Text(window, height=5, width=60)\n",
    "T.pack()\n",
    "T.insert(END, \"테스트 위젯은 여러 줄의\\n텍스트를 표시할 수 있습니다.\")   # 텍스트를 끝부분에 추가\n",
    "mainloop()"
   ]
  },
  {
   "cell_type": "markdown",
   "metadata": {},
   "source": [
    "![텍스트위젯](images/9_P406.png)"
   ]
  },
  {
   "cell_type": "markdown",
   "metadata": {},
   "source": [
    "## 7.3 LAB. 계산기\n",
    "> 수식을 텍스트로 입력하면 이것을 평가하고 그 결과를 출력할 수 있는 간단한 계산기를 작성하여 본다. \n",
    ">\n",
    "> 수식의 형식은 파이썬과 동일하여야 한다. \n",
    ">\n",
    "> **eval() 함수**를 사용하여 사용자가 입력한 수식을 계산할 수 있다.\n",
    ">\n",
    "> 10 연습문제 참조\n"
   ]
  },
  {
   "cell_type": "code",
   "execution_count": null,
   "metadata": {},
   "outputs": [],
   "source": [
    "from tkinter import *\n",
    "from math import *\n",
    "def calculate(event):\n",
    "    label.configure(text = \"결과: \" + str(eval(entry.get())))  # configue: label의 text를 계산 값으로 변경\n",
    "\n",
    "window = Tk()\n",
    "\n",
    "Label(window, text=\"파이썬 수식 입력:\").pack()\n",
    "entry = Entry(window)\n",
    "entry.bind(\"<Return>\", calculate)        # entry 위젯에서 <Return> 키를 치면 calculate 함수 호출\n",
    "entry.pack()\n",
    "\n",
    "label = Label(window, text =\"결과:\")\n",
    "label.pack()\n",
    "\n",
    "window.mainloop()"
   ]
  },
  {
   "cell_type": "markdown",
   "metadata": {},
   "source": [
    "![계산기](images/9_P407.png)"
   ]
  },
  {
   "cell_type": "markdown",
   "metadata": {
    "collapsed": true,
    "jupyter": {
     "outputs_hidden": true
    }
   },
   "source": [
    "# 8. tkinter를 이용한 그래픽\n",
    "## 8.1 Canvas 위젯\n",
    "- 캔버스 생성 (가로, 세로 길이 지정)\n",
    "- 캔버스에 그림(점, 선, 사각형, 원 등)을 그림\n",
    "- 그래프를 그린다거나 그래픽 에디터를 작성할 수도 있고 많은 종류의 커스텀 위젯을 작성"
   ]
  },
  {
   "cell_type": "code",
   "execution_count": null,
   "metadata": {},
   "outputs": [],
   "source": [
    "from tkinter import *\n",
    "\n",
    "window = Tk()\n",
    "\n",
    "w = Canvas(window, width=300, height=200)\n",
    "w.pack()\n",
    "mainloop()"
   ]
  },
  {
   "cell_type": "markdown",
   "metadata": {},
   "source": [
    "![캔버스](images/9_P408.png)"
   ]
  },
  {
   "cell_type": "markdown",
   "metadata": {},
   "source": [
    "## 8.2 선, 사각형 그리기\n",
    "- create_line()\n",
    "- create_rectangle()\n",
    "- coords()\n",
    "- itemconfig()\n",
    "- move()\n",
    "- delete()"
   ]
  },
  {
   "cell_type": "code",
   "execution_count": null,
   "metadata": {},
   "outputs": [],
   "source": [
    "from tkinter import *\n",
    "\n",
    "window = Tk()\n",
    "\n",
    "w = Canvas(window, width=300, height=200)\n",
    "w.pack()\n",
    "\n",
    "w.create_rectangle(50, 25, 200, 100, fill=\"blue\")\n",
    "w.create_line(0, 0, 300, 200)\n",
    "w.create_line(0, 0, 300, 100, fill=\"red\")\n",
    "\n",
    "mainloop()"
   ]
  },
  {
   "cell_type": "markdown",
   "metadata": {},
   "source": [
    "![캔버스](images/9_P409_1.png)"
   ]
  },
  {
   "cell_type": "code",
   "execution_count": null,
   "metadata": {
    "ExecuteTime": {
     "end_time": "2022-10-17T07:37:23.391020Z",
     "start_time": "2022-10-17T07:37:19.521076Z"
    }
   },
   "outputs": [],
   "source": [
    "from tkinter import *\n",
    "\n",
    "window = Tk()\n",
    "\n",
    "w = Canvas(window, width=300, height=200)\n",
    "w.pack()\n",
    "\n",
    "w.create_rectangle(50, 25, 200, 100, fill=\"blue\")\n",
    "w.create_line(0, 0, 300, 200)\n",
    "w.create_line(0, 0, 300, 100, fill=\"red\")\n",
    "\n",
    "#w.delete(i) # 삭제한다. \n",
    "#w.delete(ALL) # 모든 항목을 삭제한다. \n",
    "mainloop()"
   ]
  },
  {
   "cell_type": "markdown",
   "metadata": {},
   "source": [
    "![캔버스](images/9_P409_2.png)"
   ]
  },
  {
   "cell_type": "code",
   "execution_count": null,
   "metadata": {
    "ExecuteTime": {
     "end_time": "2022-10-17T10:21:19.696900Z",
     "start_time": "2022-10-17T10:11:54.642350Z"
    }
   },
   "outputs": [],
   "source": [
    "# 캔버스 위젯에 추가된 항목은 삭제 전까지 유지\n",
    "# 속성변경: coords(), itemconfig(), move() \n",
    "# delete(): 위젯 삭제\n",
    "\n",
    "from tkinter import *\n",
    "\n",
    "window = Tk()\n",
    "\n",
    "w = Canvas(window, width=300, height=200)\n",
    "w.pack()\n",
    "\n",
    "i = w.create_line(0, 0, 300, 200, fill=\"red\")\n",
    "w.coords(i, 0, 0, 300, 100)   # 좌표 변경\n",
    "w.itemconfig(i, fill=\"blue\")  # 색상변경\n",
    "\n",
    "#w.delete(i) # 삭제한다. \n",
    "#w.delete(ALL) # 모든 항목을 삭제한다. \n",
    "mainloop()"
   ]
  },
  {
   "cell_type": "markdown",
   "metadata": {},
   "source": [
    "## 8.3 색상 설정하기\n",
    "- 색상이름: red, white, blue, black, ..., Moccasin(#FAEBD7), PeachPuff(#FFDAB9)\n",
    "- outline: 경계선의 색 지정\n",
    "- fill: 도형의 채우기 색상 지정\n",
    "\n",
    "- RGB 색상 혼합 (0,0,0): 검정색(#000000), (256,256,256): 흰색(#FFFFFF)"
   ]
  },
  {
   "cell_type": "code",
   "execution_count": null,
   "metadata": {},
   "outputs": [],
   "source": [
    "from tkinter import *\n",
    "\n",
    "window = Tk()\n",
    "\n",
    "w = Canvas(window, width=300, height=200)\n",
    "w.pack()\n",
    "\n",
    "w.create_rectangle(50, 25, 200, 100, outline=\"blue\")\n",
    "\n",
    "mainloop()"
   ]
  },
  {
   "cell_type": "markdown",
   "metadata": {},
   "source": [
    "![캔버스](images/9_P411.png)"
   ]
  },
  {
   "cell_type": "code",
   "execution_count": null,
   "metadata": {},
   "outputs": [],
   "source": [
    "from tkinter import *\n",
    "\n",
    "window = Tk()\n",
    "\n",
    "w = Canvas(window, width=300, height=200)\n",
    "w.pack()\n",
    "\n",
    "w.create_rectangle(50, 25, 200, 100, fill=\"#FA88AB\")\n",
    "\n",
    "mainloop()"
   ]
  },
  {
   "cell_type": "markdown",
   "metadata": {},
   "source": [
    "![캔버스](images/9_P412.png)"
   ]
  },
  {
   "cell_type": "markdown",
   "metadata": {},
   "source": [
    "## 8.4 사용자로부터 색상 입력받기\n",
    "- tkinter.colorchooser 모듈의 askcolor() 함수\n",
    "- tuple 반환: 첫번째 요소: (빨강색, 녹색, 파랑색) 성분의 값\n",
    "- 두번때 요소는 색상의 16진수 "
   ]
  },
  {
   "cell_type": "code",
   "execution_count": null,
   "metadata": {
    "ExecuteTime": {
     "end_time": "2022-10-17T10:25:45.323588Z",
     "start_time": "2022-10-17T10:25:08.876958Z"
    }
   },
   "outputs": [],
   "source": [
    "from tkinter import *\n",
    "from tkinter.colorchooser import *\n",
    "\n",
    "window = Tk()\n",
    "w = Canvas(window, width=300, height=200)\n",
    "w.pack()\n",
    "color = askcolor() \n",
    "\n",
    "w.create_rectangle(50, 25, 200, 100, fill=color[1])\n",
    "print (color)\n",
    "\n",
    "window.mainloop()"
   ]
  },
  {
   "cell_type": "markdown",
   "metadata": {},
   "source": [
    "![색상선택](images/9_P413.png)"
   ]
  },
  {
   "cell_type": "markdown",
   "metadata": {},
   "source": [
    "## LAB. 랜덤한 사각형 그리기\n",
    "> 윈도우를 하나 만들고 여기에 랜덤한 크기의 사각형을 여러 개 그려보자. 위치도 랜덤이어야 하고 크기, 색상도 랜덤으로 하여 본다.\n",
    "![랜덤한_사각형](images/9_P415.png)"
   ]
  },
  {
   "cell_type": "code",
   "execution_count": null,
   "metadata": {
    "ExecuteTime": {
     "end_time": "2022-10-17T10:27:59.245954Z",
     "start_time": "2022-10-17T10:27:55.261620Z"
    }
   },
   "outputs": [],
   "source": [
    "import random\n",
    "from tkinter import *\n",
    "\n",
    "window = Tk()\n",
    "canvas = Canvas(window, width=500, height=400)\n",
    "canvas.pack()\n",
    "color = [\"red\", \"orange\", \"yellow\", \"green\", \"blue\", \"violet\"]\n",
    "\n",
    "def draw_rect():\n",
    "    x = random.randint(0, 500)\n",
    "    y = random.randint(0, 400)\n",
    "    w = random.randrange(100)\n",
    "    h = random.randrange(100)\n",
    "    canvas.create_rectangle(x, y, w, h, fill = random.choice(color))\n",
    "\n",
    "for i in range(10):\n",
    "    draw_rect()\n",
    "    \n",
    "window.mainloop()"
   ]
  },
  {
   "cell_type": "markdown",
   "metadata": {},
   "source": [
    "## 8.5  캔버스 항목\n",
    "- 호(arc) \n",
    "- 비트맵(bitmap, 내장 파일이나 XBM 파일 형식)\n",
    "- 이미지(image, BitmapImage나 PhotoImage 객체)\n",
    "- 직선(line)\n",
    "- 타원(oval, 원이나 타원)\n",
    "- 다각형(polygon)\n",
    "- 사각형(rectangle)\n",
    "- 텍스트(text)\n",
    "- 윈도우(window)"
   ]
  },
  {
   "cell_type": "markdown",
   "metadata": {},
   "source": [
    "### 8.5.1 타원(oval)그리기\n",
    "- create_oval(x0,y0,x1,y1)\n",
    "- 사각형을 지정하여 사각형 안에 그려진다\n",
    "![타원](images/9_P417_1.png)"
   ]
  },
  {
   "cell_type": "code",
   "execution_count": null,
   "metadata": {},
   "outputs": [],
   "source": [
    "from tkinter import *\n",
    "window = Tk()\n",
    "canvas = Canvas(window, width=300, height=200)\n",
    "canvas.pack()\n",
    "canvas.create_oval(10, 10, 200, 150)\n",
    "window.mainloop()"
   ]
  },
  {
   "cell_type": "markdown",
   "metadata": {},
   "source": [
    "![타원](images/9_P417_2.png)"
   ]
  },
  {
   "cell_type": "markdown",
   "metadata": {},
   "source": [
    "### 8.5.2 호(arc) 그리기\n",
    "- 사각형을 지정하여 그린다.\n",
    "- 각도(extent 매개변수)를 지정"
   ]
  },
  {
   "cell_type": "code",
   "execution_count": null,
   "metadata": {},
   "outputs": [],
   "source": [
    "from tkinter import *\n",
    "window = Tk()\n",
    "canvas = Canvas(window, width=300, height=200)\n",
    "canvas.pack()\n",
    "canvas.create_arc(10, 10, 200, 150, extent=90, style=ARC)\n",
    "window.mainloop()"
   ]
  },
  {
   "cell_type": "markdown",
   "metadata": {},
   "source": [
    "![호](images/9_P418_1.png)\n",
    "- extent\n",
    "![호](images/9_P418_2.png)"
   ]
  },
  {
   "cell_type": "markdown",
   "metadata": {},
   "source": [
    "### 연습문제\n",
    "> 반복문을 사용하여 각도를 30도씩 증가시키면서 호를 그리는 프로그램"
   ]
  },
  {
   "cell_type": "code",
   "execution_count": null,
   "metadata": {},
   "outputs": [],
   "source": [
    "from tkinter import *\n",
    "window = Tk()\n",
    "canvas = Canvas(window, width=300, height=200)\n",
    "canvas.pack()\n",
    "\n",
    "for degree in range(0, 360, 30):\n",
    "    canvas.create_arc(10, 10+degree//5, 200, 150+degree//5, extent=90, style=ARC)\n",
    "window.mainloop()"
   ]
  },
  {
   "cell_type": "markdown",
   "metadata": {},
   "source": [
    "![호](images/9_P418_3.png)"
   ]
  },
  {
   "cell_type": "markdown",
   "metadata": {},
   "source": [
    "### 8.5.3 다각형(polygon) 그리기\n",
    "- 다각형: 3개 이상의 선분으로 둘러싸인 도형\n",
    "- 각 점에 대한 x, y 좌표 => 리스트로 표현\n",
    "- 불규칙적인 형상을 그릴 수 있음"
   ]
  },
  {
   "cell_type": "code",
   "execution_count": null,
   "metadata": {},
   "outputs": [],
   "source": [
    "from tkinter import *\n",
    "window = Tk()\n",
    "\n",
    "canvas = Canvas(window, width=300, height=200)\n",
    "canvas.pack()\n",
    "\n",
    "canvas.create_polygon(10, 10, 150, 110, 250, 20, fill=\"blue\")\n",
    "window.mainloop()"
   ]
  },
  {
   "cell_type": "markdown",
   "metadata": {},
   "source": [
    "![다각형](images/9_P419.png)"
   ]
  },
  {
   "cell_type": "code",
   "execution_count": null,
   "metadata": {},
   "outputs": [],
   "source": [
    "from tkinter import *\n",
    "window = Tk()\n",
    "\n",
    "w=300\n",
    "h=200\n",
    "\n",
    "canvas = Canvas(window, width=w, height=h)\n",
    "canvas.pack()\n",
    "\n",
    "points=[0,0, 80,150, 250,20]\n",
    "canvas.create_polygon(points, outline=\"red\", fill=\"yellow\", width=5)\n",
    "window.mainloop()"
   ]
  },
  {
   "cell_type": "markdown",
   "metadata": {},
   "source": [
    "![다각형](images/9_P420_1.png)"
   ]
  },
  {
   "cell_type": "markdown",
   "metadata": {},
   "source": [
    "### 8.5.4 텍스트(text) 그리기\n",
    "- (x, y) 좌표: 텍스트의 중앙위치\n",
    "- 매개변수 text: 표시항 텍스트\n",
    "- 매개변수 fill: 글자색\n",
    "- 매개변수 font: 폰트와 크기"
   ]
  },
  {
   "cell_type": "code",
   "execution_count": null,
   "metadata": {},
   "outputs": [],
   "source": [
    "from tkinter import *\n",
    "window = Tk()\n",
    "canvas = Canvas(window, width=300, height=200)\n",
    "canvas.pack()\n",
    "canvas.create_text(100, 100, text='싱 스트리트(Sing Street)')\n",
    "mainloop()"
   ]
  },
  {
   "cell_type": "markdown",
   "metadata": {},
   "source": [
    "![다각형](images/9_P420_2.png)"
   ]
  },
  {
   "cell_type": "code",
   "execution_count": null,
   "metadata": {},
   "outputs": [],
   "source": [
    "from tkinter import *\n",
    "window = Tk()\n",
    "canvas = Canvas(window, width=500, height=200)\n",
    "canvas.pack()\n",
    "canvas.create_text(250, 10, text='Sing Street', fill='blue', font=('Courier', 20))\n",
    "canvas.create_text(250, 100, text='Sing Street', fill='red', font=('Hevetica', 30))\n",
    "canvas.create_text(250, 150, text='Sing Street', fill='green', font=('Times', 40))\n",
    "mainloop()"
   ]
  },
  {
   "cell_type": "markdown",
   "metadata": {},
   "source": [
    "![다각형](images/9_P421.png)"
   ]
  },
  {
   "cell_type": "markdown",
   "metadata": {},
   "source": [
    "### 8.5.5 이미지 표시하기\n",
    "- tkinter가 읽을 수 있는 이미지 파일: PNG, JPG 파일\n",
    "- 다른 이미지파일 http://www.pythonware.com/products/pil \n",
    "- (x,y): 이미지가 놓이는 좌표\n",
    "- anchor 매개변수: 이미지의 왼쪽상단(NW)"
   ]
  },
  {
   "cell_type": "code",
   "execution_count": null,
   "metadata": {
    "ExecuteTime": {
     "end_time": "2022-10-17T10:33:55.024153Z",
     "start_time": "2022-10-17T10:33:50.336240Z"
    }
   },
   "outputs": [],
   "source": [
    "from tkinter import *\n",
    "window = Tk()\n",
    "\n",
    "canvas = Canvas(window,  width=300, height=200)\n",
    "canvas.pack()\n",
    "\n",
    "img = PhotoImage(file=\"images/starship.png\")\n",
    "canvas.create_image(20, 20, anchor=NW, image=img)\n",
    "\n",
    "mainloop()"
   ]
  },
  {
   "cell_type": "markdown",
   "metadata": {},
   "source": [
    "![이미지](images/9_P422.png)"
   ]
  },
  {
   "cell_type": "markdown",
   "metadata": {},
   "source": [
    "### 8.5.6 애니메이션"
   ]
  },
  {
   "cell_type": "code",
   "execution_count": null,
   "metadata": {
    "ExecuteTime": {
     "end_time": "2022-10-17T10:34:16.947487Z",
     "start_time": "2022-10-17T10:34:07.679187Z"
    }
   },
   "outputs": [],
   "source": [
    "import time\n",
    "from tkinter import *\n",
    "window = Tk()\n",
    "canvas = Canvas(window, width=400, height=300)\n",
    "canvas.pack()\n",
    "id=canvas.create_oval(10, 100, 50, 150, fill=\"green\")\n",
    "\n",
    "for i in range(100):\n",
    "   canvas.move(id, 3, 0)\n",
    "   window.update()\n",
    "   time.sleep(0.05)\n",
    "mainloop()"
   ]
  },
  {
   "cell_type": "markdown",
   "metadata": {},
   "source": [
    "- time 모듈: 시간지연(초 단위)\n",
    "- move(): 그리기 객체는 (x, y) 방향으로 이동이 가능\n",
    "- update(): 화면을 다시 그림(그리기 객체 이동 후 다시 그림, 이전 화면 지워짐)"
   ]
  },
  {
   "cell_type": "markdown",
   "metadata": {},
   "source": [
    "### 8.5.7 화살표 키로 객체 움직이기\n",
    "- keyboard에 반응하는 애니메이션\n",
    "- event: keyboard의 key를 누르거나 마우스를 움직이고 마우스버턴을 누를 때 발생\n",
    "- event 처리: callback 함수 등록\n",
    "![event](images/9_P424.png)\n",
    "- bind_all(): event가 발생했을 때 함수 호출"
   ]
  },
  {
   "cell_type": "code",
   "execution_count": null,
   "metadata": {},
   "outputs": [],
   "source": [
    "from tkinter import *\n",
    "window = Tk()\n",
    "canvas = Canvas(window, width=400, height=300)\n",
    "canvas.pack()\n",
    "\n",
    "id=canvas.create_oval(10, 100, 50, 150, fill=\"green\")\n",
    "\n",
    "def move_right(event):\n",
    "    canvas.move(id, 5, 0)\n",
    "def move_left(event):\n",
    "    canvas.move(id, -5, 0)\n",
    "def move_down(event):\n",
    "    canvas.move(id, 0, 5)\n",
    "def move_up(event):\n",
    "    canvas.move(id, 0, -5)\n",
    "\n",
    "canvas.bind_all('<KeyPress-Right>', move_right)\n",
    "canvas.bind_all('<KeyPress-Left>', move_left)\n",
    "canvas.bind_all('<KeyPress-Up>', move_up)\n",
    "canvas.bind_all('<KeyPress-Down>', move_down)\n",
    "mainloop()"
   ]
  },
  {
   "cell_type": "markdown",
   "metadata": {
    "collapsed": true,
    "jupyter": {
     "outputs_hidden": true
    }
   },
   "source": [
    "### 연습문제: 마우스로 그림 그리기\n",
    "> 마우스를 움직여서 화면에 그림을 그리는 애플리케이션을 작성\n",
    "![마우스_그림](images/9_P427.png)"
   ]
  },
  {
   "cell_type": "code",
   "execution_count": null,
   "metadata": {},
   "outputs": [],
   "source": [
    "from tkinter import *\n",
    "\n",
    "w = 500\n",
    "h = 300\n",
    "\n",
    "def drawDot( event ):\n",
    "   x1, y1 = ( event.x - 1 ), ( event.y - 1 )\n",
    "   x2, y2 = ( event.x + 1 ), ( event.y + 1 )\n",
    "   canvas.create_oval( x1, y1, x2, y2, fill = \"red\" )\n",
    "\n",
    "window = Tk()\n",
    "canvas  = Canvas(window, width=w, height=h)\n",
    "canvas.pack(expand = YES, fill = BOTH)\n",
    "canvas.bind( \"<B1-Motion>\", drawDot )\n",
    "\n",
    "message = Label( window, text = \"마우스를 드래그하면 점들이 그려집니다.\" )\n",
    "message.pack( side = BOTTOM )\n",
    "    \n",
    "window.mainloop()"
   ]
  },
  {
   "cell_type": "markdown",
   "metadata": {
    "collapsed": true,
    "jupyter": {
     "outputs_hidden": true
    }
   },
   "source": [
    "# 9. 라디오 버튼과 체크박스\n",
    "## 9.1 라디오 버튼(radio button)\n",
    "- 여러 개의 선택사항 중 하나를 선택, 다른 버튼을 선택하면 기 선택된 버튼은 해제\n",
    "- 하나의 글꼴로만 텍스트를 표시\n",
    "- 라디오 버튼에 함수 등록\n",
    "- 동일한 변수와 연관된 라디오 버튼은 모두 동일한 그룹에 속함.\n",
    "- 버튼을 누르면 미리 정의된 특벙한 겂으로 변수에 할당\n",
    "\n",
    "![라디오버튼](images/9_P429_1.png)"
   ]
  },
  {
   "cell_type": "code",
   "execution_count": null,
   "metadata": {},
   "outputs": [],
   "source": [
    "from tkinter import *\n",
    "\n",
    "window = Tk()\n",
    "choice = IntVar()  # 정수형 변수 생성\n",
    "\n",
    "Label(window, \n",
    "      text=\"가장 선호하는 프로그래밍 언어를 선택하시오\",\n",
    "      justify = LEFT,\n",
    "      padx = 20).pack()\n",
    "Radiobutton(window, text=\"Python\", padx = 20, variable=choice, value=1).pack(anchor=W)\n",
    "Radiobutton(window, text=\"C\", padx = 20, variable=choice, value=2).pack(anchor=W)\n",
    "Radiobutton(window, text=\"Java\", padx = 20, variable=choice, value=3).pack(anchor=W)\n",
    "Radiobutton(window, text=\"Swift\", padx = 20, variable=choice, value=4).pack(anchor=W)\n",
    "\n",
    "window.mainloop()"
   ]
  },
  {
   "cell_type": "markdown",
   "metadata": {},
   "source": [
    "![choice_PL](images/9_P429_2.png)"
   ]
  },
  {
   "cell_type": "code",
   "execution_count": null,
   "metadata": {},
   "outputs": [],
   "source": [
    "dir(choice)"
   ]
  },
  {
   "cell_type": "code",
   "execution_count": null,
   "metadata": {},
   "outputs": [],
   "source": [
    "from tkinter import *\n",
    "\n",
    "window = Tk()\n",
    "select = IntVar()  # 정수형 변수 생성\n",
    "select.set(1)\n",
    "\n",
    "list = [(\"Python\",1),(\"C\",2),(\"Java\",3),(\"Swift\",4)]\n",
    "\n",
    "def PrintChoice():\n",
    "    print(select.get())\n",
    "\n",
    "Label(window, \n",
    "      text=\"가장 선호하는 프로그래밍 언어를 선택하시오\",\n",
    "      justify = LEFT,\n",
    "      padx = 20).pack()\n",
    "\n",
    "for txt, val in list:\n",
    "    Radiobutton(window, \n",
    "                text=txt, \n",
    "                padx = 20, \n",
    "                variable=select, \n",
    "                command=PrintChoice, \n",
    "                value=val).pack(anchor=W)\n",
    "    \n",
    "window.mainloop()"
   ]
  },
  {
   "cell_type": "markdown",
   "metadata": {},
   "source": [
    "## 9.2 체크 박스(check box)\n",
    "- 사용자가 클릭하여서 체크된 상태와 체크되지 않은 상태 중의 하나로 만들 수 있는 위젯\n",
    "- 선택 항목 중 여러 개를 동시에 선택\n",
    "![check_box](images/9_P431_1.png)"
   ]
  },
  {
   "cell_type": "code",
   "execution_count": null,
   "metadata": {},
   "outputs": [],
   "source": [
    "from tkinter import *\n",
    "\n",
    "window = Tk()\n",
    "Label(window, text=\"선호하는 언어를 모두 선택하시오:\").grid(row=0, sticky=W)\n",
    "\n",
    "value1 = IntVar()\n",
    "Checkbutton(window, text=\"Python\", variable=value1).grid(row=1, sticky=W)\n",
    "value2 = IntVar()\n",
    "Checkbutton(window, text=\"C\", variable=value2).grid(row=2, sticky=W)\n",
    "value3 = IntVar()\n",
    "Checkbutton(window, text=\"Java\", variable=value3).grid(row=3, sticky=W)\n",
    "value4 = IntVar()\n",
    "Checkbutton(window, text=\"Swift\", variable=value4).grid(row=4, sticky=W)\n",
    "\n",
    "window.mainloop()"
   ]
  },
  {
   "cell_type": "markdown",
   "metadata": {},
   "source": [
    "![check_box](images/9_P431_2.png)"
   ]
  },
  {
   "cell_type": "markdown",
   "metadata": {},
   "source": [
    "## 9.3 리스트 박스\n",
    "- 사용자가 선택할 수 있는 항목들을 메뉴로 보여줌"
   ]
  },
  {
   "cell_type": "code",
   "execution_count": null,
   "metadata": {},
   "outputs": [],
   "source": [
    "from tkinter import *\n",
    "\n",
    "window = Tk()\n",
    "\n",
    "lb = Listbox(window, height=4)   # 매개변수 height: 리스트박스 내의 항목 갯수\n",
    "lb.pack()\n",
    "lb.insert(END,\"Python\")\n",
    "lb.insert(END,\"C\")\n",
    "lb.insert(END,\"Java\")\n",
    "lb.insert(END,\"Swift\")\n",
    "\n",
    "window.mainloop()"
   ]
  },
  {
   "cell_type": "markdown",
   "metadata": {},
   "source": [
    "![list_box](images/9_P432.png)"
   ]
  },
  {
   "cell_type": "markdown",
   "metadata": {},
   "source": [
    "## 9.4 리스트 박스 & 스크롤바"
   ]
  },
  {
   "cell_type": "code",
   "execution_count": null,
   "metadata": {
    "ExecuteTime": {
     "end_time": "2022-10-17T04:48:14.699033Z",
     "start_time": "2022-10-17T04:36:08.163787Z"
    }
   },
   "outputs": [],
   "source": [
    "from tkinter import *\n",
    "\n",
    "window = Tk()\n",
    "\n",
    "sb = Scrollbar(window, orient=VERTICAL)\n",
    "sb.pack(side=RIGHT, fill=Y)\n",
    "\n",
    "lb = Listbox(window, height=4)   # 매개변수 height: 리스트박스 내의 항목 갯수\n",
    "lb.pack()\n",
    "lb.insert(END,\"Python\")\n",
    "lb.insert(END,\"C\")\n",
    "lb.insert(END,\"Java\")\n",
    "lb.insert(END,\"Swift\")\n",
    "lb.insert(END,\"Go\")\n",
    "lb.insert(END,\"C++\")\n",
    "lb.insert(END,\"C#\")\n",
    "\n",
    "sb.configure(command=lb.yview)\n",
    "lb.configure(yscrollcommand=sb.set)\n",
    "\n",
    "window.mainloop()\n",
    "\n",
    "lb.curselection()"
   ]
  },
  {
   "cell_type": "markdown",
   "metadata": {},
   "source": [
    "# 10. 배치 관리자\n",
    "> 컨테이너 내부의 위젯들의 크기와 위치를 자동으로 관리하는 객체\n",
    "- 압축(pack) 배치 관리자\n",
    "- 격자(grid) 배치 관리자\n",
    "- 절대(place) 배치 관리자"
   ]
  },
  {
   "cell_type": "markdown",
   "metadata": {},
   "source": [
    "## 10.1 격자 배치 관리자\n",
    "- 위젯 (버튼, 레이블 등)을 테이블 형태로 배치"
   ]
  },
  {
   "cell_type": "code",
   "execution_count": null,
   "metadata": {},
   "outputs": [],
   "source": [
    "from tkinter import *\n",
    "window = Tk()\n",
    "\n",
    "b1 = Button(window, text=\"One\")\n",
    "b2 = Button(window, text=\"Two\")\n",
    "\n",
    "b1.grid(row=0, column=0)\n",
    "b2.grid(row=1, column=1)\n",
    "\n",
    "window.mainloop()"
   ]
  },
  {
   "cell_type": "markdown",
   "metadata": {},
   "source": [
    "![격자 배치 관리자](images/9_P435_1.png)"
   ]
  },
  {
   "cell_type": "code",
   "execution_count": null,
   "metadata": {},
   "outputs": [],
   "source": [
    "from tkinter import *\n",
    "window = Tk()\n",
    "\n",
    "b1 = Button(window, text=\"One\")\n",
    "b2 = Button(window, text=\"Two\")\n",
    "\n",
    "b1.grid(row=0, column=0)\n",
    "b2.grid(row=1, column=1)\n",
    "\n",
    "l = Label(window, text=\"이것은 레이블입니다.\")\n",
    "l.grid(row=1, column=0)\n",
    "\n",
    "window.mainloop()"
   ]
  },
  {
   "cell_type": "markdown",
   "metadata": {},
   "source": [
    "![격자 배치 관리자](images/9_P435_2.png)"
   ]
  },
  {
   "cell_type": "markdown",
   "metadata": {},
   "source": [
    "## 10.2 압축 배치 관리자\n",
    "- 위젯 (버튼, 레이블 등)을 최대한 붙여서 배치 "
   ]
  },
  {
   "cell_type": "code",
   "execution_count": null,
   "metadata": {},
   "outputs": [],
   "source": [
    "from tkinter import *\n",
    "\n",
    "window = Tk()\n",
    "\n",
    "Label(window, text=\"박스 #1\", bg=\"red\", fg=\"white\").pack()\n",
    "Label(window, text=\"박스 #2\", bg=\"green\", fg=\"black\").pack()\n",
    "Label(window, text=\"박스 #3\", bg=\"blue\", fg=\"white\").pack()\n",
    "\n",
    "window.mainloop()"
   ]
  },
  {
   "cell_type": "markdown",
   "metadata": {},
   "source": [
    "![압축배치관리자](images/9_P436_1.png)"
   ]
  },
  {
   "cell_type": "code",
   "execution_count": null,
   "metadata": {},
   "outputs": [],
   "source": [
    "from tkinter import *\n",
    "\n",
    "window = Tk()\n",
    "\n",
    "w = Label(window, text=\"박스 #1\", bg=\"red\", fg=\"white\")\n",
    "w.pack(fill=X)\n",
    "w = Label(window, text=\"박스 #2\", bg=\"green\", fg=\"black\")\n",
    "w.pack(fill=X)\n",
    "w = Label(window, text=\"박스 #3\", bg=\"blue\", fg=\"white\")\n",
    "w.pack(fill=X)\n",
    "\n",
    "window.mainloop()"
   ]
  },
  {
   "cell_type": "markdown",
   "metadata": {},
   "source": [
    "![압축배치관리자](images/9_P436_2.png)"
   ]
  },
  {
   "cell_type": "code",
   "execution_count": null,
   "metadata": {},
   "outputs": [],
   "source": [
    "from tkinter import *\n",
    "\n",
    "window = Tk()\n",
    "\n",
    "w = Label(window, text=\"박스 #1\", bg=\"red\", fg=\"white\")\n",
    "w.pack(padx=5, pady=0, side=LEFT)\n",
    "w = Label(window, text=\"박스 #2\", bg=\"green\", fg=\"black\")\n",
    "w.pack(padx=5, pady=0, side=LEFT)\n",
    "w = Label(window, text=\"박스 #3\", bg=\"blue\", fg=\"white\")\n",
    "w.pack(padx=5, pady=0, side=LEFT)\n",
    "\n",
    "window.mainloop()"
   ]
  },
  {
   "cell_type": "markdown",
   "metadata": {},
   "source": [
    "![압축배치관리자](images/9_P436_3.png)"
   ]
  },
  {
   "cell_type": "markdown",
   "metadata": {},
   "source": [
    "## 10.3 절대 위치 배치 관리자\n",
    "- 절대 위치(x,y)를 사용하여 위젯 (버튼, 레이블 등)을 배치"
   ]
  },
  {
   "cell_type": "code",
   "execution_count": null,
   "metadata": {},
   "outputs": [],
   "source": [
    "from tkinter import *\n",
    "\n",
    "window = Tk()\n",
    "\n",
    "w = Label(window, text=\"박스 #1\", bg=\"red\", fg=\"white\")\n",
    "w.place(x=0, y=0)\n",
    "w = Label(window, text=\"박스 #2\", bg=\"green\", fg=\"black\")\n",
    "w.place(x=20, y=20)\n",
    "w = Label(window, text=\"박스 #3\", bg=\"blue\", fg=\"white\")\n",
    "w.place(x=40, y=40)\n",
    "\n",
    "window.mainloop()"
   ]
  },
  {
   "cell_type": "markdown",
   "metadata": {},
   "source": [
    "![절대배치관리자](images/9_P437_1.png)"
   ]
  },
  {
   "cell_type": "markdown",
   "metadata": {},
   "source": [
    "## 10.4 여러 배치 관리자 혼용하기\n",
    "- 하나의 컨테이너 안에 다른 컨테이너를 배치하고 컨테이너마다 배치관리자를 다르게 할 수 있음."
   ]
  },
  {
   "cell_type": "code",
   "execution_count": null,
   "metadata": {},
   "outputs": [],
   "source": [
    "from tkinter import *\n",
    "\n",
    "window = Tk()\n",
    "f = Frame(window)  # 윈도우 안에 프레임을 만듦\n",
    "\n",
    "b1 = Button(f, text=\"One\")   # 프레임 안에 버튼을 만듦\n",
    "b2 = Button(f, text=\"Two\")\n",
    "b3 = Button(f, text=\"Three\")\n",
    "\n",
    "b1.pack(side=LEFT)\n",
    "b2.pack(side=LEFT)\n",
    "b3.pack(side=LEFT)\n",
    "\n",
    "l = Label(window, text=\"이 레이블은 버튼 위에 배치.\")\n",
    "l.pack()\n",
    "f.pack()\n",
    "\n",
    "window.mainloop()"
   ]
  },
  {
   "cell_type": "markdown",
   "metadata": {},
   "source": [
    "![배치관리자_혼용](images/9_P437_2.png)"
   ]
  },
  {
   "cell_type": "markdown",
   "metadata": {},
   "source": [
    "## 가위, 바위, 보 게임\n",
    "![가위바위보](images/가위바위보.png)"
   ]
  },
  {
   "cell_type": "markdown",
   "metadata": {},
   "source": [
    "## 연습문제: TIC-TAC-TOE 게임\n",
    "> Tic-Tac-Toe는 3×3칸을 가지는 게임판을 만들고, 경기자 2명이 동그라미 심볼(O)와 가위표 심볼(X)을 고른다. 경기자는 번갈아 가며 게임판에 동그라미나 가위표를 놓는다. 가로, 세로, 대각선으로 동일한 심볼을 먼저 만들면 승리하게 된다. "
   ]
  },
  {
   "cell_type": "code",
   "execution_count": 1,
   "metadata": {
    "ExecuteTime": {
     "end_time": "2022-11-08T13:48:01.173707Z",
     "start_time": "2022-11-08T13:47:27.913935Z"
    }
   },
   "outputs": [],
   "source": [
    "##\n",
    "#\t이 프로그램은 가위, 바위, 보 게임을 구현한다. \n",
    "#\n",
    "import random\n",
    "from tkinter import *\n",
    "\n",
    "window = Tk()\n",
    "Label(window, text=\"선택하세요\", font=(\"Helvetica\", \"16\")).pack()\n",
    "frame = Frame(window)\n",
    "\n",
    "# 이미지를 d 드라이브로 복사하여 주세요!\n",
    "rock_image = PhotoImage(file=\"images/rock.png\")\n",
    "paper_image = PhotoImage(file=\"images/paper.png\")\n",
    "scissors_image = PhotoImage(file=\"images/scissors.png\")\n",
    "\n",
    "# 교재 오타!!\n",
    "def pass_s():\n",
    "    decide(\"가위\")\n",
    "def pass_r():\n",
    "    decide(\"바위\")\n",
    "def pass_p():\n",
    "    decide(\"보\")\n",
    "\n",
    "rock = Button(frame, image=rock_image, command=pass_r)\n",
    "rock.pack(side=\"left\")\n",
    "paper = Button(frame, image=paper_image, command=pass_p)\n",
    "paper.pack(side=\"left\")\n",
    "scissors = Button(frame, image=scissors_image, command=pass_s)\n",
    "scissors.pack(side=\"left\")\n",
    "\n",
    "frame.pack()\n",
    "Label(window, text=\"컴퓨터는 다음을 선택하였습니다.\", font=(\"Helvetica\", \"16\")).pack()\n",
    "\n",
    "computer_image = Label(window, image=rock_image)\n",
    "computer_image.pack()\n",
    "output = Label(window, text=\"\", font=(\"Helvetica\", \"16\"))\n",
    "output.pack()\n",
    "\n",
    "def decide(human):\n",
    "    computer = random.choice([\"가위\", \"바위\", \"보\"])\n",
    "    if   computer == \"바위\":\n",
    "        computer_image[\"image\"] = rock_image\n",
    "    elif   computer == \"보\":\n",
    "        computer_image[\"image\"] = paper_image\n",
    "    else:\n",
    "        computer_image[\"image\"] = scissors_image\n",
    "\n",
    "    if   (computer == \"바위\" and human == \"보\") or (computer == \"보\" and human == \"가위\")\\\n",
    "            or (computer == \"가위\" and human == \"바위\"):\n",
    "        result = \"인간 승리!\"\n",
    "    elif   computer == human:\n",
    "        result = \"비겼습니다.\"\n",
    "    else:\n",
    "        result = \"컴퓨터 승리!\"\n",
    "    output.config(text=\"인간: \" + human + \"   컴퓨터:\" + computer + \"    \" + result)\n",
    "\n",
    "\n",
    "window.mainloop()\n"
   ]
  },
  {
   "cell_type": "code",
   "execution_count": null,
   "metadata": {},
   "outputs": [],
   "source": [
    "from tkinter import *\n",
    "\n",
    "# i번째 버튼을 누를 수 있는지 검사한다. 누를 수 있으면 X나 O를 표시한다. \n",
    "def checked(i):\n",
    "    global player\n",
    "    button = list[i]\t# 리스트에서 I번째 버튼 객체를 가져온다. \n",
    "\n",
    "\t  # 버튼이 초기상태가 아니면 이미 누른 버튼이므로 아무것도 하지 않고 리턴한다.\n",
    "    if button[\"text\"] != \"            \":\n",
    "        return\n",
    "    button[\"text\"] = \"     \" + player+\"      \"\n",
    "    button[\"bg\"] = \"yellow\"\n",
    "    if player==\"X\":\n",
    "        player = \"O\"\n",
    "        button[\"bg\"] = \"yellow\"\n",
    "    else :\n",
    "        player = \"X\"\n",
    "        button[\"bg\"] = \"lightgreen\"\n",
    "\n",
    "\n",
    "window = Tk()\t\t# 윈도우를 생성한다.  \n",
    "player=\"X\"\t\t# 시작은 플레이어 X이다. \n",
    "list = []\n",
    "\n",
    "# 9개의 버튼을 생성하여 격자 형태로 윈도우에 배치한다. \n",
    "for i in range(9):\n",
    "    b = Button(window, text=\"            \", command=lambda k=i: checked(k))\n",
    "    b.grid(row=i//3, column=i%3)\n",
    "    list.append(b)\t# 버튼 객체를 리스트에 저장한다. \n",
    "\n",
    "window.mainloop()"
   ]
  },
  {
   "cell_type": "markdown",
   "metadata": {},
   "source": [
    "![TIC-TAC-TOE 게임](images/9_P438.png)"
   ]
  },
  {
   "cell_type": "markdown",
   "metadata": {},
   "source": [
    "## 도전문제: \n",
    "- 현재 게임 상태를 판단하는 함수를 추가하라.\n",
    "- 비겼는지, 누가 이겼는지 판단"
   ]
  },
  {
   "cell_type": "markdown",
   "metadata": {},
   "source": [
    "##  연습문제: 배치 관리자 사용하기\n",
    "> 격자 배치 관리자를 사용하여 레이블과 버튼을 배치한다. 색상의 개수만큼 반복하면서 레이블과 버튼을 생성하고 격자형태로 배치"
   ]
  },
  {
   "cell_type": "code",
   "execution_count": null,
   "metadata": {},
   "outputs": [],
   "source": [
    "from tkinter import *\n",
    "\n",
    "window = Tk()\n",
    "colors = ['green', 'red', 'orange','white','yellow','blue']\n",
    "\n",
    "# relief=RIDGE : 약간의 3차원 효과\n",
    "r = 0\n",
    "for c in colors:\n",
    "    Label(window, text=c, relief=RIDGE, width=15).grid(row=r, column=0)\n",
    "    Button(window, bg=c, width=10).grid(row=r, column=1)\n",
    "    r = r + 1\n",
    "\n",
    "window.mainloop()"
   ]
  },
  {
   "cell_type": "markdown",
   "metadata": {},
   "source": [
    "![배치관리자사용하기](images/9_P441.png)"
   ]
  },
  {
   "cell_type": "markdown",
   "metadata": {},
   "source": [
    "##  연습문제: 스톱워치 만들기\n",
    "> 레이블을 사용하여 간단한 스톱워치를 작성하여 보자. 시작 버튼을 누르면 시작되고 중지 버튼을 누르면 스톱워치가 중지된다. \n",
    "![스톱워치만들기](images/9_P442.png)"
   ]
  },
  {
   "cell_type": "code",
   "execution_count": null,
   "metadata": {},
   "outputs": [],
   "source": [
    "import tkinter as tk\n",
    "import time\n",
    "\n",
    "def startTimer():\n",
    "    if (running):\n",
    "        global timer    # 전역변수\n",
    "#        time.sleep(1)\n",
    "        timer += 1\n",
    "        timeText.configure(text=str(timer))\n",
    "    window.after(10, startTimer)    # 10ms 후에 startTime()가 호출되도록한다.\n",
    "\n",
    "def start():\n",
    "    global running\n",
    "    running = True\n",
    "\n",
    "def stop():\n",
    "    global running\n",
    "    running = False\n",
    "\n",
    "running = False\n",
    "\n",
    "window = tk.Tk()\n",
    "\n",
    "timer = 0\n",
    "\n",
    "timeText = tk.Label(window, text=\"0\", font=(\"Helvetica\", 80))\n",
    "timeText.pack()\n",
    "\n",
    "startButton = tk.Button(window, text='시작', bg=\"yellow\", command=start)\n",
    "startButton.pack(fill=tk.BOTH)\n",
    "\n",
    "stopButton = tk.Button(window, text='중지', bg=\"yellow\", command=stop)\n",
    "stopButton.pack(fill=tk.BOTH)\n",
    "\n",
    "startTimer()\n",
    "window.mainloop()"
   ]
  },
  {
   "cell_type": "markdown",
   "metadata": {},
   "source": [
    "## 연습문제: 계산기 만들기\n",
    "> 버튼을 가지는 계산기를 작성하여 보자. 적절한 배치 관리자를 선택하여 사용하라. \n",
    "![계산기만들기](images/9_P444.png)"
   ]
  },
  {
   "cell_type": "code",
   "execution_count": null,
   "metadata": {},
   "outputs": [],
   "source": [
    "from tkinter import *\n",
    "\n",
    "def click(key):\n",
    "    if key == '=':\t\t# “=” 버튼이면 수식을 계산하여 결과를 표시한다.\n",
    "        try:\n",
    "            result = eval(entry.get())\n",
    "            entry.delete(0, END) \n",
    "            entry.insert(END, str(result))\n",
    "        except:\n",
    "            entry.insert(END, \"오류!\")\n",
    "    elif key == 'C':\n",
    "        entry.delete(0, END) \n",
    "    else:\n",
    "        entry.insert(END, key)\n",
    "\n",
    "window = Tk()\n",
    "window.title(\"간단한 계산기\")\n",
    "\n",
    "buttons = [\n",
    "'7',  '8',  '9',  '+',  'C',\n",
    "'4',  '5',  '6',  '-',  '  ',\n",
    "'1',  '2',  '3',  '*',  '  ',\n",
    "'0',  '.',  '=',  '/',  '   ' ]\n",
    "\n",
    "# 반복문으로 버튼을 생성한다.\n",
    "i=0\n",
    "for b in buttons:\n",
    "    cmd = lambda x=b: click(x)\n",
    "    b = Button(window,text=b,width=5,relief='ridge',command=cmd)\n",
    "    b.grid(row=i//5+1,column=i%5)\n",
    "    i += 1\n",
    "\n",
    "# 엔트리 위젯은 맨 윗줄의 5개의 셀에 걸쳐서 배치된다. \n",
    "entry = Entry(window, width=33, bg=\"yellow\")\n",
    "entry.grid(row=0, column=0, columnspan=5)\n",
    "\n",
    "window.mainloop()"
   ]
  },
  {
   "cell_type": "markdown",
   "metadata": {},
   "source": [
    "# 11. 이벤트 처리\n",
    "- 이벤트 구동방식\n",
    "![이벤트처리](images/9_P446_1.png)\n",
    "![이벤트처리](images/9_P446_2.png)\n",
    "\n",
    "- 이벤트 지정자의 이벤트가 발생하면 이벤트처리함수가 호출"
   ]
  },
  {
   "cell_type": "code",
   "execution_count": null,
   "metadata": {},
   "outputs": [],
   "source": [
    "window = Tk()\n",
    "\n",
    "def callback(event):\n",
    "    print(event.x, event.y, \"에서 마우스 이벤트 발생\")\n",
    "\n",
    "frame = Frame(window, width=100, height=100)\n",
    "frame.bind(\"<Button-1>\", callback)\n",
    "frame.pack()\n",
    "\n",
    "window.mainloop()"
   ]
  },
  {
   "cell_type": "markdown",
   "metadata": {},
   "source": [
    "![이벤트처리](images/9_P447.png)"
   ]
  },
  {
   "cell_type": "code",
   "execution_count": null,
   "metadata": {},
   "outputs": [],
   "source": [
    "from tkinter import *\n",
    "\n",
    "window = Tk()\n",
    "\n",
    "def key(event):\n",
    "    print ( repr(event.char), \"가 눌렸습니다. \")\n",
    "\n",
    "def callback(event):\n",
    "    frame.focus_set()    # 원하는 위젯으로 포커스를 이동\n",
    "    print(event.x, event.y, \"에서 마우스 이벤트 발생\")\n",
    "\n",
    "frame = Frame(window, width=100, height=100)\n",
    "frame.bind(\"<Key>\", key)\n",
    "frame.bind(\"<Button-1>\", callback)\n",
    "frame.pack()\n",
    "\n",
    "window.mainloop()"
   ]
  },
  {
   "cell_type": "markdown",
   "metadata": {},
   "source": [
    "## 11.1 이벤트 지정자\n",
    "![이벤트지정자](images/9_P448.png)\n",
    "- Button-1: 마우스 왼쪽버튼, Button-2: 마우스 중간버튼, Button-2: 마우스 오른쪽버튼\n",
    "- B1-Motion: 마우스 왼쪽버튼이 눌러진 채로 움직임 발생\n",
    "- ButtonRelease-1: 마우스 왼쪽버튼에서 손을 뗄 때 발생\n",
    "- Double-Button-1: 마우스 왼쪽버튼 double click\n",
    "- Enter: 마우스 포인터가 위젯으로 진입\n",
    "- Leave: 마우스 포인터가 위젯에서 나감\n",
    "- FocusIn: 키보드 포커스가 현재의 위젯으로 이동\n",
    "- FocusOut: 키보드 포커스가 현재의 위젯에서 다른 위젯으로 이동\n",
    "- Return, Cancel, BackSpace, Tab, Shift_L, Control_L, Alt_L: 해당 키 입력\n",
    "- Key: 어떤 키라도 입력\n",
    "- a: 사용자가 \"a\" key를 입력\n",
    "- Shift-Up, Control-Up, Alt-Up: Shift/Control/Alt 키를 누른 상ㄹ태에서 위쪽화살표 키 누름\n",
    "- Configure: 위젯의 크기/위치/플랫폼을 변경"
   ]
  },
  {
   "cell_type": "markdown",
   "metadata": {},
   "source": [
    "## 11.2 마우스 버튼 이벤트 처리"
   ]
  },
  {
   "cell_type": "code",
   "execution_count": null,
   "metadata": {},
   "outputs": [],
   "source": [
    "from tkinter import *\n",
    "\n",
    "def sleft(event):\n",
    "    print(\"단일 클릭, 왼쪽 버튼\") \n",
    "def dleft(event):                           \n",
    "    print(\"더블 클릭, 왼쪽 버튼\") \n",
    "\n",
    "widget = Button(None, text='마우스 클릭')\n",
    "widget.pack()\n",
    "\n",
    "widget.bind('<Button-1>', sleft)\n",
    "widget.bind('<Double-1>', dleft) \n",
    "\n",
    "widget.mainloop()"
   ]
  },
  {
   "cell_type": "markdown",
   "metadata": {},
   "source": [
    "## 11.3 마우스 모션 이벤트 처리"
   ]
  },
  {
   "cell_type": "code",
   "execution_count": null,
   "metadata": {},
   "outputs": [],
   "source": [
    "from tkinter import *\n",
    "\n",
    "def motion(event):\n",
    "  print(\"마우스 위치: (%s %s)\" % (event.x, event.y))\n",
    "  return\n",
    "\n",
    "window = Tk()\n",
    "message = \"\"\"당신 스스로가 하지 않으면\n",
    "아무도 당신의 운명을 \n",
    "개선시켜주지 않을 것이다. \"\"\"\n",
    "\n",
    "msg = Message(window, text = message)\n",
    "msg.config(bg='yellow',fg='blue',  font=\"times 20 italic\")\n",
    "msg.bind('<Motion>',motion)\n",
    "msg.pack()\n",
    "window.mainloop()"
   ]
  },
  {
   "cell_type": "markdown",
   "metadata": {},
   "source": [
    "## 연습문제: 숫자 추측 게임\n",
    "> 사용자가 컴퓨터가 생성한 숫자(1부터 100사이의 난수)를 알아맞히는 게임을 그래픽 사용자 인터페이스를 사용하여 제작해보자. \n",
    "![숫자 추측 게임](images/9_P452.png)"
   ]
  },
  {
   "cell_type": "code",
   "execution_count": null,
   "metadata": {},
   "outputs": [],
   "source": [
    "from tkinter import *\n",
    "import random\n",
    "\n",
    "answer = random.randint(1,100)\n",
    "\n",
    "def guessing():\n",
    "\tguess = int(guessField.get())\n",
    "\n",
    "\tif guess > answer:\n",
    "\t\tmsg = \"높음!\"\n",
    "\telif guess < answer:\n",
    "\t\tmsg = \"낮음!\"\n",
    "\telse:\n",
    "\t\tmsg = \"정답!\"\n",
    "\t\t\n",
    "\tresultLabel[\"text\"] = msg\n",
    "\tguessField.delete(0, 5)\n",
    "\n",
    "def reset():\n",
    "\tglobal answer\n",
    "\tanswer = random.randint(1,100)\n",
    "\tresultLabel[\"text\"] = \"다시 한번 하세요!\"\n",
    "\n",
    "window = Tk()\n",
    "window.configure(bg=\"white\")\n",
    "window.title(\"숫자를 맞춰보세요!\")\n",
    "window.geometry(\"500x80\")\n",
    "\n",
    "titleLabel = Label(window, text=\"숫자 게임에 오신 것을 환영합니다!\", bg=\"white\")\n",
    "titleLabel.pack()\n",
    "\n",
    "\n",
    "guessField = Entry(window)\n",
    "guessField.pack(side=\"left\")\n",
    "tryButton = Button(window, text=\"시도\", fg=\"green\", bg=\"white\", command=guessing )\n",
    "tryButton.pack(side=\"left\")\n",
    "\n",
    "resetButton = Button(window, text=\"초기화\", fg=\"red\", bg=\"white\", command=reset)\n",
    "resetButton.pack(side=\"left\")\n",
    "resultLabel = Label(window, text=\"1부터 100사이의 숫자를 입력하시오.\", bg=\"white\") \n",
    "resultLabel.pack(side=\"left\")\n",
    "\n",
    "window.mainloop()"
   ]
  },
  {
   "cell_type": "markdown",
   "metadata": {},
   "source": [
    "## 도전문제\n",
    "> 숫자 맞추기 게임의 역할을 반대로.\n",
    "\n",
    "> 사용자가 생각한 숫자(1부터 100사이의 숫자)ㄹ르 컴퓨터가 맞히는 게임 "
   ]
  },
  {
   "cell_type": "markdown",
   "metadata": {},
   "source": [
    "## 연습문제: 패스워드 시스템\n",
    "> ID와 password를 입력하는 윈도우"
   ]
  },
  {
   "cell_type": "code",
   "execution_count": null,
   "metadata": {},
   "outputs": [],
   "source": [
    "from tkinter import *\n",
    "\n",
    "def print_fields():\n",
    "   print(\"아이디: %s\\n패스워드: %s\" % (e1.get(), e2.get()))\n",
    "\n",
    "window = Tk()\n",
    "Label(window, text=\"아이디\").grid(row=0)\n",
    "Label(window, text=\"패스워드\").grid(row=1)\n",
    "\n",
    "e1 = Entry(window)\n",
    "e2 = Entry(window)\n",
    "\n",
    "e1.grid(row=0, column=1)\n",
    "e2.grid(row=1, column=1)\n",
    "\n",
    "Button(window, text='로그인', command=print_fields).grid(row=3, column=0, sticky=W, pady=4)\n",
    "Button(window, text='취소 ', command=window.quit).grid(row=3, column=1, sticky=W, pady=4)\n",
    "\n",
    "mainloop( )"
   ]
  },
  {
   "cell_type": "markdown",
   "metadata": {},
   "source": [
    "## 도전문제\n",
    "> password 입력시 \"*\" 표시"
   ]
  },
  {
   "cell_type": "markdown",
   "metadata": {
    "collapsed": true,
    "jupyter": {
     "outputs_hidden": true
    }
   },
   "source": [
    "# LAB. 공 animation 1\n",
    "- 객체 지향 기법 class\n",
    "- 클래스를 사용하여 공이 움직이는 애니메이션\n",
    "- 공의 개수를 마음대로 늘릴 수 있으면 공의 다양한 속성(크기, 색상, 속도)등도 자유롭게 표현"
   ]
  },
  {
   "cell_type": "code",
   "execution_count": null,
   "metadata": {
    "ExecuteTime": {
     "end_time": "2022-10-17T11:31:55.533432Z",
     "start_time": "2022-10-17T11:31:35.222229Z"
    }
   },
   "outputs": [],
   "source": [
    "from tkinter import *\n",
    "import time\n",
    "import random\n",
    "\n",
    "window = Tk()\n",
    "\n",
    "canvas=Canvas(window, width=600,height=400)\n",
    "canvas.pack()\n",
    "\n",
    "class Ball():\n",
    "    def __init__(self,color,size):    \n",
    "        self.id=canvas.create_oval(0, 0, size, size,fill=color)\n",
    "        self.dx=random.randint(1,10)\n",
    "        self.dy=random.randint(1,10)\n",
    "\n",
    "    def move(self):\n",
    "        canvas.move(self.id,self.dx,self.dy)\n",
    "        x0, y0, x1, y1 = canvas.coords(self.id)\n",
    "        if y1 > canvas.winfo_height() or y0 < 0: # 원이 위쪽이나 아래쪽으로 벗어났으면\n",
    "            self.dy = -self.dy\t\t\t\t# dy의 부호를 반전시킨다. \n",
    "        if x1 > canvas.winfo_width() or x0 < 0:\t# 원이 왼쪽이나 오른쪽으로 벗어났으면\n",
    "            self.dx = -self.dx\t\t\t\t# dx의 부호를 반전시킨다. \n",
    "\n",
    "ball1=Ball(\"blue\", 60)\n",
    "ball2=Ball(\"green\",100)\n",
    "ball3=Ball(\"orange\",80)\n",
    "\n",
    "while True:\n",
    "    ball1.move()\n",
    "    ball2.move()\n",
    "    ball3.move()\n",
    "    window.update()\n",
    "    time.sleep(0.05)\n",
    "\n",
    "window.mainloop()\n"
   ]
  },
  {
   "cell_type": "markdown",
   "metadata": {},
   "source": [
    "# LAB. 공 animation 2\n",
    "- 공을 30개 정도 만들어서 움직이는 애니메이션\n",
    "- 리스트를 생성하고 리스트에 객체를 저장"
   ]
  },
  {
   "cell_type": "code",
   "execution_count": null,
   "metadata": {
    "ExecuteTime": {
     "end_time": "2022-10-17T11:34:38.090498Z",
     "start_time": "2022-10-17T11:34:14.294395Z"
    }
   },
   "outputs": [],
   "source": [
    "from tkinter import *\n",
    "import time\n",
    "import random\n",
    "\n",
    "window = Tk()\n",
    "\n",
    "canvas=Canvas(window, width=600,height=400)\n",
    "canvas.pack()\n",
    "\n",
    "class Ball():\n",
    "    def __init__(self,color,size):    \n",
    "        self.id=canvas.create_oval(0, 0, size, size,fill=color)\n",
    "        self.dx=random.randint(1,10)\n",
    "        self.dy=random.randint(1,10)\n",
    "\n",
    "    def move(self):\n",
    "        canvas.move(self.id,self.dx,self.dy)\n",
    "        x0, y0, x1, y1 = canvas.coords(self.id)\n",
    "        if y1 > canvas.winfo_height() or y0 < 0: # 원이 위쪽이나 아래쪽으로 벗어났으면\n",
    "            self.dy = -self.dy\t\t\t\t# dy의 부호를 반전시킨다. \n",
    "        if x1 > canvas.winfo_width() or x0 < 0:\t# 원이 왼쪽이나 오른쪽으로 벗어났으면\n",
    "            self.dx = -self.dx\t\t\t\t# dx의 부호를 반전시킨다. \n",
    "\n",
    "colors = [\"red\", \"orange\", \"yellow\", \"green\", \"blue\", \"indigo\", \"violet\"]\n",
    "ballList = []\n",
    "for i in range(30):\n",
    "    ballList.append(Ball(random.choice(colors), random.randint(1, 60)))\n",
    "\n",
    "while True:\n",
    "    for i in range(30):\n",
    "        ballList[i].move()\n",
    "    window.update()\n",
    "    time.sleep(0.01)\n",
    "\n",
    "window.mainloop()\n"
   ]
  }
 ],
 "metadata": {
  "anaconda-cloud": {},
  "hide_input": false,
  "kernelspec": {
   "display_name": "Python 3 (ipykernel)",
   "language": "python",
   "name": "python3"
  },
  "language_info": {
   "codemirror_mode": {
    "name": "ipython",
    "version": 3
   },
   "file_extension": ".py",
   "mimetype": "text/x-python",
   "name": "python",
   "nbconvert_exporter": "python",
   "pygments_lexer": "ipython3",
   "version": "3.11.7"
  },
  "toc": {
   "base_numbering": 1,
   "nav_menu": {},
   "number_sections": false,
   "sideBar": true,
   "skip_h1_title": false,
   "title_cell": "Table of Contents",
   "title_sidebar": "Contents",
   "toc_cell": false,
   "toc_position": {},
   "toc_section_display": true,
   "toc_window_display": true
  },
  "varInspector": {
   "cols": {
    "lenName": 16,
    "lenType": 16,
    "lenVar": 40
   },
   "kernels_config": {
    "python": {
     "delete_cmd_postfix": "",
     "delete_cmd_prefix": "del ",
     "library": "var_list.py",
     "varRefreshCmd": "print(var_dic_list())"
    },
    "r": {
     "delete_cmd_postfix": ") ",
     "delete_cmd_prefix": "rm(",
     "library": "var_list.r",
     "varRefreshCmd": "cat(var_dic_list()) "
    }
   },
   "types_to_exclude": [
    "module",
    "function",
    "builtin_function_or_method",
    "instance",
    "_Feature"
   ],
   "window_display": false
  }
 },
 "nbformat": 4,
 "nbformat_minor": 4
}
