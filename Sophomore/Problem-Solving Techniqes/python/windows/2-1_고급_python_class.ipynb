{
 "cells": [
  {
   "cell_type": "markdown",
   "id": "bccac6f1",
   "metadata": {},
   "source": [
    "- https://wikidocs.net/8229\n",
    "\n",
    "# 객체지향프로그래밍\n",
    "- OOP(object-oriented programming): 소프트웨어도 객체로 구성하는 방법\n",
    "- 객체들은 객체 나름대로 고유한 기능을 수행하면서 다른 객체들과 메시지를 통하여 상호 작용\n",
    "\n",
    "![OOP](/images/OOP.png)"
   ]
  },
  {
   "cell_type": "markdown",
   "id": "de179804",
   "metadata": {},
   "source": [
    "## 절차 지향과 객체 지향 차이\n",
    "- 절차 지향 프로그래밍(procedural programming): 프로시저(procedure)를 기반으로 하는 프로그래밍.\n",
    "- 객체 지향 프로그래밍: 데이터와 함수를 하나의 덩어리로 묶어서 생각하는 방법\n",
    "\n",
    "![OOP비교](../images/OOP비교.png)"
   ]
  },
  {
   "cell_type": "markdown",
   "id": "52bdeee4",
   "metadata": {},
   "source": [
    "## 클래스와 객체\n",
    "- **객체**: \n",
    "    - 현실세계의 사물 또는 개념\n",
    "    - 속성(attribute와 행동(action)으로 구성\n",
    "    - 속성은 변수로, 행동은 함수로 정의\n",
    "    \n",
    "![객체_속성_행동](../images/자동차객체.png)\n",
    "\n",
    "- **클래스(class)**\n",
    "    - 객체를 설계하는 설계도, 특정한 종류의 객체들을 찍어내는 형틀(template) 혹은 청사진(blueprint)\n",
    "    - 객체가 가져야 할 기본 정보를 담은 코드\n",
    "    - 인스턴스(instance): 클래스로부터 만들어지는 객체\n",
    "\n",
    "![class_instance](../images/class_instance.png)"
   ]
  },
  {
   "cell_type": "markdown",
   "id": "1314a887",
   "metadata": {},
   "source": [
    "# 클래스 구현\n",
    "\n",
    "![클래스선언](../images/그림10-3_p332.png)\n",
    "\n",
    "- 상속: 기존에 만든 클래스의 특징을 이어받음(**재사용성**)\n",
    "- 클래스 이름 작명: CamelCase(첫글자와 중간글자가 대문자)"
   ]
  },
  {
   "cell_type": "markdown",
   "id": "61b55738",
   "metadata": {},
   "source": [
    "## 속성의 선언\n",
    "- \\_\\_init\\_\\_(): \n",
    "    - 클래스에서 사용할 변수를 정의\n",
    "    - self변수: 인스턴스에 접근하는 예약어\n",
    "\n",
    "![image.png](../images/class_속성_P333.png)"
   ]
  },
  {
   "cell_type": "markdown",
   "id": "447de0cd",
   "metadata": {},
   "source": [
    "## 함수의 선언\n",
    "\n",
    "![class_함수](../images/class_함수선언_P334.png)\n",
    "\n",
    "- self가 있어야만 실제로 인스턴스가 사용할 수 있는 함수로 선언된다"
   ]
  },
  {
   "cell_type": "markdown",
   "id": "189da1dc",
   "metadata": {},
   "source": [
    "## 클래스 \\_\\_ (dunder:double under) 명명법\n",
    "    - 특수한 예약 함수나 변수\n",
    "    - 연산자 오버로딩\n",
    "    - __init__메소드는 생성자: 초기화할때 호출되는 함수, 클래스의 인스턴스가 생성될때 실행\n",
    "    - __repr__ 메소드: 객체가 가진 정보를 한 줄의 문자열로 만들어 반환\n",
    "    - __str__ 메소드: 객체의 문자열 표현을 반환"
   ]
  },
  {
   "cell_type": "code",
   "execution_count": 2,
   "id": "3688c01c",
   "metadata": {
    "ExecuteTime": {
     "end_time": "2022-10-20T01:44:24.266870Z",
     "start_time": "2022-10-20T01:44:24.255873Z"
    }
   },
   "outputs": [
    {
     "name": "stdout",
     "output_type": "stream",
     "text": [
      "2022-10-20 10:44:24.256868\n",
      "datetime.datetime(2022, 10, 20, 10, 44, 24, 256868)\n"
     ]
    }
   ],
   "source": [
    "import datetime\n",
    "today = datetime.datetime.now()\n",
    "print(str(today))\n",
    "print(repr(today))"
   ]
  },
  {
   "cell_type": "markdown",
   "id": "e2c4f34b",
   "metadata": {},
   "source": [
    "# 인스턴스 호출\n",
    "\n",
    "![인스턴스호출](../images/그림10-4_p336.png)"
   ]
  },
  {
   "cell_type": "code",
   "execution_count": null,
   "id": "7d65eaad",
   "metadata": {
    "ExecuteTime": {
     "end_time": "2022-10-16T14:36:31.338264Z",
     "start_time": "2022-10-16T14:36:31.320265Z"
    }
   },
   "outputs": [],
   "source": [
    "#전체 SoccerPlayer 코드\n",
    "class SoccerPlayer(object):\n",
    "    def __init__(self, name, position, back_number):\n",
    "        self.name = name\n",
    "        self.position = position\n",
    "        self.back_number = back_number\n",
    "    def change_back_number(self, new_number):\n",
    "        print(\"선수의 등번호를 변경한다: From %d to %d\" % (self.back_number, new_number))\n",
    "        self.back_number = new_number\n",
    "    def __str__(self):\n",
    "        return \"Hello, My name is %s. I play in %s in center.\" % (self.name, self.position)\n",
    "\n",
    "# SoccerPlayer를 사용하는 instance 코드\n",
    "jinhyun = SoccerPlayer(\"Jinhyun\", \"MF\", 10)\n",
    "\n",
    "print(\"현재 선수의 등번호는:\", jinhyun.back_number)\n",
    "jinhyun.change_back_number(5)\n",
    "print(\"현재 선수의 등번호는:\", jinhyun.back_number)\n",
    "print(jinhyun)   # __str__ 메소드 실행"
   ]
  },
  {
   "cell_type": "markdown",
   "id": "5145e91f",
   "metadata": {},
   "source": [
    "# Lab. 노트북 프로그램 만들기\n",
    "\n",
    "![class_lab](../images/class_lab_P340.png)\n",
    "\n",
    "- 노트북 객체\n",
    "![노트북객체](../images/표10-3_p341.png)"
   ]
  },
  {
   "cell_type": "markdown",
   "id": "f4c72e3f",
   "metadata": {},
   "source": [
    "## Note 객체\n",
    "- note_class.py"
   ]
  },
  {
   "cell_type": "code",
   "execution_count": null,
   "id": "803ec793",
   "metadata": {
    "ExecuteTime": {
     "end_time": "2022-10-16T15:02:06.020711Z",
     "start_time": "2022-10-16T15:02:06.007713Z"
    }
   },
   "outputs": [],
   "source": [
    "class Note(object):\n",
    "    def __init__(self, contents = None):\n",
    "        self.contents = contents\n",
    "\n",
    "    def write_contents(self, contents):\n",
    "        self.contents = contents\n",
    "\n",
    "    def remove_all(self):\n",
    "        self.contents = \"\"\n",
    "\n",
    "    def __str__(self):\n",
    "        return self.contents"
   ]
  },
  {
   "cell_type": "markdown",
   "id": "bcbb5126",
   "metadata": {},
   "source": [
    "## Notebook 객체\n",
    "- notebook.py"
   ]
  },
  {
   "cell_type": "code",
   "execution_count": 8,
   "id": "14aba2bc",
   "metadata": {
    "ExecuteTime": {
     "end_time": "2022-11-02T00:51:47.117632Z",
     "start_time": "2022-11-02T00:51:47.099636Z"
    }
   },
   "outputs": [],
   "source": [
    "import pdb \n",
    "class Note(object):\n",
    "    def __init__(self, contents):\n",
    "        self.contents = contents\n",
    "\n",
    "    def get_number_of_lines(self):\n",
    "        return self.contents.count(\"\\n\")\n",
    "\n",
    "    def get_number_of_characters(self):\n",
    "        return len(self.contents)\n",
    "\n",
    "    def remove(self):\n",
    "        self.contents = \"삭제된 노트입니다.\"\n",
    "\n",
    "    def __str__(self):\n",
    "        return self.contents\n",
    "\n",
    "\n",
    "class NoteBook(object):\n",
    "    def __init__(self, name):\n",
    "        self.name = name\n",
    "        self.pages = 0\n",
    "        self.notes = {}    # dictionary\n",
    "\n",
    "    def add_note(self, note, page_number=0):\n",
    "        if len(self.notes.keys()) < 300:\n",
    "            pdb.set_trace()\n",
    "            if page_number == 0:\n",
    "                if self.pages < 301:\n",
    "                    self.notes[self.pages] = note\n",
    "                    self.pages += 1\n",
    "                else:\n",
    "                    for i in range(300):\n",
    "                        if i not in list(self.notes.keys()):\n",
    "                            self.notes[self.pages] = note\n",
    "            else:\n",
    "                if page_number not in self.notes.keys():\n",
    "                    self.notes[page_number] = note\n",
    "                else:\n",
    "                    print(\"해당 페이지 %d에는 이미 노트가 존재합니다.\" %page_number)\n",
    "        else:\n",
    "            print(\"더 이상 노트를 추가하지 못합니다.\")\n",
    "\n",
    "    def remove_note(self, page_number):\n",
    "        del self.notes[page_number]\n",
    "\n",
    "    def get_number_of_all_lines(self):\n",
    "        result = 0\n",
    "        for k in self.notes.keys():\n",
    "            result += self.notes[k].get_number_of_lines()\n",
    "        return result\n",
    "\n",
    "    def get_number_of_all_characters(self):\n",
    "        result = 0\n",
    "        for k in self.notes.keys():\n",
    "            result += self.notes[k].get_number_of_characters()\n",
    "        return result\n",
    "\n",
    "    def get_number_of_all_pages(self):\n",
    "        return len(self.notes.keys())\n",
    "\n",
    "    def __str__(self):\n",
    "        return self.name"
   ]
  },
  {
   "cell_type": "markdown",
   "id": "6190dadd",
   "metadata": {},
   "source": [
    "## 노트북 프로그램 사용예"
   ]
  },
  {
   "cell_type": "code",
   "execution_count": 9,
   "id": "f52a63b2",
   "metadata": {
    "ExecuteTime": {
     "end_time": "2022-11-02T01:37:09.384924Z",
     "start_time": "2022-11-02T00:51:49.600357Z"
    }
   },
   "outputs": [
    {
     "name": "stdout",
     "output_type": "stream",
     "text": [
      "세상사는 데 도움이 되는 명언, 힘이 되는 명언, 용기를 주는 명언, 위로가 되는 명언, 좋은 명언 모음 100가지. 자주 보면 좋을 것 같아서 선별했습니다.\n",
      "> \u001b[1;32mc:\\users\\okcy\\appdata\\local\\temp\\ipykernel_10080\\2814873411.py\u001b[0m(28)\u001b[0;36madd_note\u001b[1;34m()\u001b[0m\n",
      "\n",
      "ipdb> page_number\n",
      "0\n",
      "ipdb> c\n",
      "pages수:  1\n",
      "> \u001b[1;32mc:\\users\\okcy\\appdata\\local\\temp\\ipykernel_10080\\2814873411.py\u001b[0m(28)\u001b[0;36madd_note\u001b[1;34m()\u001b[0m\n",
      "\n",
      "ipdb> page_number\n",
      "0\n",
      "ipdb> notes\n",
      "*** NameError: name 'notes' is not defined\n",
      "ipdb> note\n",
      "<__main__.Note object at 0x000001A54F94EE20>\n",
      "ipdb> print(note)\n",
      "삶이 있는 한 희망은 있다. - 키케로 \n",
      "ipdb> n\n",
      "> \u001b[1;32mc:\\users\\okcy\\appdata\\local\\temp\\ipykernel_10080\\2814873411.py\u001b[0m(29)\u001b[0;36madd_note\u001b[1;34m()\u001b[0m\n",
      "\n",
      "ipdb> n\n",
      "> \u001b[1;32mc:\\users\\okcy\\appdata\\local\\temp\\ipykernel_10080\\2814873411.py\u001b[0m(30)\u001b[0;36madd_note\u001b[1;34m()\u001b[0m\n",
      "\n",
      "ipdb> l\n",
      "\u001b[0;32m     25 \u001b[0m    \u001b[1;32mdef\u001b[0m \u001b[0madd_note\u001b[0m\u001b[1;33m(\u001b[0m\u001b[0mself\u001b[0m\u001b[1;33m,\u001b[0m \u001b[0mnote\u001b[0m\u001b[1;33m,\u001b[0m \u001b[0mpage_number\u001b[0m\u001b[1;33m=\u001b[0m\u001b[1;36m0\u001b[0m\u001b[1;33m)\u001b[0m\u001b[1;33m:\u001b[0m\u001b[1;33m\u001b[0m\u001b[1;33m\u001b[0m\u001b[0m\n",
      "\u001b[0;32m     26 \u001b[0m        \u001b[1;32mif\u001b[0m \u001b[0mlen\u001b[0m\u001b[1;33m(\u001b[0m\u001b[0mself\u001b[0m\u001b[1;33m.\u001b[0m\u001b[0mnotes\u001b[0m\u001b[1;33m.\u001b[0m\u001b[0mkeys\u001b[0m\u001b[1;33m(\u001b[0m\u001b[1;33m)\u001b[0m\u001b[1;33m)\u001b[0m \u001b[1;33m<\u001b[0m \u001b[1;36m300\u001b[0m\u001b[1;33m:\u001b[0m\u001b[1;33m\u001b[0m\u001b[1;33m\u001b[0m\u001b[0m\n",
      "\u001b[0;32m     27 \u001b[0m            \u001b[0mpdb\u001b[0m\u001b[1;33m.\u001b[0m\u001b[0mset_trace\u001b[0m\u001b[1;33m(\u001b[0m\u001b[1;33m)\u001b[0m\u001b[1;33m\u001b[0m\u001b[1;33m\u001b[0m\u001b[0m\n",
      "\u001b[0;32m     28 \u001b[0m            \u001b[1;32mif\u001b[0m \u001b[0mpage_number\u001b[0m \u001b[1;33m==\u001b[0m \u001b[1;36m0\u001b[0m\u001b[1;33m:\u001b[0m\u001b[1;33m\u001b[0m\u001b[1;33m\u001b[0m\u001b[0m\n",
      "\u001b[0;32m     29 \u001b[0m                \u001b[1;32mif\u001b[0m \u001b[0mself\u001b[0m\u001b[1;33m.\u001b[0m\u001b[0mpages\u001b[0m \u001b[1;33m<\u001b[0m \u001b[1;36m301\u001b[0m\u001b[1;33m:\u001b[0m\u001b[1;33m\u001b[0m\u001b[1;33m\u001b[0m\u001b[0m\n",
      "\u001b[1;32m---> 30 \u001b[1;33m                    \u001b[0mself\u001b[0m\u001b[1;33m.\u001b[0m\u001b[0mnotes\u001b[0m\u001b[1;33m[\u001b[0m\u001b[0mself\u001b[0m\u001b[1;33m.\u001b[0m\u001b[0mpages\u001b[0m\u001b[1;33m]\u001b[0m \u001b[1;33m=\u001b[0m \u001b[0mnote\u001b[0m\u001b[1;33m\u001b[0m\u001b[1;33m\u001b[0m\u001b[0m\n",
      "\u001b[0m\u001b[0;32m     31 \u001b[0m                    \u001b[0mself\u001b[0m\u001b[1;33m.\u001b[0m\u001b[0mpages\u001b[0m \u001b[1;33m+=\u001b[0m \u001b[1;36m1\u001b[0m\u001b[1;33m\u001b[0m\u001b[1;33m\u001b[0m\u001b[0m\n",
      "\u001b[0;32m     32 \u001b[0m                \u001b[1;32melse\u001b[0m\u001b[1;33m:\u001b[0m\u001b[1;33m\u001b[0m\u001b[1;33m\u001b[0m\u001b[0m\n",
      "\u001b[0;32m     33 \u001b[0m                    \u001b[1;32mfor\u001b[0m \u001b[0mi\u001b[0m \u001b[1;32min\u001b[0m \u001b[0mrange\u001b[0m\u001b[1;33m(\u001b[0m\u001b[1;36m300\u001b[0m\u001b[1;33m)\u001b[0m\u001b[1;33m:\u001b[0m\u001b[1;33m\u001b[0m\u001b[1;33m\u001b[0m\u001b[0m\n",
      "\u001b[0;32m     34 \u001b[0m                        \u001b[1;32mif\u001b[0m \u001b[0mi\u001b[0m \u001b[1;32mnot\u001b[0m \u001b[1;32min\u001b[0m \u001b[0mlist\u001b[0m\u001b[1;33m(\u001b[0m\u001b[0mself\u001b[0m\u001b[1;33m.\u001b[0m\u001b[0mnotes\u001b[0m\u001b[1;33m.\u001b[0m\u001b[0mkeys\u001b[0m\u001b[1;33m(\u001b[0m\u001b[1;33m)\u001b[0m\u001b[1;33m)\u001b[0m\u001b[1;33m:\u001b[0m\u001b[1;33m\u001b[0m\u001b[1;33m\u001b[0m\u001b[0m\n",
      "\u001b[0;32m     35 \u001b[0m                            \u001b[0mself\u001b[0m\u001b[1;33m.\u001b[0m\u001b[0mnotes\u001b[0m\u001b[1;33m[\u001b[0m\u001b[0mself\u001b[0m\u001b[1;33m.\u001b[0m\u001b[0mpages\u001b[0m\u001b[1;33m]\u001b[0m \u001b[1;33m=\u001b[0m \u001b[0mnote\u001b[0m\u001b[1;33m\u001b[0m\u001b[1;33m\u001b[0m\u001b[0m\n",
      "\n",
      "ipdb> notes\n",
      "*** NameError: name 'notes' is not defined\n",
      "ipdb> self.notes\n",
      "{0: <__main__.Note object at 0x000001A54F94EDF0>}\n",
      "ipdb> self.notes.keys()\n",
      "dict_keys([0])\n",
      "ipdb> n\n",
      "> \u001b[1;32mc:\\users\\okcy\\appdata\\local\\temp\\ipykernel_10080\\2814873411.py\u001b[0m(31)\u001b[0;36madd_note\u001b[1;34m()\u001b[0m\n",
      "\n",
      "ipdb> self.notes.keys()\n",
      "dict_keys([0, 1])\n",
      "ipdb> self.pages\n",
      "1\n",
      "ipdb> q\n"
     ]
    },
    {
     "ename": "BdbQuit",
     "evalue": "",
     "output_type": "error",
     "traceback": [
      "\u001b[1;31m---------------------------------------------------------------------------\u001b[0m",
      "\u001b[1;31mBdbQuit\u001b[0m                                   Traceback (most recent call last)",
      "\u001b[1;32m~\\AppData\\Local\\Temp/ipykernel_10080/474849377.py\u001b[0m in \u001b[0;36m<module>\u001b[1;34m\u001b[0m\n\u001b[0;32m     19\u001b[0m \u001b[0mprint\u001b[0m\u001b[1;33m(\u001b[0m\u001b[1;34m\"pages수: \"\u001b[0m\u001b[1;33m,\u001b[0m \u001b[0mwise_saying_notebook\u001b[0m\u001b[1;33m.\u001b[0m\u001b[0mget_number_of_all_pages\u001b[0m\u001b[1;33m(\u001b[0m\u001b[1;33m)\u001b[0m\u001b[1;33m)\u001b[0m\u001b[1;33m\u001b[0m\u001b[1;33m\u001b[0m\u001b[0m\n\u001b[0;32m     20\u001b[0m \u001b[1;33m\u001b[0m\u001b[0m\n\u001b[1;32m---> 21\u001b[1;33m \u001b[0mwise_saying_notebook\u001b[0m\u001b[1;33m.\u001b[0m\u001b[0madd_note\u001b[0m\u001b[1;33m(\u001b[0m\u001b[0mnote_2\u001b[0m\u001b[1;33m)\u001b[0m\u001b[1;33m\u001b[0m\u001b[1;33m\u001b[0m\u001b[0m\n\u001b[0m\u001b[0;32m     22\u001b[0m \u001b[0mprint\u001b[0m\u001b[1;33m(\u001b[0m\u001b[1;34m\"pages수: \"\u001b[0m\u001b[1;33m,\u001b[0m \u001b[0mwise_saying_notebook\u001b[0m\u001b[1;33m.\u001b[0m\u001b[0mget_number_of_all_pages\u001b[0m\u001b[1;33m(\u001b[0m\u001b[1;33m)\u001b[0m\u001b[1;33m)\u001b[0m\u001b[1;33m\u001b[0m\u001b[1;33m\u001b[0m\u001b[0m\n\u001b[0;32m     23\u001b[0m \u001b[0mprint\u001b[0m\u001b[1;33m(\u001b[0m\u001b[1;34m\"notes keys:\"\u001b[0m\u001b[1;33m,\u001b[0m \u001b[0mwise_saying_notebook\u001b[0m\u001b[1;33m.\u001b[0m\u001b[0mnotes\u001b[0m\u001b[1;33m.\u001b[0m\u001b[0mkeys\u001b[0m\u001b[1;33m(\u001b[0m\u001b[1;33m)\u001b[0m\u001b[1;33m)\u001b[0m\u001b[1;33m\u001b[0m\u001b[1;33m\u001b[0m\u001b[0m\n",
      "\u001b[1;32m~\\AppData\\Local\\Temp/ipykernel_10080/2814873411.py\u001b[0m in \u001b[0;36madd_note\u001b[1;34m(self, note, page_number)\u001b[0m\n\u001b[0;32m     29\u001b[0m                 \u001b[1;32mif\u001b[0m \u001b[0mself\u001b[0m\u001b[1;33m.\u001b[0m\u001b[0mpages\u001b[0m \u001b[1;33m<\u001b[0m \u001b[1;36m301\u001b[0m\u001b[1;33m:\u001b[0m\u001b[1;33m\u001b[0m\u001b[1;33m\u001b[0m\u001b[0m\n\u001b[0;32m     30\u001b[0m                     \u001b[0mself\u001b[0m\u001b[1;33m.\u001b[0m\u001b[0mnotes\u001b[0m\u001b[1;33m[\u001b[0m\u001b[0mself\u001b[0m\u001b[1;33m.\u001b[0m\u001b[0mpages\u001b[0m\u001b[1;33m]\u001b[0m \u001b[1;33m=\u001b[0m \u001b[0mnote\u001b[0m\u001b[1;33m\u001b[0m\u001b[1;33m\u001b[0m\u001b[0m\n\u001b[1;32m---> 31\u001b[1;33m                     \u001b[0mself\u001b[0m\u001b[1;33m.\u001b[0m\u001b[0mpages\u001b[0m \u001b[1;33m+=\u001b[0m \u001b[1;36m1\u001b[0m\u001b[1;33m\u001b[0m\u001b[1;33m\u001b[0m\u001b[0m\n\u001b[0m\u001b[0;32m     32\u001b[0m                 \u001b[1;32melse\u001b[0m\u001b[1;33m:\u001b[0m\u001b[1;33m\u001b[0m\u001b[1;33m\u001b[0m\u001b[0m\n\u001b[0;32m     33\u001b[0m                     \u001b[1;32mfor\u001b[0m \u001b[0mi\u001b[0m \u001b[1;32min\u001b[0m \u001b[0mrange\u001b[0m\u001b[1;33m(\u001b[0m\u001b[1;36m300\u001b[0m\u001b[1;33m)\u001b[0m\u001b[1;33m:\u001b[0m\u001b[1;33m\u001b[0m\u001b[1;33m\u001b[0m\u001b[0m\n",
      "\u001b[1;32m~\\AppData\\Local\\Temp/ipykernel_10080/2814873411.py\u001b[0m in \u001b[0;36madd_note\u001b[1;34m(self, note, page_number)\u001b[0m\n\u001b[0;32m     29\u001b[0m                 \u001b[1;32mif\u001b[0m \u001b[0mself\u001b[0m\u001b[1;33m.\u001b[0m\u001b[0mpages\u001b[0m \u001b[1;33m<\u001b[0m \u001b[1;36m301\u001b[0m\u001b[1;33m:\u001b[0m\u001b[1;33m\u001b[0m\u001b[1;33m\u001b[0m\u001b[0m\n\u001b[0;32m     30\u001b[0m                     \u001b[0mself\u001b[0m\u001b[1;33m.\u001b[0m\u001b[0mnotes\u001b[0m\u001b[1;33m[\u001b[0m\u001b[0mself\u001b[0m\u001b[1;33m.\u001b[0m\u001b[0mpages\u001b[0m\u001b[1;33m]\u001b[0m \u001b[1;33m=\u001b[0m \u001b[0mnote\u001b[0m\u001b[1;33m\u001b[0m\u001b[1;33m\u001b[0m\u001b[0m\n\u001b[1;32m---> 31\u001b[1;33m                     \u001b[0mself\u001b[0m\u001b[1;33m.\u001b[0m\u001b[0mpages\u001b[0m \u001b[1;33m+=\u001b[0m \u001b[1;36m1\u001b[0m\u001b[1;33m\u001b[0m\u001b[1;33m\u001b[0m\u001b[0m\n\u001b[0m\u001b[0;32m     32\u001b[0m                 \u001b[1;32melse\u001b[0m\u001b[1;33m:\u001b[0m\u001b[1;33m\u001b[0m\u001b[1;33m\u001b[0m\u001b[0m\n\u001b[0;32m     33\u001b[0m                     \u001b[1;32mfor\u001b[0m \u001b[0mi\u001b[0m \u001b[1;32min\u001b[0m \u001b[0mrange\u001b[0m\u001b[1;33m(\u001b[0m\u001b[1;36m300\u001b[0m\u001b[1;33m)\u001b[0m\u001b[1;33m:\u001b[0m\u001b[1;33m\u001b[0m\u001b[1;33m\u001b[0m\u001b[0m\n",
      "\u001b[1;32mC:\\Anaconda3\\lib\\bdb.py\u001b[0m in \u001b[0;36mtrace_dispatch\u001b[1;34m(self, frame, event, arg)\u001b[0m\n\u001b[0;32m     86\u001b[0m             \u001b[1;32mreturn\u001b[0m \u001b[1;31m# None\u001b[0m\u001b[1;33m\u001b[0m\u001b[1;33m\u001b[0m\u001b[0m\n\u001b[0;32m     87\u001b[0m         \u001b[1;32mif\u001b[0m \u001b[0mevent\u001b[0m \u001b[1;33m==\u001b[0m \u001b[1;34m'line'\u001b[0m\u001b[1;33m:\u001b[0m\u001b[1;33m\u001b[0m\u001b[1;33m\u001b[0m\u001b[0m\n\u001b[1;32m---> 88\u001b[1;33m             \u001b[1;32mreturn\u001b[0m \u001b[0mself\u001b[0m\u001b[1;33m.\u001b[0m\u001b[0mdispatch_line\u001b[0m\u001b[1;33m(\u001b[0m\u001b[0mframe\u001b[0m\u001b[1;33m)\u001b[0m\u001b[1;33m\u001b[0m\u001b[1;33m\u001b[0m\u001b[0m\n\u001b[0m\u001b[0;32m     89\u001b[0m         \u001b[1;32mif\u001b[0m \u001b[0mevent\u001b[0m \u001b[1;33m==\u001b[0m \u001b[1;34m'call'\u001b[0m\u001b[1;33m:\u001b[0m\u001b[1;33m\u001b[0m\u001b[1;33m\u001b[0m\u001b[0m\n\u001b[0;32m     90\u001b[0m             \u001b[1;32mreturn\u001b[0m \u001b[0mself\u001b[0m\u001b[1;33m.\u001b[0m\u001b[0mdispatch_call\u001b[0m\u001b[1;33m(\u001b[0m\u001b[0mframe\u001b[0m\u001b[1;33m,\u001b[0m \u001b[0marg\u001b[0m\u001b[1;33m)\u001b[0m\u001b[1;33m\u001b[0m\u001b[1;33m\u001b[0m\u001b[0m\n",
      "\u001b[1;32mC:\\Anaconda3\\lib\\bdb.py\u001b[0m in \u001b[0;36mdispatch_line\u001b[1;34m(self, frame)\u001b[0m\n\u001b[0;32m    111\u001b[0m         \u001b[1;32mif\u001b[0m \u001b[0mself\u001b[0m\u001b[1;33m.\u001b[0m\u001b[0mstop_here\u001b[0m\u001b[1;33m(\u001b[0m\u001b[0mframe\u001b[0m\u001b[1;33m)\u001b[0m \u001b[1;32mor\u001b[0m \u001b[0mself\u001b[0m\u001b[1;33m.\u001b[0m\u001b[0mbreak_here\u001b[0m\u001b[1;33m(\u001b[0m\u001b[0mframe\u001b[0m\u001b[1;33m)\u001b[0m\u001b[1;33m:\u001b[0m\u001b[1;33m\u001b[0m\u001b[1;33m\u001b[0m\u001b[0m\n\u001b[0;32m    112\u001b[0m             \u001b[0mself\u001b[0m\u001b[1;33m.\u001b[0m\u001b[0muser_line\u001b[0m\u001b[1;33m(\u001b[0m\u001b[0mframe\u001b[0m\u001b[1;33m)\u001b[0m\u001b[1;33m\u001b[0m\u001b[1;33m\u001b[0m\u001b[0m\n\u001b[1;32m--> 113\u001b[1;33m             \u001b[1;32mif\u001b[0m \u001b[0mself\u001b[0m\u001b[1;33m.\u001b[0m\u001b[0mquitting\u001b[0m\u001b[1;33m:\u001b[0m \u001b[1;32mraise\u001b[0m \u001b[0mBdbQuit\u001b[0m\u001b[1;33m\u001b[0m\u001b[1;33m\u001b[0m\u001b[0m\n\u001b[0m\u001b[0;32m    114\u001b[0m         \u001b[1;32mreturn\u001b[0m \u001b[0mself\u001b[0m\u001b[1;33m.\u001b[0m\u001b[0mtrace_dispatch\u001b[0m\u001b[1;33m\u001b[0m\u001b[1;33m\u001b[0m\u001b[0m\n\u001b[0;32m    115\u001b[0m \u001b[1;33m\u001b[0m\u001b[0m\n",
      "\u001b[1;31mBdbQuit\u001b[0m: "
     ]
    }
   ],
   "source": [
    "#from notebook import Note\n",
    "#from notebook import NoteBook\n",
    "\n",
    "good_sentence = \"\"\"세상사는 데 도움이 되는 명언, 힘이 되는 명언, 용기를 주는 명언, 위로가 되는 명언, 좋은 명언 모음 100가지. 자주 보면 좋을 것 같아서 선별했습니다.\"\"\"\n",
    "note_1 = Note(good_sentence)\n",
    "\n",
    "good_sentence = \"\"\"삶이 있는 한 희망은 있다. - 키케로 \"\"\"\n",
    "note_2 = Note(good_sentence)\n",
    "\n",
    "good_sentence = \"\"\"하루에 3시간을 걸으면 7년 후에 지구를 한 바퀴 돌 수 있다. - 사무엘 존슨\"\"\"\n",
    "note_3 = Note(good_sentence)\n",
    "\n",
    "good_sentence = \"\"\"행복의 문이 하나 닫히면 다른 문이 열린다. 그러나 우리는 종종 닫힌 문을 멍하니 바라보다가 우리를 향해 열린 문을 보지 못하게 된다. - 헬렌 켈러\"\"\"\n",
    "note_4 = Note(good_sentence)\n",
    "\n",
    "wise_saying_notebook = NoteBook(\"명언 노트\")\n",
    "wise_saying_notebook.add_note(note_1)\n",
    "print(\"pages수: \", wise_saying_notebook.get_number_of_all_pages())\n",
    "\n",
    "wise_saying_notebook.add_note(note_2)\n",
    "print(\"pages수: \", wise_saying_notebook.get_number_of_all_pages())\n",
    "print(\"notes keys:\", wise_saying_notebook.notes.keys())\n",
    "\n",
    "wise_saying_notebook.add_note(note_3)\n",
    "wise_saying_notebook.add_note(note_4)\n",
    "print(\"pages수: \", wise_saying_notebook.get_number_of_all_pages())\n",
    "print(\"글자수: \", wise_saying_notebook.get_number_of_all_characters())\n",
    "print(\"notes keys:\", wise_saying_notebook.notes.keys())\n",
    "\n",
    "wise_saying_notebook.remove_note(3)\n",
    "print(\"notes keys:\", wise_saying_notebook.notes.keys())\n",
    "print(wise_saying_notebook.get_number_of_all_pages())\n",
    "\n",
    "wise_saying_notebook.add_note(note_1, 100)\n",
    "wise_saying_notebook.add_note(note_1, 100)\n",
    "\n",
    "for i in range(300):\n",
    "    wise_saying_notebook.add_note(note_1, i)\n",
    "\n",
    "print(wise_saying_notebook.get_number_of_all_pages())\n",
    "\n",
    "wise_saying_notebook.add_note(note_1)\n",
    "wise_saying_notebook.add_note(note_1)"
   ]
  },
  {
   "cell_type": "markdown",
   "id": "b075697c",
   "metadata": {
    "ExecuteTime": {
     "end_time": "2022-10-16T15:06:36.059728Z",
     "start_time": "2022-10-16T15:06:36.053728Z"
    }
   },
   "source": [
    "# 객체지향프로그램의 특징\n",
    "- 상속(inheritance)\n",
    "- 다형성(polymorphism)\n",
    "- 가시성(visibility)"
   ]
  },
  {
   "cell_type": "markdown",
   "id": "b245d93d",
   "metadata": {},
   "source": [
    "## 상속(inheritance)\n",
    "- 기존에 존재하는 클래스(부모)로부터 속성과 메서드를 이어받고 자신이 필요한 기능을 추가하는 기법\n",
    "\n",
    "![상속](../images/class_상속_P348.png)\n",
    "\n",
    "- object\n",
    "    - Person 클래스의 부모 클래스\n",
    "    - object는 파이썬에서 사용하는 가장 기본객체(base object)\n",
    "    - 파이썬 언어가 객체 지향 프로그래밍이므로 모든 변수는 객체이며 object 객체를 상속받는다"
   ]
  },
  {
   "cell_type": "code",
   "execution_count": null,
   "id": "c08c1a31",
   "metadata": {
    "ExecuteTime": {
     "end_time": "2022-10-17T00:25:16.322699Z",
     "start_time": "2022-10-17T00:25:16.314698Z"
    }
   },
   "outputs": [],
   "source": [
    "a = \"Hello\"\n",
    "type(a)"
   ]
  },
  {
   "cell_type": "code",
   "execution_count": null,
   "id": "e30c1fbf",
   "metadata": {
    "ExecuteTime": {
     "end_time": "2022-10-17T00:30:32.913945Z",
     "start_time": "2022-10-17T00:30:32.901945Z"
    }
   },
   "outputs": [],
   "source": [
    "class Person(object):\n",
    "    def __init__(self,name, age):\n",
    "        self.name = name\n",
    "        self.age = age\n",
    "\n",
    "class Korean(Person):\n",
    "    pass\n",
    "\n",
    "first_kor = Korean(\"CheolYoung\", \"20\")\n",
    "print(first_kor.name)"
   ]
  },
  {
   "cell_type": "markdown",
   "id": "7bce660a",
   "metadata": {},
   "source": [
    "### 상속구조\n",
    "\n",
    "![상속구조](../images/그림10-5_p350.png)\n",
    "\n",
    "- 부모 객체에는 일반적인 기능을, 자식 객체에는 부모보다 더 상세한 기능\n",
    "- **부모 클래스의 메서드를 재정의(overriding)**: \n",
    "    - 같은 일을 하는 메서드이지만 부모 객체보다 자식 객체가 좀 더 많은 정보를 줄 수도 있음\n",
    "    - 함수 이름과 필요한 매개변수는그대로 유지하면서 함수의 수행 코드를 변경"
   ]
  },
  {
   "cell_type": "code",
   "execution_count": null,
   "id": "63b04de5",
   "metadata": {
    "ExecuteTime": {
     "end_time": "2022-10-17T00:35:26.717373Z",
     "start_time": "2022-10-17T00:35:26.712373Z"
    }
   },
   "outputs": [],
   "source": [
    "class Person(object):                       # 부모 클래스 Person 선언\n",
    "    def __init__(self, name, age, gender):\n",
    "        self.name = name\n",
    "        self.age = age\n",
    "        self.gender = gender\n",
    "\n",
    "    def about_me(self):                     # 메서드 선언\n",
    "        print(\"저의 이름은\", self.name, \"이고요, 제 나이는\", str(self.age), \"살입니다.\")"
   ]
  },
  {
   "cell_type": "code",
   "execution_count": null,
   "id": "97e1336b",
   "metadata": {
    "ExecuteTime": {
     "end_time": "2022-10-17T00:36:04.191510Z",
     "start_time": "2022-10-17T00:36:04.172513Z"
    }
   },
   "outputs": [],
   "source": [
    "class Employee(Person):                                             # 부모 클래스 Person으로부터 상속\n",
    "    def __init__(self, name, age, gender, salary, hire_date):\n",
    "        super().__init__(name, age, gender)                         # 부모 객체 사용\n",
    "        self.salary = salary\n",
    "        self.hire_date = hire_date                                  # 속성값 추가\n",
    "\n",
    "    def do_work(self):                                              # 새로운 메서드 추가\n",
    "        print(\"열심히 일을 한다.\")\n",
    "\n",
    "    def about_me(self):                                             # 부모 클래스 함수 재정의\n",
    "        super().about_me()                                          # 부모 클래스 함수 사용\n",
    "        print(\"제 급여는\", self.salary, \"원이고, 제 입사일은\", self.hire_date, \"입니다.\")"
   ]
  },
  {
   "cell_type": "code",
   "execution_count": null,
   "id": "f67eb513",
   "metadata": {
    "ExecuteTime": {
     "end_time": "2022-10-17T00:43:24.318814Z",
     "start_time": "2022-10-17T00:43:24.301813Z"
    }
   },
   "outputs": [],
   "source": [
    "kim1 = Employee(\"철수\",40,\"남\",2500000, 20200301)\n",
    "kim1.about_me()\n",
    "kim1.do_work()"
   ]
  },
  {
   "cell_type": "markdown",
   "id": "7b7decc9",
   "metadata": {},
   "source": [
    "## 다형성(polymorphism)\n",
    "- 같은 이름의 메서드가 다른 기능을 할 수 있도록 하는 것\n",
    "- 다른 사람의 코드를 재사용(함수, 클래스의 역할 재정의)"
   ]
  },
  {
   "cell_type": "code",
   "execution_count": null,
   "id": "cee697a1",
   "metadata": {
    "ExecuteTime": {
     "end_time": "2022-10-17T00:52:11.177554Z",
     "start_time": "2022-10-17T00:52:11.163555Z"
    }
   },
   "outputs": [],
   "source": [
    "class Animal:\n",
    "    def __init__(self, name):\n",
    "        self.name = name\n",
    "    def talk(self):\n",
    "        raise NotImplementedError(\"Subclass must implement abstract method\")\n",
    "        # NotImplementedError: 하위 클래스에서 반드시 오버라이드하여 상세하게 구현해야 하는 메소드\n",
    "\n",
    "class Cat(Animal):\n",
    "    def talk(self):\n",
    "        return 'Meow야옹!'\n",
    "\n",
    "class Dog(Animal):\n",
    "    def talk(self):\n",
    "        return 'Woof! Woof멍멍!'\n",
    "\n",
    "animals = [Cat('Missy'), Cat('Mr. Mistoffelees'), Dog('Lassie')]\n",
    "for animal in animals:\n",
    "    print(animal.name + ': ' + animal.talk())\n"
   ]
  },
  {
   "cell_type": "code",
   "execution_count": null,
   "id": "7e42f22b",
   "metadata": {
    "ExecuteTime": {
     "end_time": "2022-10-17T00:57:11.383086Z",
     "start_time": "2022-10-17T00:57:11.361085Z"
    }
   },
   "outputs": [],
   "source": [
    "any_animal = Animal(\"Any\")\n",
    "any_animal.talk()"
   ]
  },
  {
   "cell_type": "markdown",
   "id": "f8950be8",
   "metadata": {},
   "source": [
    "## 가시성(visibility)\n",
    "- 객체의 정보를 볼 수 있는 레벨을 조절하여 객체의 정보 접근을 숨기는 것\n",
    "\n",
    "### 캡슐화(encapsulation)\n",
    "- 객체의 재사용을 위해서 구현의 세부적인 내용은 몰라도 사용방법은 알아야 함.\n",
    "- 객체의 매개변수 인터페이스만 제공하고 구현 세부 사항을 감춤\n",
    "![캡슐화](../images/캡슐화1.png)\n",
    "\n",
    "- 예: 자동차가 어떻게 동작되는지 알 필요 없이 자동차를 사용하는 방법만 알면 됨\n",
    "![캡슐화](../images/캡슐화.png)"
   ]
  },
  {
   "cell_type": "markdown",
   "id": "4be04586",
   "metadata": {},
   "source": [
    "### 정보 은닉(information hiding)\n",
    "- 외부에서 코드 내부를 볼 수 없게 내부의 정보를 숨기는 기능(private 변수)\n",
    "- private 변수: 변수 이름 앞에 __을 붙임 \n",
    "\n",
    "![정보은닉](../images/정보은닉.png)"
   ]
  },
  {
   "cell_type": "code",
   "execution_count": null,
   "id": "9bae2ba4",
   "metadata": {
    "ExecuteTime": {
     "end_time": "2022-10-17T01:11:08.410700Z",
     "start_time": "2022-10-17T01:11:08.389699Z"
    }
   },
   "outputs": [],
   "source": [
    "class Product(object):\n",
    "    pass\n",
    "\n",
    "class Inventory(object):\n",
    "    def __init__(self):\n",
    "        self.__items = []          # 클래스 내부용 변수, 외부에는 호출하여 사용하지 못함(private variable), 정보은닉\n",
    "    def add_new_item(self, product):\n",
    "        if type(product) == Product:\n",
    "            self.__items.append(product)\n",
    "            print(\"new item added\")\n",
    "        else:\n",
    "            raise ValueError(\"Invalid Item\")\n",
    "    def get_number_of_items(self):\n",
    "        return len(self.__items)\n",
    "\n",
    "my_inventory = Inventory()\n",
    "my_inventory.add_new_item(Product())\n",
    "my_inventory.add_new_item(Product())\n",
    "\n",
    "my_inventory.__items       # add_new_item(), get_number_of_items()를 통하지 않고 직접 __items 접근시 오류(가시성)"
   ]
  },
  {
   "cell_type": "code",
   "execution_count": null,
   "id": "c8d0ceda",
   "metadata": {
    "ExecuteTime": {
     "end_time": "2022-10-17T01:20:43.369062Z",
     "start_time": "2022-10-17T01:20:43.354064Z"
    }
   },
   "outputs": [],
   "source": [
    "class Product(object):\n",
    "    pass\n",
    "\n",
    "class Inventory(object):\n",
    "    def __init__(self):\n",
    "        self.__items = []\n",
    "    def add_new_item(self, product):\n",
    "        if type(product) == Product:\n",
    "            self.__items.append(product)\n",
    "            print(\"new item added\")\n",
    "        else:\n",
    "            raise ValueError(\"Invalid Item\")\n",
    "    def get_number_of_items(self):\n",
    "        return len(self.__items)\n",
    "\n",
    "class Inventory(object):            # private 변수로 선언(타인이 접근 못 함)\n",
    "    def __init__(self):\n",
    "        self.__items = []\n",
    "\n",
    "    @property                       # property 데코레이터(숨겨진 변수 반환) => public variable\n",
    "    def items(self):\n",
    "        return self.__items\n"
   ]
  },
  {
   "cell_type": "code",
   "execution_count": null,
   "id": "1df694cb",
   "metadata": {
    "ExecuteTime": {
     "end_time": "2022-10-17T01:21:43.844409Z",
     "start_time": "2022-10-17T01:21:43.836410Z"
    }
   },
   "outputs": [],
   "source": [
    "my_inventory = Inventory()\n",
    "items = my_inventory.items\n",
    "items.append(Product())"
   ]
  },
  {
   "cell_type": "markdown",
   "id": "fa7ca761",
   "metadata": {},
   "source": [
    "![가시성](../images/class_가시성_P355.png)"
   ]
  },
  {
   "cell_type": "markdown",
   "id": "f384e275",
   "metadata": {},
   "source": [
    "# 자동차 class\n",
    "## 자동차 관련 기본 class"
   ]
  },
  {
   "cell_type": "code",
   "execution_count": null,
   "id": "bc64fcb0",
   "metadata": {},
   "outputs": [],
   "source": [
    "class Car:\n",
    "    \"\"\"A simple attempt to represent a car.\"\"\"\n",
    "\n",
    "    def __init__(self, make, model, year):\n",
    "        \"\"\"Initialize attributes to describe a car.\"\"\"\n",
    "        self.make = make\n",
    "        self.model = model\n",
    "        self.year = year\n",
    "        self.odometer_reading = 0\n",
    "        \n",
    "    def get_descriptive_name(self):\n",
    "        \"\"\"Return a neatly formatted descriptive name.\"\"\"\n",
    "        long_name = f\"{self.year} {self.make} {self.model}\"\n",
    "        return long_name.title()\n",
    "\n",
    "    def read_odometer(self):\n",
    "        \"\"\"Print a statement showing the car's mileage.\"\"\"\n",
    "        print(f\"This car has {self.odometer_reading} miles on it.\")\n",
    "\n",
    "    def update_odometer(self, mileage):\n",
    "        \"\"\"\n",
    "        Set the odometer reading to the given value.\n",
    "        Reject the change if it attempts to roll the odometer back.\n",
    "        \"\"\"\n",
    "        if mileage >= self.odometer_reading:\n",
    "            self.odometer_reading = mileage\n",
    "        else:\n",
    "            print(\"You can't roll back an odometer!\")\n",
    "\n",
    "    def increment_odometer(self, miles):\n",
    "        \"\"\"Add the given amount to the odometer reading.\"\"\"\n",
    "        self.odometer_reading += miles\n",
    "    \n",
    "my_used_car = Car('subaru', 'outback', 2015)\n",
    "print(my_used_car.get_descriptive_name())\n",
    "\n",
    "my_used_car.update_odometer(23_500)\n",
    "my_used_car.read_odometer()\n",
    "\n",
    "my_used_car.increment_odometer(100)\n",
    "my_used_car.read_odometer()"
   ]
  },
  {
   "cell_type": "markdown",
   "id": "372323d4",
   "metadata": {},
   "source": [
    "## 전기 자동차 class\n",
    "- 기본 자동차 class 상속"
   ]
  },
  {
   "cell_type": "code",
   "execution_count": null,
   "id": "dbcd5da4",
   "metadata": {},
   "outputs": [],
   "source": [
    "class Car:\n",
    "    \"\"\"A simple attempt to represent a car.\"\"\"\n",
    "\n",
    "    def __init__(self, make, model, year):\n",
    "        self.make = make\n",
    "        self.model = model\n",
    "        self.year = year\n",
    "        self.odometer_reading = 0\n",
    "        \n",
    "    def get_descriptive_name(self):\n",
    "        long_name = f\"{self.year} {self.make} {self.model}\"\n",
    "        return long_name.title()\n",
    "    \n",
    "    def read_odometer(self):\n",
    "        print(f\"This car has {self.odometer_reading} miles on it.\")\n",
    "        \n",
    "    def update_odometer(self, mileage):\n",
    "        if mileage >= self.odometer_reading:\n",
    "            self.odometer_reading = mileage\n",
    "        else:\n",
    "            print(\"You can't roll back an odometer!\")\n",
    "    \n",
    "    def increment_odometer(self, miles):\n",
    "        self.odometer_reading += miles\n",
    "\n",
    "class ElectricCar(Car):\n",
    "    \"\"\"Represent aspects of a car, specific to electric vehicles.\"\"\"\n",
    "    \n",
    "    def __init__(self, make, model, year):\n",
    "        \"\"\"\n",
    "        Initialize attributes of the parent class.\n",
    "        Then initialize attributes specific to an electric car.\n",
    "        \"\"\"\n",
    "        super().__init__(make, model, year)\n",
    "        self.battery_size = 75\n",
    "\n",
    "    def describe_battery(self):\n",
    "        \"\"\"Print a statement describing the battery size.\"\"\"\n",
    "        print(f\"This car has a {self.battery_size}-kWh battery.\")\n",
    "\n",
    "my_tesla = ElectricCar('tesla', 'model s', 2019)\n",
    "print(my_tesla.get_descriptive_name())\n",
    "my_tesla.describe_battery()"
   ]
  },
  {
   "cell_type": "markdown",
   "id": "86e760c5",
   "metadata": {},
   "source": [
    "## 밧데리 class 분리"
   ]
  },
  {
   "cell_type": "code",
   "execution_count": 10,
   "id": "b5b9fcef",
   "metadata": {
    "ExecuteTime": {
     "end_time": "2022-11-02T01:37:22.315710Z",
     "start_time": "2022-11-02T01:37:22.304709Z"
    }
   },
   "outputs": [
    {
     "name": "stdout",
     "output_type": "stream",
     "text": [
      "2019 Tesla Model S\n",
      "This car has a 75-kWh battery.\n",
      "This car can go about 260 miles on a full charge.\n"
     ]
    }
   ],
   "source": [
    "class Car:\n",
    "    \"\"\"A simple attempt to represent a car.\"\"\"\n",
    "\n",
    "    def __init__(self, make, model, year):\n",
    "        self.make = make\n",
    "        self.model = model\n",
    "        self.year = year\n",
    "        self.odometer_reading = 0\n",
    "        \n",
    "    def get_descriptive_name(self):\n",
    "        long_name = f\"{self.year} {self.make} {self.model}\"\n",
    "        return long_name.title()\n",
    "    \n",
    "    def read_odometer(self):\n",
    "        print(f\"This car has {self.odometer_reading} miles on it.\")\n",
    "        \n",
    "    def update_odometer(self, mileage):\n",
    "        if mileage >= self.odometer_reading:\n",
    "            self.odometer_reading = mileage\n",
    "        else:\n",
    "            print(\"You can't roll back an odometer!\")\n",
    "    \n",
    "    def increment_odometer(self, miles):\n",
    "        self.odometer_reading += miles\n",
    "\n",
    "class Battery:\n",
    "    \"\"\"A simple attempt to model a battery for an electric car.\"\"\"\n",
    "    \n",
    "    def __init__(self, battery_size=75):\n",
    "        \"\"\"Initialize the battery's attributes.\"\"\"\n",
    "        self.battery_size = battery_size\n",
    "\n",
    "    def describe_battery(self):\n",
    "        \"\"\"Print a statement describing the battery size.\"\"\"\n",
    "        print(f\"This car has a {self.battery_size}-kWh battery.\")\n",
    "\n",
    "    def get_range(self):\n",
    "        \"\"\"Print a statement about the range this battery provides.\"\"\"\n",
    "        if self.battery_size == 75:\n",
    "            range = 260\n",
    "        elif self.battery_size == 100:\n",
    "            range = 315\n",
    "            \n",
    "        print(f\"This car can go about {range} miles on a full charge.\")\n",
    "\n",
    "\n",
    "class ElectricCar(Car):\n",
    "    \"\"\"Represent aspects of a car, specific to electric vehicles.\"\"\"\n",
    "    \n",
    "    def __init__(self, make, model, year):\n",
    "        \"\"\"\n",
    "        Initialize attributes of the parent class.\n",
    "        Then initialize attributes specific to an electric car.\n",
    "        \"\"\"\n",
    "        super().__init__(make, model, year)\n",
    "        self.battery = Battery()\n",
    "\n",
    "    def describe_battery(self):\n",
    "        \"\"\"Print a statement describing the battery size.\"\"\"\n",
    "        print(f\"This car has a {self.battery_size}-kWh battery.\")\n",
    "\n",
    "my_tesla = ElectricCar('tesla', 'model s', 2019)\n",
    "print(my_tesla.get_descriptive_name())\n",
    "my_tesla.battery.describe_battery()\n",
    "my_tesla.battery.get_range()"
   ]
  },
  {
   "attachments": {
    "image.png": {
     "image/png": "[encoded data removed]"
    }
   },
   "cell_type": "markdown",
   "id": "01ff0993",
   "metadata": {},
   "source": [
    "# import module, class\n",
    "- importing_classes 폴더\n",
    "![image.png](attachment:image.png)"
   ]
  },
  {
   "cell_type": "markdown",
   "id": "9c6e4493",
   "metadata": {},
   "source": [
    "## car.py"
   ]
  },
  {
   "cell_type": "code",
   "execution_count": 11,
   "id": "1bcd5da1",
   "metadata": {
    "ExecuteTime": {
     "end_time": "2022-11-02T01:37:26.098989Z",
     "start_time": "2022-11-02T01:37:26.082990Z"
    }
   },
   "outputs": [],
   "source": [
    "\"\"\"A class that can be used to represent a car.\"\"\"\n",
    "\n",
    "class Car:\n",
    "    \"\"\"A simple attempt to represent a car.\"\"\"\n",
    "\n",
    "    def __init__(self, make, model, year):\n",
    "        \"\"\"Initialize attributes to describe a car.\"\"\"\n",
    "        self.make = make\n",
    "        self.model = model\n",
    "        self.year = year\n",
    "        self.odometer_reading = 0\n",
    "        \n",
    "    def get_descriptive_name(self):\n",
    "        \"\"\"Return a neatly formatted descriptive name.\"\"\"\n",
    "        long_name = f\"{self.year} {self.make} {self.model}\"\n",
    "        return long_name.title()\n",
    "    \n",
    "    def read_odometer(self):\n",
    "        \"\"\"Print a statement showing the car's mileage.\"\"\"\n",
    "        print(f\"This car has {self.odometer_reading} miles on it.\")\n",
    "        \n",
    "    def update_odometer(self, mileage):\n",
    "        \"\"\"\n",
    "        Set the odometer reading to the given value.\n",
    "        Reject the change if it attempts to roll the odometer back.\n",
    "        \"\"\"\n",
    "        if mileage >= self.odometer_reading:\n",
    "            self.odometer_reading = mileage\n",
    "        else:\n",
    "            print(\"You can't roll back an odometer!\")\n",
    "    \n",
    "    def increment_odometer(self, miles):\n",
    "        \"\"\"Add the given amount to the odometer reading.\"\"\"\n",
    "        self.odometer_reading += miles\n",
    "\n",
    "class Battery:\n",
    "    \"\"\"A simple attempt to model a battery for an electric car.\"\"\"\n",
    "\n",
    "    def __init__(self, battery_size=75):\n",
    "        \"\"\"Initialize the battery's attributes.\"\"\"\n",
    "        self.battery_size = battery_size\n",
    "\n",
    "    def describe_battery(self):\n",
    "        \"\"\"Print a statement describing the battery size.\"\"\"\n",
    "        print(f\"This car has a {self.battery_size}-kWh battery.\")\n",
    "        \n",
    "    def get_range(self):\n",
    "        \"\"\"Print a statement about the range this battery provides.\"\"\"\n",
    "        if self.battery_size == 75:\n",
    "            range = 260\n",
    "        elif self.battery_size == 100:\n",
    "            range = 315\n",
    "            \n",
    "        print(f\"This car can go about {range} miles on a full charge.\")\n",
    "    \n",
    "class ElectricCar(Car):\n",
    "    \"\"\"Models aspects of a car, specific to electric vehicles.\"\"\"\n",
    "\n",
    "    def __init__(self, make, model, year):\n",
    "        \"\"\"\n",
    "        Initialize attributes of the parent class.\n",
    "        Then initialize attributes specific to an electric car.\n",
    "        \"\"\"\n",
    "        super().__init__(make, model, year)\n",
    "        self.battery = Battery()\n"
   ]
  },
  {
   "cell_type": "markdown",
   "id": "86848b5c",
   "metadata": {},
   "source": [
    "## my_car.py"
   ]
  },
  {
   "cell_type": "code",
   "execution_count": 12,
   "id": "6d60c3f0",
   "metadata": {
    "ExecuteTime": {
     "end_time": "2022-11-02T01:37:28.393352Z",
     "start_time": "2022-11-02T01:37:28.376353Z"
    }
   },
   "outputs": [
    {
     "name": "stdout",
     "output_type": "stream",
     "text": [
      "2019 Audi A4\n",
      "This car has 23 miles on it.\n"
     ]
    }
   ],
   "source": [
    "#from car import Car\n",
    "\n",
    "my_new_car = Car('audi', 'a4', 2019)\n",
    "print(my_new_car.get_descriptive_name())\n",
    "\n",
    "my_new_car.odometer_reading = 23\n",
    "my_new_car.read_odometer()"
   ]
  },
  {
   "cell_type": "markdown",
   "id": "f3632d93",
   "metadata": {},
   "source": [
    "## my_cars.py"
   ]
  },
  {
   "cell_type": "code",
   "execution_count": 18,
   "id": "612dfe4c",
   "metadata": {
    "ExecuteTime": {
     "end_time": "2022-11-02T01:38:53.136691Z",
     "start_time": "2022-11-02T01:38:53.130691Z"
    }
   },
   "outputs": [
    {
     "name": "stdout",
     "output_type": "stream",
     "text": [
      "2019 Volkswagen Beetle\n",
      "2019 Tesla Roadster\n"
     ]
    }
   ],
   "source": [
    "#import car      # car module 전체 import\n",
    "\n",
    "#my_beetle = car.Car('volkswagen', 'beetle', 2019)\n",
    "my_beetle = Car('volkswagen', 'beetle', 2019)\n",
    "print(my_beetle.get_descriptive_name())\n",
    "\n",
    "#my_tesla = car.ElectricCar('tesla', 'roadster', 2019)\n",
    "my_tesla = ElectricCar('tesla', 'roadster', 2019)\n",
    "print(my_tesla.get_descriptive_name())"
   ]
  },
  {
   "cell_type": "markdown",
   "id": "f77e1950",
   "metadata": {},
   "source": [
    "## my_electric_car.py"
   ]
  },
  {
   "cell_type": "code",
   "execution_count": 16,
   "id": "b6ca6d8e",
   "metadata": {
    "ExecuteTime": {
     "end_time": "2022-11-02T01:38:07.752675Z",
     "start_time": "2022-11-02T01:38:07.738675Z"
    }
   },
   "outputs": [
    {
     "name": "stdout",
     "output_type": "stream",
     "text": [
      "2019 Tesla Model S\n",
      "This car has a 75-kWh battery.\n",
      "This car can go about 260 miles on a full charge.\n"
     ]
    }
   ],
   "source": [
    "my_tesla = ElectricCar('tesla', 'model s', 2019)\n",
    "\n",
    "print(my_tesla.get_descriptive_name())\n",
    "my_tesla.battery.describe_battery()\n",
    "my_tesla.battery.get_range()"
   ]
  },
  {
   "cell_type": "code",
   "execution_count": 23,
   "id": "b633ff84",
   "metadata": {
    "ExecuteTime": {
     "end_time": "2022-11-02T03:51:28.514953Z",
     "start_time": "2022-11-02T03:51:28.511956Z"
    }
   },
   "outputs": [],
   "source": [
    "def fib(n):\n",
    "    a, b = 0, 1\n",
    "    while b < n:\n",
    "        print(b, end=' ')\n",
    "        a, b = b, a+b\n",
    "    print()"
   ]
  },
  {
   "cell_type": "code",
   "execution_count": 24,
   "id": "251198db",
   "metadata": {
    "ExecuteTime": {
     "end_time": "2022-11-02T03:51:29.719391Z",
     "start_time": "2022-11-02T03:51:29.714393Z"
    }
   },
   "outputs": [
    {
     "name": "stdout",
     "output_type": "stream",
     "text": [
      "1 1 2 3 5 8 13 21 34 55 89 \n"
     ]
    }
   ],
   "source": [
    "fib(100)"
   ]
  },
  {
   "cell_type": "code",
   "execution_count": null,
   "id": "c9451fe8",
   "metadata": {},
   "outputs": [],
   "source": []
  }
 ],
 "metadata": {
  "hide_input": false,
  "kernelspec": {
   "display_name": "Python 3 (ipykernel)",
   "language": "python",
   "name": "python3"
  },
  "language_info": {
   "codemirror_mode": {
    "name": "ipython",
    "version": 3
   },
   "file_extension": ".py",
   "mimetype": "text/x-python",
   "name": "python",
   "nbconvert_exporter": "python",
   "pygments_lexer": "ipython3",
   "version": "3.8.10"
  },
  "toc": {
   "base_numbering": 1,
   "nav_menu": {},
   "number_sections": true,
   "sideBar": true,
   "skip_h1_title": false,
   "title_cell": "Table of Contents",
   "title_sidebar": "Contents",
   "toc_cell": false,
   "toc_position": {},
   "toc_section_display": true,
   "toc_window_display": false
  },
  "varInspector": {
   "cols": {
    "lenName": 16,
    "lenType": 16,
    "lenVar": 40
   },
   "kernels_config": {
    "python": {
     "delete_cmd_postfix": "",
     "delete_cmd_prefix": "del ",
     "library": "var_list.py",
     "varRefreshCmd": "print(var_dic_list())"
    },
    "r": {
     "delete_cmd_postfix": ") ",
     "delete_cmd_prefix": "rm(",
     "library": "var_list.r",
     "varRefreshCmd": "cat(var_dic_list()) "
    }
   },
   "types_to_exclude": [
    "module",
    "function",
    "builtin_function_or_method",
    "instance",
    "_Feature"
   ],
   "window_display": false
  }
 },
 "nbformat": 4,
 "nbformat_minor": 5
}
